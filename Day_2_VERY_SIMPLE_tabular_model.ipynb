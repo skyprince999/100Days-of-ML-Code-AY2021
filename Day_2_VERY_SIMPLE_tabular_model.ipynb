{
  "nbformat": 4,
  "nbformat_minor": 0,
  "metadata": {
    "kernelspec": {
      "language": "python",
      "display_name": "Python 3",
      "name": "python3"
    },
    "language_info": {
      "pygments_lexer": "ipython3",
      "nbconvert_exporter": "python",
      "version": "3.6.4",
      "file_extension": ".py",
      "codemirror_mode": {
        "name": "ipython",
        "version": 3
      },
      "name": "python",
      "mimetype": "text/x-python"
    },
    "colab": {
      "name": "Day 2# VERY SIMPLE tabular model.ipynb",
      "provenance": [],
      "toc_visible": true,
      "include_colab_link": true
    }
  },
  "cells": [
    {
      "cell_type": "markdown",
      "metadata": {
        "id": "view-in-github",
        "colab_type": "text"
      },
      "source": [
        "<a href=\"https://colab.research.google.com/github/skyprince999/100Days-of-ML-Code-AY2021/blob/main/Day_2_VERY_SIMPLE_tabular_model.ipynb\" target=\"_parent\"><img src=\"https://colab.research.google.com/assets/colab-badge.svg\" alt=\"Open In Colab\"/></a>"
      ]
    },
    {
      "cell_type": "markdown",
      "metadata": {
        "id": "T-o4TgJYIKBs"
      },
      "source": [
        "## Installing packages & dependencies\r\n",
        "\r\n",
        "To run this notebook. You have to upload the data files from the following Kaggle competition:\r\n",
        "\r\n",
        "https://www.kaggle.com/c/tabular-playground-series-mar-2021\r\n",
        "\r\n",
        "This notebook follows the steps provided by Jeremey Howard in Chap 7 of his book - \"Deep Learning\""
      ]
    },
    {
      "cell_type": "code",
      "metadata": {
        "trusted": true,
        "colab": {
          "base_uri": "https://localhost:8080/"
        },
        "id": "5q3A6csZIKBx",
        "outputId": "5cd8749c-6ae5-4eeb-9ee9-a716ebcd40cc"
      },
      "source": [
        "!pip install -Uqq fastbook kaggle waterfallcharts treeinterpreter dtreeviz"
      ],
      "execution_count": 1,
      "outputs": [
        {
          "output_type": "stream",
          "text": [
            "\u001b[K     |████████████████████████████████| 727kB 4.2MB/s \n",
            "\u001b[K     |████████████████████████████████| 61kB 4.9MB/s \n",
            "\u001b[K     |████████████████████████████████| 51kB 4.4MB/s \n",
            "\u001b[K     |████████████████████████████████| 51kB 4.9MB/s \n",
            "\u001b[K     |████████████████████████████████| 1.2MB 9.1MB/s \n",
            "\u001b[K     |████████████████████████████████| 194kB 17.4MB/s \n",
            "\u001b[K     |████████████████████████████████| 51kB 4.2MB/s \n",
            "\u001b[K     |████████████████████████████████| 61kB 5.2MB/s \n",
            "\u001b[K     |████████████████████████████████| 12.8MB 268kB/s \n",
            "\u001b[K     |████████████████████████████████| 776.8MB 23kB/s \n",
            "\u001b[?25h  Building wheel for kaggle (setup.py) ... \u001b[?25l\u001b[?25hdone\n",
            "  Building wheel for waterfallcharts (setup.py) ... \u001b[?25l\u001b[?25hdone\n",
            "  Building wheel for dtreeviz (setup.py) ... \u001b[?25l\u001b[?25hdone\n",
            "\u001b[31mERROR: torchtext 0.9.0 has requirement torch==1.8.0, but you'll have torch 1.7.1 which is incompatible.\u001b[0m\n"
          ],
          "name": "stdout"
        }
      ]
    },
    {
      "cell_type": "code",
      "metadata": {
        "colab": {
          "base_uri": "https://localhost:8080/"
        },
        "id": "N-5lDrfZIlpp",
        "outputId": "d3d6628b-05ba-47fa-eae8-7268dc99d2a8"
      },
      "source": [
        "!unzip train.csv.zip"
      ],
      "execution_count": 2,
      "outputs": [
        {
          "output_type": "stream",
          "text": [
            "Archive:  train.csv.zip\n",
            "  inflating: train.csv               \n"
          ],
          "name": "stdout"
        }
      ]
    },
    {
      "cell_type": "code",
      "metadata": {
        "_uuid": "8f2839f25d086af736a60e9eeb907d3b93b6e0e5",
        "_cell_guid": "b1076dfc-b9ad-4769-8c92-a6c4dae69d19",
        "trusted": true,
        "id": "aWFVHUclIKB2"
      },
      "source": [
        "#hide\n",
        "import numpy as np # linear algebra\n",
        "import pandas as pd # data processing, CSV file I/O (e.g. pd.read_csv)\n",
        "\n",
        "import os\n",
        "for dirname, _, filenames in os.walk('/kaggle/input'):\n",
        "    for filename in filenames:\n",
        "        print(os.path.join(dirname, filename))\n",
        "        \n",
        "from fastbook import *\n",
        "from pandas.api.types import is_string_dtype, is_numeric_dtype, is_categorical_dtype\n",
        "from fastai.tabular.all import *\n",
        "\n",
        "from sklearn.ensemble import RandomForestClassifier\n",
        "from sklearn.tree import DecisionTreeClassifier\n",
        "from sklearn.metrics import roc_curve, auc, roc_auc_score, confusion_matrix\n",
        "\n",
        "from dtreeviz.trees import *\n",
        "from IPython.display import Image, display_svg, SVG\n",
        "\n",
        "import matplotlib.pyplot as plt\n",
        "import numpy as np\n",
        "import itertools\n",
        "\n",
        "pd.options.display.max_rows = 20\n",
        "pd.options.display.max_columns = 8"
      ],
      "execution_count": 3,
      "outputs": []
    },
    {
      "cell_type": "code",
      "metadata": {
        "colab": {
          "base_uri": "https://localhost:8080/"
        },
        "id": "wEgE6r5HJwTT",
        "outputId": "55768348-101c-4a0f-8daf-d3e92618b59c"
      },
      "source": [
        "!pwd"
      ],
      "execution_count": 6,
      "outputs": [
        {
          "output_type": "stream",
          "text": [
            "/content\n"
          ],
          "name": "stdout"
        }
      ]
    },
    {
      "cell_type": "code",
      "metadata": {
        "trusted": true,
        "colab": {
          "base_uri": "https://localhost:8080/"
        },
        "id": "266r_X7QIKB3",
        "outputId": "08f62ff5-1e6b-42e3-a55e-0a0a4cde72c2"
      },
      "source": [
        "path = Path('/content')   # /kaggle/input/tabular-playground-series-mar-2021/\n",
        "df = pd.read_csv(path/'train.csv', low_memory=False)\n",
        "print(df.shape)\n",
        "df.columns"
      ],
      "execution_count": 7,
      "outputs": [
        {
          "output_type": "stream",
          "text": [
            "(300000, 32)\n"
          ],
          "name": "stdout"
        },
        {
          "output_type": "execute_result",
          "data": {
            "text/plain": [
              "Index(['id', 'cat0', 'cat1', 'cat2', 'cat3', 'cat4', 'cat5', 'cat6', 'cat7',\n",
              "       'cat8', 'cat9', 'cat10', 'cat11', 'cat12', 'cat13', 'cat14', 'cat15',\n",
              "       'cat16', 'cat17', 'cat18', 'cont0', 'cont1', 'cont2', 'cont3', 'cont4',\n",
              "       'cont5', 'cont6', 'cont7', 'cont8', 'cont9', 'cont10', 'target'],\n",
              "      dtype='object')"
            ]
          },
          "metadata": {
            "tags": []
          },
          "execution_count": 7
        }
      ]
    },
    {
      "cell_type": "markdown",
      "metadata": {
        "id": "l-wOIeRVIKB4"
      },
      "source": [
        "## Read the data \n",
        "\n",
        "There are a lot of columns (!!!) Both categorical as well as continous. \n",
        "Lets take one of the categorical variables and examine it\n",
        "\n",
        "But first lets print out all the unique values of each categorical variable"
      ]
    },
    {
      "cell_type": "code",
      "metadata": {
        "trusted": true,
        "colab": {
          "base_uri": "https://localhost:8080/"
        },
        "id": "GAS4dUW7IKB5",
        "outputId": "37d6eeb8-ef4f-4e79-bb14-aa12cc0e091e"
      },
      "source": [
        "for col in df.columns:\n",
        "    if col.startswith('cat'):\n",
        "        print(f\"{col} :: \",df[col].unique())\n",
        "        print()"
      ],
      "execution_count": 8,
      "outputs": [
        {
          "output_type": "stream",
          "text": [
            "cat0 ::  ['A' 'B']\n",
            "\n",
            "cat1 ::  ['I' 'K' 'A' 'F' 'L' 'N' 'J' 'M' 'O' 'B' 'H' 'G' 'C' 'D' 'E']\n",
            "\n",
            "cat2 ::  ['A' 'G' 'C' 'O' 'D' 'F' 'Q' 'J' 'L' 'I' 'M' 'H' 'U' 'N' 'R' 'E' 'K' 'S' 'B']\n",
            "\n",
            "cat3 ::  ['B' 'A' 'C' 'D' 'G' 'N' 'H' 'F' 'E' 'K' 'I' 'J' 'L']\n",
            "\n",
            "cat4 ::  ['B' 'E' 'H' 'I' 'D' 'F' 'G' 'M' 'K' 'J' 'T' 'C' 'L' 'P' 'S' 'O' 'N' 'Q' 'A' 'R']\n",
            "\n",
            "cat5 ::  ['BI' 'AB' 'BU' 'M' 'T' 'K' 'L' 'CG' 'BG' 'CI' 'N' 'G' 'X' 'Q' 'O' 'BO' 'BB' 'BX' 'AF' 'BA' 'BQ' 'CA' 'D' 'AQ' 'AS' 'AW' 'BE' 'CK' 'AL' 'BK' 'AT' 'CL' 'C' 'CF' 'I' 'AH' 'CD' 'AY' 'BY' 'F' 'AI' 'R'\n",
            " 'BC' 'BH' 'AA' 'V' 'CE' 'BD' 'AE' 'U' 'AU' 'AP' 'CJ' 'AN' 'AX' 'AR' 'BL' 'J' 'ZZ' 'BR' 'BV' 'H' 'A' 'CC' 'P' 'CH' 'BJ' 'CB' 'BS' 'BN' 'AO' 'AJ' 'BT' 'S' 'E' 'Y' 'AK' 'AM' 'B' 'BM' 'AV' 'AG' 'BF'\n",
            " 'BP']\n",
            "\n",
            "cat6 ::  ['A' 'K' 'C' 'I' 'G' 'E' 'M' 'F' 'O' 'D' 'Q' 'S' 'B' 'Y' 'U' 'W']\n",
            "\n",
            "cat7 ::  ['S' 'W' 'E' 'Y' 'G' 'AV' 'AF' 'AK' 'AH' 'AN' 'J' 'H' 'U' 'AG' 'AS' 'AA' 'B' 'F' 'AI' 'K' 'AD' 'D' 'N' 'I' 'AW' 'AY' 'AX' 'L' 'AL' 'C' 'R' 'P' 'AU' 'O' 'AR' 'AO' 'AE' 'AP' 'A' 'V' 'Q' 'AQ' 'X' 'BA'\n",
            " 'AM' 'AC' 'M' 'AT' 'T' 'AB' 'AJ']\n",
            "\n",
            "cat8 ::  ['Q' 'AD' 'BM' 'Y' 'AG' 'AE' 'AX' 'H' 'BD' 'AO' 'X' 'L' 'M' 'AT' 'BH' 'J' 'AU' 'AF' 'S' 'BO' 'N' 'AN' 'BC' 'AS' 'K' 'AW' 'I' 'BJ' 'F' 'A' 'AJ' 'AK' 'BL' 'AL' 'AY' 'BN' 'AM' 'AV' 'U' 'BI' 'BK' 'AP'\n",
            " 'P' 'E' 'BG' 'O' 'C' 'AI' 'BB' 'G' 'AH' 'BA' 'V' 'B' 'BF' 'BE' 'AQ' 'AC' 'AB' 'AR' 'T']\n",
            "\n",
            "cat9 ::  ['A' 'F' 'L' 'C' 'E' 'I' 'J' 'N' 'V' 'R' 'D' 'X' 'B' 'Q' 'W' 'G' 'O' 'U' 'S']\n",
            "\n",
            "cat10 ::  ['LO' 'HJ' 'DJ' 'KV' 'DP' 'GE' 'HQ' 'HC' 'EK' 'GS' 'HG' 'BY' 'HX' 'JK' 'FJ' 'LM' 'HK' 'MD' 'IG' 'JG' 'AN' 'AD' 'MC' 'KW' 'CK' 'LF' 'CS' 'GK' 'DC' 'LB' 'FM' 'IH' 'LN' 'IK' 'DF' 'IB' 'CB' 'LY' 'JW'\n",
            " 'FI' 'CR' 'IE' 'LE' 'HB' 'HV' 'LG' 'BG' 'KP' 'LI' 'HL' 'BF' 'LU' 'O' 'GI' 'DQ' 'IR' 'DV' 'HA' 'KB' 'FP' 'AT' 'IF' 'HN' 'GC' 'C' 'KC' 'G' 'JA' 'CU' 'BC' 'AB' 'KF' 'MB' 'HE' 'BL' 'FQ' 'IA' 'MJ' 'FO'\n",
            " 'V' 'JT' 'AU' 'IO' 'GQ' 'CC' 'JR' 'BM' 'HH' 'AV' 'GT' 'I' 'IU' 'JN' 'EV' 'MV' 'EQ' 'LW' 'FN' 'IT' 'AA' 'DK' 'IJ' 'GU' 'P' 'JH' 'CM' 'GA' 'R' 'LX' 'IX' 'DY' 'D' 'FL' 'CP' 'GL' 'DI' 'CD' 'IV' 'FS'\n",
            " 'FR' 'J' 'MP' 'MH' 'EL' 'JD' 'AP' 'AE' 'F' 'LC' 'BP' 'BI' 'MF' 'DO' 'MG' 'MT' 'LD' 'CW' 'KS' 'BV' 'JV' 'BB' 'AM' 'KX' 'FK' 'AH' 'LV' 'W' 'DU' 'FB' 'JX' 'KA' 'CO' 'AR' 'KR' 'JI' 'T' 'JP' 'LQ' 'FX'\n",
            " 'FD' 'EY' 'Y' 'JO' 'EC' 'HM' 'AC' 'DW' 'HU' 'FH' 'AY' 'AL' 'GD' 'GB' 'DS' 'FT' 'KH' 'CG' 'JB' 'E' 'CN' 'BT' 'X' 'BX' 'HW' 'EI' 'ID' 'KT' 'GR' 'L' 'KG' 'EA' 'HO' 'GX' 'K' 'AS' 'DM' 'AK' 'FC' 'MS'\n",
            " 'HR' 'EU' 'ES' 'JY' 'HP' 'KL' 'FE' 'CY' 'EO' 'KJ' 'CJ' 'CI' 'JL' 'IC' 'S' 'DH' 'GN' 'BS' 'AG' 'M' 'EW' 'FA' 'LJ' 'GJ' 'KQ' 'HF' 'MR' 'BQ' 'ED' 'FG' 'LL' 'EG' 'HY' 'EH' 'GW' 'BD' 'IQ' 'Q' 'DA' 'DD'\n",
            " 'GM' 'KN' 'MQ' 'GY' 'KD' 'JJ' 'CL' 'IY' 'KU' 'CT' 'KK' 'DN' 'BO' 'IP' 'LH' 'IM' 'DE' 'ME' 'EE' 'LT' 'LR' 'MI' 'CF' 'DR' 'EB' 'KI' 'DX' 'DL' 'MW' 'FF' 'EF' 'EP' 'MU' 'MA' 'GG' 'CQ' 'DT' 'FV' 'CH'\n",
            " 'AF' 'AJ' 'IN' 'JC' 'EN' 'JU' 'JE' 'ML' 'AW' 'HI' 'MO' 'GF' 'MK' 'GH' 'FW' 'GV' 'JF' 'BA' 'LK' 'IL' 'CX']\n",
            "\n",
            "cat11 ::  ['A' 'B']\n",
            "\n",
            "cat12 ::  ['A' 'B']\n",
            "\n",
            "cat13 ::  ['A' 'B']\n",
            "\n",
            "cat14 ::  ['A' 'B']\n",
            "\n",
            "cat15 ::  ['B' 'D' 'A' 'C']\n",
            "\n",
            "cat16 ::  ['D' 'B' 'C' 'A']\n",
            "\n",
            "cat17 ::  ['D' 'C' 'B' 'A']\n",
            "\n",
            "cat18 ::  ['B' 'C' 'D' 'A']\n",
            "\n"
          ],
          "name": "stdout"
        }
      ]
    },
    {
      "cell_type": "markdown",
      "metadata": {
        "id": "ZSl_N1EaIKB6"
      },
      "source": [
        "We will do some pre-processing, by handling strings & missing data\n",
        "\n",
        "Lets first check how many NAs are there in each column"
      ]
    },
    {
      "cell_type": "code",
      "metadata": {
        "trusted": true,
        "colab": {
          "base_uri": "https://localhost:8080/"
        },
        "id": "pZ7jNs6qIKB6",
        "outputId": "1d40e5e4-08e0-4b17-fb32-54fb8c14b0c4"
      },
      "source": [
        "df.isnull().sum().sum()"
      ],
      "execution_count": 9,
      "outputs": [
        {
          "output_type": "execute_result",
          "data": {
            "text/plain": [
              "0"
            ]
          },
          "metadata": {
            "tags": []
          },
          "execution_count": 9
        }
      ]
    },
    {
      "cell_type": "code",
      "metadata": {
        "trusted": true,
        "id": "vK1W1VqjIKB7"
      },
      "source": [
        "#Since no Nulls are there we don't need the proc while pre-processing the data \n",
        "\n",
        "procs = [Categorify] #, FillMissing]\n",
        "\n",
        "# defining the target variable\n",
        "dep_var = 'target'\n",
        "\n",
        "# defining the splits - 80/20 :: tain/valid\n",
        "\n",
        "splits = RandomSplitter(valid_pct=0.2)(range_of(df))"
      ],
      "execution_count": 10,
      "outputs": []
    },
    {
      "cell_type": "code",
      "metadata": {
        "trusted": true,
        "id": "at2d49vpIKB8"
      },
      "source": [
        "# Identifying the continous (cont) and categorical (cat) variables\n",
        "\n",
        "cont,cat = cont_cat_split(df, 1, dep_var=dep_var)"
      ],
      "execution_count": 11,
      "outputs": []
    },
    {
      "cell_type": "code",
      "metadata": {
        "trusted": true,
        "id": "iBjZM5AfIKB9"
      },
      "source": [
        "to = TabularPandas(df, procs, cat, cont, y_names=dep_var, splits=splits)"
      ],
      "execution_count": 12,
      "outputs": []
    },
    {
      "cell_type": "code",
      "metadata": {
        "trusted": true,
        "colab": {
          "base_uri": "https://localhost:8080/"
        },
        "id": "wPFms2luIKB9",
        "outputId": "300db9dc-d537-4882-fc11-b1223f4286ce"
      },
      "source": [
        "len(to.train),len(to.valid)"
      ],
      "execution_count": 13,
      "outputs": [
        {
          "output_type": "execute_result",
          "data": {
            "text/plain": [
              "(240000, 60000)"
            ]
          },
          "metadata": {
            "tags": []
          },
          "execution_count": 13
        }
      ]
    },
    {
      "cell_type": "code",
      "metadata": {
        "trusted": true,
        "colab": {
          "base_uri": "https://localhost:8080/",
          "height": 162
        },
        "id": "_iAlAdmdIKB-",
        "outputId": "2ae49632-1ca2-4724-ce1a-56542db69008"
      },
      "source": [
        "#hide_output\n",
        "to.show(3)"
      ],
      "execution_count": 14,
      "outputs": [
        {
          "output_type": "display_data",
          "data": {
            "text/html": [
              "<table border=\"1\" class=\"dataframe\">\n",
              "  <thead>\n",
              "    <tr style=\"text-align: right;\">\n",
              "      <th></th>\n",
              "      <th>cat0</th>\n",
              "      <th>cat1</th>\n",
              "      <th>cat2</th>\n",
              "      <th>cat3</th>\n",
              "      <th>cat4</th>\n",
              "      <th>cat5</th>\n",
              "      <th>cat6</th>\n",
              "      <th>cat7</th>\n",
              "      <th>cat8</th>\n",
              "      <th>cat9</th>\n",
              "      <th>cat10</th>\n",
              "      <th>cat11</th>\n",
              "      <th>cat12</th>\n",
              "      <th>cat13</th>\n",
              "      <th>cat14</th>\n",
              "      <th>cat15</th>\n",
              "      <th>cat16</th>\n",
              "      <th>cat17</th>\n",
              "      <th>cat18</th>\n",
              "      <th>id</th>\n",
              "      <th>cont0</th>\n",
              "      <th>cont1</th>\n",
              "      <th>cont2</th>\n",
              "      <th>cont3</th>\n",
              "      <th>cont4</th>\n",
              "      <th>cont5</th>\n",
              "      <th>cont6</th>\n",
              "      <th>cont7</th>\n",
              "      <th>cont8</th>\n",
              "      <th>cont9</th>\n",
              "      <th>cont10</th>\n",
              "      <th>target</th>\n",
              "    </tr>\n",
              "  </thead>\n",
              "  <tbody>\n",
              "    <tr>\n",
              "      <th>70060</th>\n",
              "      <td>A</td>\n",
              "      <td>F</td>\n",
              "      <td>C</td>\n",
              "      <td>A</td>\n",
              "      <td>E</td>\n",
              "      <td>BI</td>\n",
              "      <td>A</td>\n",
              "      <td>E</td>\n",
              "      <td>AK</td>\n",
              "      <td>A</td>\n",
              "      <td>DJ</td>\n",
              "      <td>A</td>\n",
              "      <td>A</td>\n",
              "      <td>A</td>\n",
              "      <td>B</td>\n",
              "      <td>C</td>\n",
              "      <td>D</td>\n",
              "      <td>D</td>\n",
              "      <td>B</td>\n",
              "      <td>117060</td>\n",
              "      <td>0.473064</td>\n",
              "      <td>0.330491</td>\n",
              "      <td>0.324767</td>\n",
              "      <td>0.591703</td>\n",
              "      <td>0.786936</td>\n",
              "      <td>0.261320</td>\n",
              "      <td>0.401539</td>\n",
              "      <td>0.365583</td>\n",
              "      <td>0.370476</td>\n",
              "      <td>0.294662</td>\n",
              "      <td>0.382934</td>\n",
              "      <td>0</td>\n",
              "    </tr>\n",
              "    <tr>\n",
              "      <th>43938</th>\n",
              "      <td>A</td>\n",
              "      <td>L</td>\n",
              "      <td>A</td>\n",
              "      <td>B</td>\n",
              "      <td>F</td>\n",
              "      <td>BI</td>\n",
              "      <td>A</td>\n",
              "      <td>G</td>\n",
              "      <td>Y</td>\n",
              "      <td>A</td>\n",
              "      <td>AP</td>\n",
              "      <td>A</td>\n",
              "      <td>A</td>\n",
              "      <td>A</td>\n",
              "      <td>B</td>\n",
              "      <td>D</td>\n",
              "      <td>B</td>\n",
              "      <td>B</td>\n",
              "      <td>B</td>\n",
              "      <td>73150</td>\n",
              "      <td>0.662536</td>\n",
              "      <td>0.465372</td>\n",
              "      <td>0.801938</td>\n",
              "      <td>0.842646</td>\n",
              "      <td>0.234898</td>\n",
              "      <td>0.055178</td>\n",
              "      <td>0.232538</td>\n",
              "      <td>0.886359</td>\n",
              "      <td>0.755791</td>\n",
              "      <td>0.706764</td>\n",
              "      <td>0.981385</td>\n",
              "      <td>0</td>\n",
              "    </tr>\n",
              "    <tr>\n",
              "      <th>162493</th>\n",
              "      <td>B</td>\n",
              "      <td>I</td>\n",
              "      <td>A</td>\n",
              "      <td>A</td>\n",
              "      <td>G</td>\n",
              "      <td>BI</td>\n",
              "      <td>A</td>\n",
              "      <td>J</td>\n",
              "      <td>Q</td>\n",
              "      <td>A</td>\n",
              "      <td>HK</td>\n",
              "      <td>A</td>\n",
              "      <td>A</td>\n",
              "      <td>A</td>\n",
              "      <td>A</td>\n",
              "      <td>B</td>\n",
              "      <td>D</td>\n",
              "      <td>D</td>\n",
              "      <td>B</td>\n",
              "      <td>270949</td>\n",
              "      <td>0.502375</td>\n",
              "      <td>0.706039</td>\n",
              "      <td>0.696211</td>\n",
              "      <td>0.333573</td>\n",
              "      <td>0.380315</td>\n",
              "      <td>0.781232</td>\n",
              "      <td>0.613433</td>\n",
              "      <td>0.571637</td>\n",
              "      <td>0.382232</td>\n",
              "      <td>0.534854</td>\n",
              "      <td>0.519604</td>\n",
              "      <td>1</td>\n",
              "    </tr>\n",
              "  </tbody>\n",
              "</table>"
            ],
            "text/plain": [
              "<IPython.core.display.HTML object>"
            ]
          },
          "metadata": {
            "tags": []
          }
        }
      ]
    },
    {
      "cell_type": "markdown",
      "metadata": {
        "id": "PeOMC9lMIKB-"
      },
      "source": [
        "The conversion of categorical columns to numbers is done by simply replacing each unique level with a number. The numbers associated with the levels are chosen consecutively as they are seen in a column, so there's no particular meaning to the numbers in categorical columns after conversion. The exception is if you first convert a column to a Pandas ordered category (as we did for ProductSize earlier), in which case the ordering you chose is used. We can see the mapping by looking at the classes attribute:"
      ]
    },
    {
      "cell_type": "code",
      "metadata": {
        "trusted": true,
        "colab": {
          "base_uri": "https://localhost:8080/",
          "height": 171
        },
        "id": "y2qyucn9IKB_",
        "outputId": "ca8deb69-db9f-46fd-e149-efe9d2327f23"
      },
      "source": [
        "#hide_output - \n",
        "to.items.head(3)"
      ],
      "execution_count": 15,
      "outputs": [
        {
          "output_type": "execute_result",
          "data": {
            "text/html": [
              "<div>\n",
              "<style scoped>\n",
              "    .dataframe tbody tr th:only-of-type {\n",
              "        vertical-align: middle;\n",
              "    }\n",
              "\n",
              "    .dataframe tbody tr th {\n",
              "        vertical-align: top;\n",
              "    }\n",
              "\n",
              "    .dataframe thead th {\n",
              "        text-align: right;\n",
              "    }\n",
              "</style>\n",
              "<table border=\"1\" class=\"dataframe\">\n",
              "  <thead>\n",
              "    <tr style=\"text-align: right;\">\n",
              "      <th></th>\n",
              "      <th>id</th>\n",
              "      <th>cat0</th>\n",
              "      <th>cat1</th>\n",
              "      <th>cat2</th>\n",
              "      <th>...</th>\n",
              "      <th>cont8</th>\n",
              "      <th>cont9</th>\n",
              "      <th>cont10</th>\n",
              "      <th>target</th>\n",
              "    </tr>\n",
              "  </thead>\n",
              "  <tbody>\n",
              "    <tr>\n",
              "      <th>70060</th>\n",
              "      <td>117060</td>\n",
              "      <td>1</td>\n",
              "      <td>6</td>\n",
              "      <td>3</td>\n",
              "      <td>...</td>\n",
              "      <td>0.370476</td>\n",
              "      <td>0.294662</td>\n",
              "      <td>0.382934</td>\n",
              "      <td>0</td>\n",
              "    </tr>\n",
              "    <tr>\n",
              "      <th>43938</th>\n",
              "      <td>73150</td>\n",
              "      <td>1</td>\n",
              "      <td>12</td>\n",
              "      <td>1</td>\n",
              "      <td>...</td>\n",
              "      <td>0.755791</td>\n",
              "      <td>0.706764</td>\n",
              "      <td>0.981385</td>\n",
              "      <td>0</td>\n",
              "    </tr>\n",
              "    <tr>\n",
              "      <th>162493</th>\n",
              "      <td>270949</td>\n",
              "      <td>2</td>\n",
              "      <td>9</td>\n",
              "      <td>1</td>\n",
              "      <td>...</td>\n",
              "      <td>0.382232</td>\n",
              "      <td>0.534854</td>\n",
              "      <td>0.519604</td>\n",
              "      <td>1</td>\n",
              "    </tr>\n",
              "  </tbody>\n",
              "</table>\n",
              "<p>3 rows × 32 columns</p>\n",
              "</div>"
            ],
            "text/plain": [
              "            id  cat0  cat1  cat2  ...     cont8     cont9    cont10  target\n",
              "70060   117060     1     6     3  ...  0.370476  0.294662  0.382934       0\n",
              "43938    73150     1    12     1  ...  0.755791  0.706764  0.981385       0\n",
              "162493  270949     2     9     1  ...  0.382232  0.534854  0.519604       1\n",
              "\n",
              "[3 rows x 32 columns]"
            ]
          },
          "metadata": {
            "tags": []
          },
          "execution_count": 15
        }
      ]
    },
    {
      "cell_type": "code",
      "metadata": {
        "trusted": true,
        "colab": {
          "base_uri": "https://localhost:8080/"
        },
        "id": "zMHIwVHLIKB_",
        "outputId": "99a04710-c302-40f6-e883-ed8be28cee7c"
      },
      "source": [
        "to.classes['cat10']"
      ],
      "execution_count": 16,
      "outputs": [
        {
          "output_type": "execute_result",
          "data": {
            "text/plain": [
              "['#na#', 'AA', 'AB', 'AC', 'AD', 'AE', 'AF', 'AG', 'AH', 'AJ', 'AK', 'AL', 'AM', 'AN', 'AP', 'AR', 'AS', 'AT', 'AU', 'AV', 'AW', 'AY', 'BA', 'BB', 'BC', 'BD', 'BF', 'BG', 'BI', 'BL', 'BM', 'BO', 'BP', 'BQ', 'BS', 'BT', 'BV', 'BX', 'BY', 'C', 'CB', 'CC', 'CD', 'CF', 'CG', 'CH', 'CI', 'CJ', 'CK', 'CL', 'CM', 'CN', 'CO', 'CP', 'CQ', 'CR', 'CS', 'CT', 'CU', 'CW', 'CX', 'CY', 'D', 'DA', 'DC', 'DD', 'DE', 'DF', 'DH', 'DI', 'DJ', 'DK', 'DL', 'DM', 'DN', 'DO', 'DP', 'DQ', 'DR', 'DS', 'DT', 'DU', 'DV', 'DW', 'DX', 'DY', 'E', 'EA', 'EB', 'EC', 'ED', 'EE', 'EF', 'EG', 'EH', 'EI', 'EK', 'EL', 'EN', 'EO', 'EP', 'EQ', 'ES', 'EU', 'EV', 'EW', 'EY', 'F', 'FA', 'FB', 'FC', 'FD', 'FE', 'FF', 'FG', 'FH', 'FI', 'FJ', 'FK', 'FL', 'FM', 'FN', 'FO', 'FP', 'FQ', 'FR', 'FS', 'FT', 'FV', 'FW', 'FX', 'G', 'GA', 'GB', 'GC', 'GD', 'GE', 'GF', 'GG', 'GH', 'GI', 'GJ', 'GK', 'GL', 'GM', 'GN', 'GQ', 'GR', 'GS', 'GT', 'GU', 'GV', 'GW', 'GX', 'GY', 'HA', 'HB', 'HC', 'HE', 'HF', 'HG', 'HH', 'HI', 'HJ', 'HK', 'HL', 'HM', 'HN', 'HO', 'HP', 'HQ', 'HR', 'HU', 'HV', 'HW', 'HX', 'HY', 'I', 'IA', 'IB', 'IC', 'ID', 'IE', 'IF', 'IG', 'IH', 'IJ', 'IK', 'IL', 'IM', 'IN', 'IO', 'IP', 'IQ', 'IR', 'IT', 'IU', 'IV', 'IX', 'IY', 'J', 'JA', 'JB', 'JC', 'JD', 'JE', 'JF', 'JG', 'JH', 'JI', 'JJ', 'JK', 'JL', 'JN', 'JO', 'JP', 'JR', 'JT', 'JU', 'JV', 'JW', 'JX', 'JY', 'K', 'KA', 'KB', 'KC', 'KD', 'KF', 'KG', 'KH', 'KI', 'KJ', 'KK', 'KL', 'KN', 'KP', 'KQ', 'KR', 'KS', 'KT', 'KU', 'KV', 'KW', 'KX', 'L', 'LB', 'LC', 'LD', 'LE', 'LF', 'LG', 'LH', 'LI', 'LJ', 'LK', 'LL', 'LM', 'LN', 'LO', 'LQ', 'LR', 'LT', 'LU', 'LV', 'LW', 'LX', 'LY', 'M', 'MA', 'MB', 'MC', 'MD', 'ME', 'MF', 'MG', 'MH', 'MI', 'MJ', 'MK', 'ML', 'MO', 'MP', 'MQ', 'MR', 'MS', 'MT', 'MU', 'MV', 'MW', 'O', 'P', 'Q', 'R', 'S', 'T', 'V', 'W', 'X', 'Y']"
            ]
          },
          "metadata": {
            "tags": []
          },
          "execution_count": 16
        }
      ]
    },
    {
      "cell_type": "markdown",
      "metadata": {
        "id": "lizQbMLKIKCA"
      },
      "source": [
        "## Training a DT & explaining model\n",
        "\n",
        "With max leaf nodes as 4 (*to reduce training time*)"
      ]
    },
    {
      "cell_type": "code",
      "metadata": {
        "trusted": true,
        "colab": {
          "base_uri": "https://localhost:8080/"
        },
        "id": "NNbwH8g4IKCB",
        "outputId": "cc530c64-cf63-4289-b7ef-f24c96f029ce"
      },
      "source": [
        "%%time\n",
        "xs,y = to.train.xs,to.train.y\n",
        "valid_xs,valid_y = to.valid.xs,to.valid.y\n",
        "\n",
        "m = DecisionTreeClassifier(max_leaf_nodes=4)\n",
        "m.fit(xs, y);"
      ],
      "execution_count": 18,
      "outputs": [
        {
          "output_type": "stream",
          "text": [
            "CPU times: user 1.91 s, sys: 7.26 ms, total: 1.92 s\n",
            "Wall time: 1.93 s\n"
          ],
          "name": "stdout"
        }
      ]
    },
    {
      "cell_type": "code",
      "metadata": {
        "trusted": true,
        "colab": {
          "base_uri": "https://localhost:8080/",
          "height": 590
        },
        "id": "JFMLcB34IKCB",
        "outputId": "aa156dac-e1df-4ad1-cbf6-92ae077267bb"
      },
      "source": [
        "draw_tree(m, xs, size=10, leaves_parallel=True, precision=2)"
      ],
      "execution_count": 19,
      "outputs": [
        {
          "output_type": "execute_result",
          "data": {
            "text/plain": [
              "<graphviz.files.Source at 0x7f643a0c0d50>"
            ],
            "image/svg+xml": "<?xml version=\"1.0\" encoding=\"UTF-8\" standalone=\"no\"?>\n<!DOCTYPE svg PUBLIC \"-//W3C//DTD SVG 1.1//EN\"\n \"http://www.w3.org/Graphics/SVG/1.1/DTD/svg11.dtd\">\n<!-- Generated by graphviz version 2.40.1 (20161225.0304)\n -->\n<!-- Title: Tree Pages: 1 -->\n<svg width=\"706pt\" height=\"427pt\"\n viewBox=\"0.00 0.00 706.00 427.36\" xmlns=\"http://www.w3.org/2000/svg\" xmlns:xlink=\"http://www.w3.org/1999/xlink\">\n<g id=\"graph0\" class=\"graph\" transform=\"scale(1 1) rotate(0) translate(4 423.3629)\">\n<title>Tree</title>\n<polygon fill=\"#ffffff\" stroke=\"transparent\" points=\"-4,4 -4,-423.3629 702,-423.3629 702,4 -4,4\"/>\n<!-- 0 -->\n<g id=\"node1\" class=\"node\">\n<title>0</title>\n<path fill=\"#eeae80\" stroke=\"#000000\" d=\"M594,-415C594,-415 445,-415 445,-415 439,-415 433,-409 433,-403 433,-403 433,-359 433,-359 433,-353 439,-347 445,-347 445,-347 594,-347 594,-347 600,-347 606,-353 606,-359 606,-359 606,-403 606,-403 606,-409 600,-415 594,-415\"/>\n<text text-anchor=\"start\" x=\"483.5\" y=\"-399.8\" font-family=\"Helvetica,sans-Serif\" font-size=\"14.00\" fill=\"#000000\">cat16 ≤ 2.5</text>\n<text text-anchor=\"start\" x=\"486\" y=\"-384.8\" font-family=\"Helvetica,sans-Serif\" font-size=\"14.00\" fill=\"#000000\">gini = 0.39</text>\n<text text-anchor=\"start\" x=\"459\" y=\"-369.8\" font-family=\"Helvetica,sans-Serif\" font-size=\"14.00\" fill=\"#000000\">samples = 240000</text>\n<text text-anchor=\"start\" x=\"441\" y=\"-354.8\" font-family=\"Helvetica,sans-Serif\" font-size=\"14.00\" fill=\"#000000\">value = [176530, 63470]</text>\n</g>\n<!-- 1 -->\n<g id=\"node2\" class=\"node\">\n<title>1</title>\n<path fill=\"#b3daf5\" stroke=\"#000000\" d=\"M499,-298C499,-298 358,-298 358,-298 352,-298 346,-292 346,-286 346,-286 346,-242 346,-242 346,-236 352,-230 358,-230 358,-230 499,-230 499,-230 505,-230 511,-236 511,-242 511,-242 511,-286 511,-286 511,-292 505,-298 499,-298\"/>\n<text text-anchor=\"start\" x=\"392.5\" y=\"-282.8\" font-family=\"Helvetica,sans-Serif\" font-size=\"14.00\" fill=\"#000000\">cat18 ≤ 2.5</text>\n<text text-anchor=\"start\" x=\"395\" y=\"-267.8\" font-family=\"Helvetica,sans-Serif\" font-size=\"14.00\" fill=\"#000000\">gini = 0.47</text>\n<text text-anchor=\"start\" x=\"372.5\" y=\"-252.8\" font-family=\"Helvetica,sans-Serif\" font-size=\"14.00\" fill=\"#000000\">samples = 69931</text>\n<text text-anchor=\"start\" x=\"354\" y=\"-237.8\" font-family=\"Helvetica,sans-Serif\" font-size=\"14.00\" fill=\"#000000\">value = [26700, 43231]</text>\n</g>\n<!-- 0&#45;&gt;1 -->\n<g id=\"edge1\" class=\"edge\">\n<title>0&#45;&gt;1</title>\n<path fill=\"none\" stroke=\"#000000\" d=\"M492.9344,-346.8442C483.116,-334.2206 471.866,-319.7563 461.5429,-306.4837\"/>\n<polygon fill=\"#000000\" stroke=\"#000000\" points=\"464.1583,-304.1455 455.2562,-298.4008 458.6329,-308.4431 464.1583,-304.1455\"/>\n<text text-anchor=\"middle\" x=\"452.1553\" y=\"-319.5077\" font-family=\"Helvetica,sans-Serif\" font-size=\"14.00\" fill=\"#000000\">True</text>\n</g>\n<!-- 2 -->\n<g id=\"node7\" class=\"node\">\n<title>2</title>\n<path fill=\"#e99254\" stroke=\"#000000\" d=\"M686,-56.5C686,-56.5 537,-56.5 537,-56.5 531,-56.5 525,-50.5 525,-44.5 525,-44.5 525,-15.5 525,-15.5 525,-9.5 531,-3.5 537,-3.5 537,-3.5 686,-3.5 686,-3.5 692,-3.5 698,-9.5 698,-15.5 698,-15.5 698,-44.5 698,-44.5 698,-50.5 692,-56.5 686,-56.5\"/>\n<text text-anchor=\"start\" x=\"578\" y=\"-41.3\" font-family=\"Helvetica,sans-Serif\" font-size=\"14.00\" fill=\"#000000\">gini = 0.21</text>\n<text text-anchor=\"start\" x=\"551\" y=\"-26.3\" font-family=\"Helvetica,sans-Serif\" font-size=\"14.00\" fill=\"#000000\">samples = 170069</text>\n<text text-anchor=\"start\" x=\"533\" y=\"-11.3\" font-family=\"Helvetica,sans-Serif\" font-size=\"14.00\" fill=\"#000000\">value = [149830, 20239]</text>\n</g>\n<!-- 0&#45;&gt;2 -->\n<g id=\"edge6\" class=\"edge\">\n<title>0&#45;&gt;2</title>\n<path fill=\"none\" stroke=\"#000000\" d=\"M528.4889,-346.7056C545.9064,-280.2538 584.1064,-134.5126 601.9558,-66.4133\"/>\n<polygon fill=\"#000000\" stroke=\"#000000\" points=\"605.3883,-67.1215 604.5382,-56.5608 598.617,-65.3466 605.3883,-67.1215\"/>\n<text text-anchor=\"middle\" x=\"617.1562\" y=\"-74.4429\" font-family=\"Helvetica,sans-Serif\" font-size=\"14.00\" fill=\"#000000\">False</text>\n</g>\n<!-- 3 -->\n<g id=\"node3\" class=\"node\">\n<title>3</title>\n<path fill=\"#ffffff\" stroke=\"#000000\" d=\"M324,-181C324,-181 183,-181 183,-181 177,-181 171,-175 171,-169 171,-169 171,-125 171,-125 171,-119 177,-113 183,-113 183,-113 324,-113 324,-113 330,-113 336,-119 336,-125 336,-125 336,-169 336,-169 336,-175 330,-181 324,-181\"/>\n<text text-anchor=\"start\" x=\"213.5\" y=\"-165.8\" font-family=\"Helvetica,sans-Serif\" font-size=\"14.00\" fill=\"#000000\">cont5 ≤ 0.55</text>\n<text text-anchor=\"start\" x=\"224\" y=\"-150.8\" font-family=\"Helvetica,sans-Serif\" font-size=\"14.00\" fill=\"#000000\">gini = 0.5</text>\n<text text-anchor=\"start\" x=\"197.5\" y=\"-135.8\" font-family=\"Helvetica,sans-Serif\" font-size=\"14.00\" fill=\"#000000\">samples = 40021</text>\n<text text-anchor=\"start\" x=\"179\" y=\"-120.8\" font-family=\"Helvetica,sans-Serif\" font-size=\"14.00\" fill=\"#000000\">value = [19990, 20031]</text>\n</g>\n<!-- 1&#45;&gt;3 -->\n<g id=\"edge2\" class=\"edge\">\n<title>1&#45;&gt;3</title>\n<path fill=\"none\" stroke=\"#000000\" d=\"M377.4123,-229.8442C357.2844,-216.3873 334.0277,-200.8385 313.1369,-186.8715\"/>\n<polygon fill=\"#000000\" stroke=\"#000000\" points=\"314.9097,-183.8466 304.6512,-181.1982 311.0191,-189.6658 314.9097,-183.8466\"/>\n</g>\n<!-- 4 -->\n<g id=\"node6\" class=\"node\">\n<title>4</title>\n<path fill=\"#72b9ed\" stroke=\"#000000\" d=\"M495,-56.5C495,-56.5 362,-56.5 362,-56.5 356,-56.5 350,-50.5 350,-44.5 350,-44.5 350,-15.5 350,-15.5 350,-9.5 356,-3.5 362,-3.5 362,-3.5 495,-3.5 495,-3.5 501,-3.5 507,-9.5 507,-15.5 507,-15.5 507,-44.5 507,-44.5 507,-50.5 501,-56.5 495,-56.5\"/>\n<text text-anchor=\"start\" x=\"395\" y=\"-41.3\" font-family=\"Helvetica,sans-Serif\" font-size=\"14.00\" fill=\"#000000\">gini = 0.35</text>\n<text text-anchor=\"start\" x=\"372.5\" y=\"-26.3\" font-family=\"Helvetica,sans-Serif\" font-size=\"14.00\" fill=\"#000000\">samples = 29910</text>\n<text text-anchor=\"start\" x=\"358\" y=\"-11.3\" font-family=\"Helvetica,sans-Serif\" font-size=\"14.00\" fill=\"#000000\">value = [6710, 23200]</text>\n</g>\n<!-- 1&#45;&gt;4 -->\n<g id=\"edge5\" class=\"edge\">\n<title>1&#45;&gt;4</title>\n<path fill=\"none\" stroke=\"#000000\" d=\"M428.5,-229.9744C428.5,-186.5553 428.5,-111.7263 428.5,-66.9492\"/>\n<polygon fill=\"#000000\" stroke=\"#000000\" points=\"432.0001,-66.7911 428.5,-56.7911 425.0001,-66.7911 432.0001,-66.7911\"/>\n</g>\n<!-- 5 -->\n<g id=\"node4\" class=\"node\">\n<title>5</title>\n<path fill=\"#f4caac\" stroke=\"#000000\" d=\"M145,-56.5C145,-56.5 12,-56.5 12,-56.5 6,-56.5 0,-50.5 0,-44.5 0,-44.5 0,-15.5 0,-15.5 0,-9.5 6,-3.5 12,-3.5 12,-3.5 145,-3.5 145,-3.5 151,-3.5 157,-9.5 157,-15.5 157,-15.5 157,-44.5 157,-44.5 157,-50.5 151,-56.5 145,-56.5\"/>\n<text text-anchor=\"start\" x=\"45\" y=\"-41.3\" font-family=\"Helvetica,sans-Serif\" font-size=\"14.00\" fill=\"#000000\">gini = 0.46</text>\n<text text-anchor=\"start\" x=\"22.5\" y=\"-26.3\" font-family=\"Helvetica,sans-Serif\" font-size=\"14.00\" fill=\"#000000\">samples = 16001</text>\n<text text-anchor=\"start\" x=\"8\" y=\"-11.3\" font-family=\"Helvetica,sans-Serif\" font-size=\"14.00\" fill=\"#000000\">value = [10119, 5882]</text>\n</g>\n<!-- 3&#45;&gt;5 -->\n<g id=\"edge3\" class=\"edge\">\n<title>3&#45;&gt;5</title>\n<path fill=\"none\" stroke=\"#000000\" d=\"M202.4123,-112.8442C178.5118,-96.865 150.1998,-77.9364 126.6758,-62.2089\"/>\n<polygon fill=\"#000000\" stroke=\"#000000\" points=\"128.5012,-59.2192 118.2427,-56.5708 124.6106,-65.0385 128.5012,-59.2192\"/>\n</g>\n<!-- 6 -->\n<g id=\"node5\" class=\"node\">\n<title>6</title>\n<path fill=\"#c3e1f7\" stroke=\"#000000\" d=\"M320,-56.5C320,-56.5 187,-56.5 187,-56.5 181,-56.5 175,-50.5 175,-44.5 175,-44.5 175,-15.5 175,-15.5 175,-9.5 181,-3.5 187,-3.5 187,-3.5 320,-3.5 320,-3.5 326,-3.5 332,-9.5 332,-15.5 332,-15.5 332,-44.5 332,-44.5 332,-50.5 326,-56.5 320,-56.5\"/>\n<text text-anchor=\"start\" x=\"220\" y=\"-41.3\" font-family=\"Helvetica,sans-Serif\" font-size=\"14.00\" fill=\"#000000\">gini = 0.48</text>\n<text text-anchor=\"start\" x=\"197.5\" y=\"-26.3\" font-family=\"Helvetica,sans-Serif\" font-size=\"14.00\" fill=\"#000000\">samples = 24020</text>\n<text text-anchor=\"start\" x=\"183\" y=\"-11.3\" font-family=\"Helvetica,sans-Serif\" font-size=\"14.00\" fill=\"#000000\">value = [9871, 14149]</text>\n</g>\n<!-- 3&#45;&gt;6 -->\n<g id=\"edge4\" class=\"edge\">\n<title>3&#45;&gt;6</title>\n<path fill=\"none\" stroke=\"#000000\" d=\"M253.5,-112.8442C253.5,-98.4069 253.5,-81.5618 253.5,-66.8455\"/>\n<polygon fill=\"#000000\" stroke=\"#000000\" points=\"257.0001,-66.5708 253.5,-56.5708 250.0001,-66.5709 257.0001,-66.5708\"/>\n</g>\n</g>\n</svg>\n"
          },
          "metadata": {
            "tags": []
          },
          "execution_count": 19
        }
      ]
    },
    {
      "cell_type": "markdown",
      "metadata": {
        "id": "1iyRMQKUIKCC"
      },
      "source": [
        "1. The top node represents the *initial model* It's the simples model! \n",
        "2. We do a greedy division of the data based on the cat16. If the value is less than or equal to 2.5 we move to the left if not then to right\n",
        "\n",
        "... and so on to create the 4 leaf nodes\n"
      ]
    },
    {
      "cell_type": "code",
      "metadata": {
        "trusted": true,
        "colab": {
          "base_uri": "https://localhost:8080/"
        },
        "id": "sT-re1ABIKCD",
        "outputId": "8e6fe8f5-3786-47dc-a32e-c70d0b0d6c5e"
      },
      "source": [
        "to.classes['cat16']"
      ],
      "execution_count": 20,
      "outputs": [
        {
          "output_type": "execute_result",
          "data": {
            "text/plain": [
              "['#na#', 'A', 'B', 'C', 'D']"
            ]
          },
          "metadata": {
            "tags": []
          },
          "execution_count": 20
        }
      ]
    },
    {
      "cell_type": "code",
      "metadata": {
        "trusted": true,
        "colab": {
          "base_uri": "https://localhost:8080/"
        },
        "id": "JjMi9-VhIKCD",
        "outputId": "9c52edda-4375-49fb-8f0f-1437ef53ca13"
      },
      "source": [
        "to['cat16'].unique()"
      ],
      "execution_count": 21,
      "outputs": [
        {
          "output_type": "execute_result",
          "data": {
            "text/plain": [
              "array([4, 2, 1, 3], dtype=int8)"
            ]
          },
          "metadata": {
            "tags": []
          },
          "execution_count": 21
        }
      ]
    },
    {
      "cell_type": "markdown",
      "metadata": {
        "id": "WS5IxMzPIKCD"
      },
      "source": [
        "This shows a chart of the distribution of the data for each split point. "
      ]
    },
    {
      "cell_type": "code",
      "metadata": {
        "trusted": true,
        "colab": {
          "base_uri": "https://localhost:8080/",
          "height": 474
        },
        "id": "YWYamfC8IKCE",
        "outputId": "fb230336-4298-48ed-cb41-c240041467f8"
      },
      "source": [
        "samp_idx = np.random.permutation(len(y))[:500]\n",
        "dtreeviz(m, xs.iloc[samp_idx], y.iloc[samp_idx], xs.columns, dep_var,\n",
        "        fontname='DejaVu Sans', scale=1.6, label_fontsize=10,\n",
        "        orientation='LR')"
      ],
      "execution_count": 22,
      "outputs": [
        {
          "output_type": "stream",
          "text": [
            "/usr/local/lib/python3.7/dist-packages/numpy/core/_asarray.py:83: VisibleDeprecationWarning: Creating an ndarray from ragged nested sequences (which is a list-or-tuple of lists-or-tuples-or ndarrays with different lengths or shapes) is deprecated. If you meant to do this, you must specify 'dtype=object' when creating the ndarray\n",
            "  return array(a, dtype, copy=False, order=order)\n",
            "findfont: Font family ['Arial'] not found. Falling back to DejaVu Sans.\n"
          ],
          "name": "stderr"
        },
        {
          "output_type": "execute_result",
          "data": {
            "text/plain": [
              "<dtreeviz.trees.DTreeViz at 0x7f6439b59d50>"
            ],
            "image/svg+xml": "<svg xmlns=\"http://www.w3.org/2000/svg\" xmlns:xlink=\"http://www.w3.org/1999/xlink\" height=\"382.40000000000003\" viewBox=\"0.0 0.0 982.4000000000001 381.6\" width=\"982.4000000000001\">\n<g class=\"graph\" id=\"graph0\" transform=\"scale(1.6 1.6) rotate(0) translate(4 234.5)\">\n<title>G</title>\n<polygon fill=\"#ffffff\" points=\"-4,4 -4,-234.5 610,-234.5 610,4 -4,4\" stroke=\"transparent\" />\n<g class=\"cluster\" id=\"clust4\">\n<title>cluster_legend</title>\n</g>\n\n<g class=\"node\" id=\"node1\">\n<title>node3</title>\n<svg height=\"43px\" preserveAspectRatio=\"xMinYMin meet\" version=\"1.1\" viewBox=\"0 0 206.355387 57.345714\" width=\"155px\" x=\"368.5\" y=\"-180.5\">\n <defs>\n  <style type=\"text/css\">\n*{stroke-linecap:butt;stroke-linejoin:round;}\n  </style>\n </defs>\n <g id=\"figure_1\">\n  <g id=\"patch_1\">\n   <path d=\"M 0 57.345714  L 206.355387 57.345714  L 206.355387 0  L 0 0  z \" style=\"fill:#ffffff;\" />\n  </g>\n  <g id=\"axes_1\">\n   <g id=\"patch_2\">\n    <path d=\"M 17.18 28.925089  L 201.32 28.925089  L 201.32 1.745089  L 17.18 1.745089  z \" style=\"fill:#ffffff;\" />\n   </g>\n   <g id=\"patch_3\">\n    <path clip-path=\"url(#p15f38d6ecf)\" d=\"M 17.531142 28.925089  L 26.732615 28.925089  L 26.732615 25.473661  L 17.531142 25.473661  z \" style=\"fill:#fefebb;stroke:#444443;stroke-linejoin:miter;stroke-width:0.5;\" />\n   </g>\n   <g id=\"patch_4\">\n    <path clip-path=\"url(#p15f38d6ecf)\" d=\"M 26.732615 28.925089  L 35.934089 28.925089  L 35.934089 22.022232  L 26.732615 22.022232  z \" style=\"fill:#fefebb;stroke:#444443;stroke-linejoin:miter;stroke-width:0.5;\" />\n   </g>\n   <g id=\"patch_5\">\n    <path clip-path=\"url(#p15f38d6ecf)\" d=\"M 35.934089 28.925089  L 45.135562 28.925089  L 45.135562 23.747946  L 35.934089 23.747946  z \" style=\"fill:#fefebb;stroke:#444443;stroke-linejoin:miter;stroke-width:0.5;\" />\n   </g>\n   <g id=\"patch_6\">\n    <path clip-path=\"url(#p15f38d6ecf)\" d=\"M 45.135562 28.925089  L 54.337035 28.925089  L 54.337035 27.199375  L 45.135562 27.199375  z \" style=\"fill:#fefebb;stroke:#444443;stroke-linejoin:miter;stroke-width:0.5;\" />\n   </g>\n   <g id=\"patch_7\">\n    <path clip-path=\"url(#p15f38d6ecf)\" d=\"M 54.337035 28.925089  L 63.538509 28.925089  L 63.538509 25.473661  L 54.337035 25.473661  z \" style=\"fill:#fefebb;stroke:#444443;stroke-linejoin:miter;stroke-width:0.5;\" />\n   </g>\n   <g id=\"patch_8\">\n    <path clip-path=\"url(#p15f38d6ecf)\" d=\"M 63.538509 28.925089  L 72.739982 28.925089  L 72.739982 25.473661  L 63.538509 25.473661  z \" style=\"fill:#fefebb;stroke:#444443;stroke-linejoin:miter;stroke-width:0.5;\" />\n   </g>\n   <g id=\"patch_9\">\n    <path clip-path=\"url(#p15f38d6ecf)\" d=\"M 72.739982 28.925089  L 81.941456 28.925089  L 81.941456 15.119375  L 72.739982 15.119375  z \" style=\"fill:#fefebb;stroke:#444443;stroke-linejoin:miter;stroke-width:0.5;\" />\n   </g>\n   <g id=\"patch_10\">\n    <path clip-path=\"url(#p15f38d6ecf)\" d=\"M 81.941456 28.925089  L 91.142929 28.925089  L 91.142929 23.747946  L 81.941456 23.747946  z \" style=\"fill:#fefebb;stroke:#444443;stroke-linejoin:miter;stroke-width:0.5;\" />\n   </g>\n   <g id=\"patch_11\">\n    <path clip-path=\"url(#p15f38d6ecf)\" d=\"M 91.142929 28.925089  L 100.344403 28.925089  L 100.344403 27.199375  L 91.142929 27.199375  z \" style=\"fill:#fefebb;stroke:#444443;stroke-linejoin:miter;stroke-width:0.5;\" />\n   </g>\n   <g id=\"patch_12\">\n    <path clip-path=\"url(#p15f38d6ecf)\" d=\"M 100.344403 28.925089  L 109.545876 28.925089  L 109.545876 28.925089  L 100.344403 28.925089  z \" style=\"fill:#fefebb;stroke:#444443;stroke-linejoin:miter;stroke-width:0.5;\" />\n   </g>\n   <g id=\"patch_13\">\n    <path clip-path=\"url(#p15f38d6ecf)\" d=\"M 109.545876 28.925089  L 118.747349 28.925089  L 118.747349 28.925089  L 109.545876 28.925089  z \" style=\"fill:#fefebb;stroke:#444443;stroke-linejoin:miter;stroke-width:0.5;\" />\n   </g>\n   <g id=\"patch_14\">\n    <path clip-path=\"url(#p15f38d6ecf)\" d=\"M 118.747349 28.925089  L 127.948823 28.925089  L 127.948823 27.199375  L 118.747349 27.199375  z \" style=\"fill:#fefebb;stroke:#444443;stroke-linejoin:miter;stroke-width:0.5;\" />\n   </g>\n   <g id=\"patch_15\">\n    <path clip-path=\"url(#p15f38d6ecf)\" d=\"M 127.948823 28.925089  L 137.150296 28.925089  L 137.150296 22.022232  L 127.948823 22.022232  z \" style=\"fill:#fefebb;stroke:#444443;stroke-linejoin:miter;stroke-width:0.5;\" />\n   </g>\n   <g id=\"patch_16\">\n    <path clip-path=\"url(#p15f38d6ecf)\" d=\"M 137.150296 28.925089  L 146.35177 28.925089  L 146.35177 28.925089  L 137.150296 28.925089  z \" style=\"fill:#fefebb;stroke:#444443;stroke-linejoin:miter;stroke-width:0.5;\" />\n   </g>\n   <g id=\"patch_17\">\n    <path clip-path=\"url(#p15f38d6ecf)\" d=\"M 146.35177 28.925089  L 155.553243 28.925089  L 155.553243 20.296518  L 146.35177 20.296518  z \" style=\"fill:#fefebb;stroke:#444443;stroke-linejoin:miter;stroke-width:0.5;\" />\n   </g>\n   <g id=\"patch_18\">\n    <path clip-path=\"url(#p15f38d6ecf)\" d=\"M 155.553243 28.925089  L 164.754716 28.925089  L 164.754716 27.199375  L 155.553243 27.199375  z \" style=\"fill:#fefebb;stroke:#444443;stroke-linejoin:miter;stroke-width:0.5;\" />\n   </g>\n   <g id=\"patch_19\">\n    <path clip-path=\"url(#p15f38d6ecf)\" d=\"M 164.754716 28.925089  L 173.95619 28.925089  L 173.95619 22.022232  L 164.754716 22.022232  z \" style=\"fill:#fefebb;stroke:#444443;stroke-linejoin:miter;stroke-width:0.5;\" />\n   </g>\n   <g id=\"patch_20\">\n    <path clip-path=\"url(#p15f38d6ecf)\" d=\"M 173.95619 28.925089  L 183.157663 28.925089  L 183.157663 27.199375  L 173.95619 27.199375  z \" style=\"fill:#fefebb;stroke:#444443;stroke-linejoin:miter;stroke-width:0.5;\" />\n   </g>\n   <g id=\"patch_21\">\n    <path clip-path=\"url(#p15f38d6ecf)\" d=\"M 183.157663 28.925089  L 192.359137 28.925089  L 192.359137 22.022232  L 183.157663 22.022232  z \" style=\"fill:#fefebb;stroke:#444443;stroke-linejoin:miter;stroke-width:0.5;\" />\n   </g>\n   <g id=\"patch_22\">\n    <path clip-path=\"url(#p15f38d6ecf)\" d=\"M 17.531142 25.473661  L 26.732615 25.473661  L 26.732615 20.296518  L 17.531142 20.296518  z \" style=\"fill:#a1dab4;stroke:#444443;stroke-linejoin:miter;stroke-width:0.5;\" />\n   </g>\n   <g id=\"patch_23\">\n    <path clip-path=\"url(#p15f38d6ecf)\" d=\"M 26.732615 22.022232  L 35.934089 22.022232  L 35.934089 18.570804  L 26.732615 18.570804  z \" style=\"fill:#a1dab4;stroke:#444443;stroke-linejoin:miter;stroke-width:0.5;\" />\n   </g>\n   <g id=\"patch_24\">\n    <path clip-path=\"url(#p15f38d6ecf)\" d=\"M 35.934089 23.747946  L 45.135562 23.747946  L 45.135562 23.747946  L 35.934089 23.747946  z \" style=\"fill:#a1dab4;stroke:#444443;stroke-linejoin:miter;stroke-width:0.5;\" />\n   </g>\n   <g id=\"patch_25\">\n    <path clip-path=\"url(#p15f38d6ecf)\" d=\"M 45.135562 27.199375  L 54.337035 27.199375  L 54.337035 23.747946  L 45.135562 23.747946  z \" style=\"fill:#a1dab4;stroke:#444443;stroke-linejoin:miter;stroke-width:0.5;\" />\n   </g>\n   <g id=\"patch_26\">\n    <path clip-path=\"url(#p15f38d6ecf)\" d=\"M 54.337035 25.473661  L 63.538509 25.473661  L 63.538509 25.473661  L 54.337035 25.473661  z \" style=\"fill:#a1dab4;stroke:#444443;stroke-linejoin:miter;stroke-width:0.5;\" />\n   </g>\n   <g id=\"patch_27\">\n    <path clip-path=\"url(#p15f38d6ecf)\" d=\"M 63.538509 25.473661  L 72.739982 25.473661  L 72.739982 23.747946  L 63.538509 23.747946  z \" style=\"fill:#a1dab4;stroke:#444443;stroke-linejoin:miter;stroke-width:0.5;\" />\n   </g>\n   <g id=\"patch_28\">\n    <path clip-path=\"url(#p15f38d6ecf)\" d=\"M 72.739982 15.119375  L 81.941456 15.119375  L 81.941456 15.119375  L 72.739982 15.119375  z \" style=\"fill:#a1dab4;stroke:#444443;stroke-linejoin:miter;stroke-width:0.5;\" />\n   </g>\n   <g id=\"patch_29\">\n    <path clip-path=\"url(#p15f38d6ecf)\" d=\"M 81.941456 23.747946  L 91.142929 23.747946  L 91.142929 15.119375  L 81.941456 15.119375  z \" style=\"fill:#a1dab4;stroke:#444443;stroke-linejoin:miter;stroke-width:0.5;\" />\n   </g>\n   <g id=\"patch_30\">\n    <path clip-path=\"url(#p15f38d6ecf)\" d=\"M 91.142929 27.199375  L 100.344403 27.199375  L 100.344403 25.473661  L 91.142929 25.473661  z \" style=\"fill:#a1dab4;stroke:#444443;stroke-linejoin:miter;stroke-width:0.5;\" />\n   </g>\n   <g id=\"patch_31\">\n    <path clip-path=\"url(#p15f38d6ecf)\" d=\"M 100.344403 28.925089  L 109.545876 28.925089  L 109.545876 28.925089  L 100.344403 28.925089  z \" style=\"fill:#a1dab4;stroke:#444443;stroke-linejoin:miter;stroke-width:0.5;\" />\n   </g>\n   <g id=\"patch_32\">\n    <path clip-path=\"url(#p15f38d6ecf)\" d=\"M 109.545876 28.925089  L 118.747349 28.925089  L 118.747349 25.473661  L 109.545876 25.473661  z \" style=\"fill:#a1dab4;stroke:#444443;stroke-linejoin:miter;stroke-width:0.5;\" />\n   </g>\n   <g id=\"patch_33\">\n    <path clip-path=\"url(#p15f38d6ecf)\" d=\"M 118.747349 27.199375  L 127.948823 27.199375  L 127.948823 23.747946  L 118.747349 23.747946  z \" style=\"fill:#a1dab4;stroke:#444443;stroke-linejoin:miter;stroke-width:0.5;\" />\n   </g>\n   <g id=\"patch_34\">\n    <path clip-path=\"url(#p15f38d6ecf)\" d=\"M 127.948823 22.022232  L 137.150296 22.022232  L 137.150296 13.393661  L 127.948823 13.393661  z \" style=\"fill:#a1dab4;stroke:#444443;stroke-linejoin:miter;stroke-width:0.5;\" />\n   </g>\n   <g id=\"patch_35\">\n    <path clip-path=\"url(#p15f38d6ecf)\" d=\"M 137.150296 28.925089  L 146.35177 28.925089  L 146.35177 28.925089  L 137.150296 28.925089  z \" style=\"fill:#a1dab4;stroke:#444443;stroke-linejoin:miter;stroke-width:0.5;\" />\n   </g>\n   <g id=\"patch_36\">\n    <path clip-path=\"url(#p15f38d6ecf)\" d=\"M 146.35177 20.296518  L 155.553243 20.296518  L 155.553243 16.845089  L 146.35177 16.845089  z \" style=\"fill:#a1dab4;stroke:#444443;stroke-linejoin:miter;stroke-width:0.5;\" />\n   </g>\n   <g id=\"patch_37\">\n    <path clip-path=\"url(#p15f38d6ecf)\" d=\"M 155.553243 27.199375  L 164.754716 27.199375  L 164.754716 20.296518  L 155.553243 20.296518  z \" style=\"fill:#a1dab4;stroke:#444443;stroke-linejoin:miter;stroke-width:0.5;\" />\n   </g>\n   <g id=\"patch_38\">\n    <path clip-path=\"url(#p15f38d6ecf)\" d=\"M 164.754716 22.022232  L 173.95619 22.022232  L 173.95619 8.216518  L 164.754716 8.216518  z \" style=\"fill:#a1dab4;stroke:#444443;stroke-linejoin:miter;stroke-width:0.5;\" />\n   </g>\n   <g id=\"patch_39\">\n    <path clip-path=\"url(#p15f38d6ecf)\" d=\"M 173.95619 27.199375  L 183.157663 27.199375  L 183.157663 23.747946  L 173.95619 23.747946  z \" style=\"fill:#a1dab4;stroke:#444443;stroke-linejoin:miter;stroke-width:0.5;\" />\n   </g>\n   <g id=\"patch_40\">\n    <path clip-path=\"url(#p15f38d6ecf)\" d=\"M 183.157663 22.022232  L 192.359137 22.022232  L 192.359137 3.039375  L 183.157663 3.039375  z \" style=\"fill:#a1dab4;stroke:#444443;stroke-linejoin:miter;stroke-width:0.5;\" />\n   </g>\n   <g id=\"patch_41\">\n    <path d=\"M 133.185068 29.740489  L 129.870548 37.079089  L 136.499588 37.079089  z \" style=\"fill:#444443;\" />\n   </g>\n   <g id=\"matplotlib.axis_1\">\n    <g id=\"xtick_1\">\n     <g id=\"line2d_1\">\n      <defs>\n       <path d=\"M 0 0  L 0 3.5  \" id=\"m38de07c4a9\" style=\"stroke:#000000;stroke-width:0.3;\" />\n      </defs>\n      <g>\n       <use style=\"stroke:#000000;stroke-width:0.3;\" x=\"17.531142\" y=\"28.925089\" xlink:href=\"#m38de07c4a9\" />\n      </g>\n     </g>\n     <g id=\"text_1\">\n      \n      <defs>\n       <path d=\"M 31.78125 66.40625  Q 24.171875 66.40625 20.328125 58.90625  Q 16.5 51.421875 16.5 36.375  Q 16.5 21.390625 20.328125 13.890625  Q 24.171875 6.390625 31.78125 6.390625  Q 39.453125 6.390625 43.28125 13.890625  Q 47.125 21.390625 47.125 36.375  Q 47.125 51.421875 43.28125 58.90625  Q 39.453125 66.40625 31.78125 66.40625  z M 31.78125 74.21875  Q 44.046875 74.21875 50.515625 64.515625  Q 56.984375 54.828125 56.984375 36.375  Q 56.984375 17.96875 50.515625 8.265625  Q 44.046875 -1.421875 31.78125 -1.421875  Q 19.53125 -1.421875 13.0625 8.265625  Q 6.59375 17.96875 6.59375 36.375  Q 6.59375 54.828125 13.0625 64.515625  Q 19.53125 74.21875 31.78125 74.21875  z \" id=\"DejaVuSans-48\" />\n       <path d=\"M 10.6875 12.40625  L 21 12.40625  L 21 0  L 10.6875 0  z \" id=\"DejaVuSans-46\" />\n       <path d=\"M 19.1875 8.296875  L 53.609375 8.296875  L 53.609375 0  L 7.328125 0  L 7.328125 8.296875  Q 12.9375 14.109375 22.625 23.890625  Q 32.328125 33.6875 34.8125 36.53125  Q 39.546875 41.84375 41.421875 45.53125  Q 43.3125 49.21875 43.3125 52.78125  Q 43.3125 58.59375 39.234375 62.25  Q 35.15625 65.921875 28.609375 65.921875  Q 23.96875 65.921875 18.8125 64.3125  Q 13.671875 62.703125 7.8125 59.421875  L 7.8125 69.390625  Q 13.765625 71.78125 18.9375 73  Q 24.125 74.21875 28.421875 74.21875  Q 39.75 74.21875 46.484375 68.546875  Q 53.21875 62.890625 53.21875 53.421875  Q 53.21875 48.921875 51.53125 44.890625  Q 49.859375 40.875 45.40625 35.40625  Q 44.1875 33.984375 37.640625 27.21875  Q 31.109375 20.453125 19.1875 8.296875  z \" id=\"DejaVuSans-50\" />\n      </defs>\n      <g style=\"fill:#444443;\" transform=\"translate(3.534892 42.003839)scale(0.08 -0.08)\">\n       <use xlink:href=\"#DejaVuSans-48\" />\n       <use x=\"63.623047\" xlink:href=\"#DejaVuSans-46\" />\n       <use x=\"95.410156\" xlink:href=\"#DejaVuSans-48\" />\n       <use x=\"159.033203\" xlink:href=\"#DejaVuSans-50\" />\n       <use x=\"222.65625\" xlink:href=\"#DejaVuSans-48\" />\n       <use x=\"286.279297\" xlink:href=\"#DejaVuSans-50\" />\n      </g>\n     </g>\n    </g>\n    <g id=\"xtick_2\">\n     <g id=\"line2d_2\">\n      <g>\n       <use style=\"stroke:#000000;stroke-width:0.3;\" x=\"192.359137\" y=\"28.925089\" xlink:href=\"#m38de07c4a9\" />\n      </g>\n     </g>\n     <g id=\"text_2\">\n      \n      <defs>\n       <path d=\"M 31.78125 34.625  Q 24.75 34.625 20.71875 30.859375  Q 16.703125 27.09375 16.703125 20.515625  Q 16.703125 13.921875 20.71875 10.15625  Q 24.75 6.390625 31.78125 6.390625  Q 38.8125 6.390625 42.859375 10.171875  Q 46.921875 13.96875 46.921875 20.515625  Q 46.921875 27.09375 42.890625 30.859375  Q 38.875 34.625 31.78125 34.625  z M 21.921875 38.8125  Q 15.578125 40.375 12.03125 44.71875  Q 8.5 49.078125 8.5 55.328125  Q 8.5 64.0625 14.71875 69.140625  Q 20.953125 74.21875 31.78125 74.21875  Q 42.671875 74.21875 48.875 69.140625  Q 55.078125 64.0625 55.078125 55.328125  Q 55.078125 49.078125 51.53125 44.71875  Q 48 40.375 41.703125 38.8125  Q 48.828125 37.15625 52.796875 32.3125  Q 56.78125 27.484375 56.78125 20.515625  Q 56.78125 9.90625 50.3125 4.234375  Q 43.84375 -1.421875 31.78125 -1.421875  Q 19.734375 -1.421875 13.25 4.234375  Q 6.78125 9.90625 6.78125 20.515625  Q 6.78125 27.484375 10.78125 32.3125  Q 14.796875 37.15625 21.921875 38.8125  z M 18.3125 54.390625  Q 18.3125 48.734375 21.84375 45.5625  Q 25.390625 42.390625 31.78125 42.390625  Q 38.140625 42.390625 41.71875 45.5625  Q 45.3125 48.734375 45.3125 54.390625  Q 45.3125 60.0625 41.71875 63.234375  Q 38.140625 66.40625 31.78125 66.40625  Q 25.390625 66.40625 21.84375 63.234375  Q 18.3125 60.0625 18.3125 54.390625  z \" id=\"DejaVuSans-56\" />\n      </defs>\n      <g style=\"fill:#444443;\" transform=\"translate(178.362887 42.003839)scale(0.08 -0.08)\">\n       <use xlink:href=\"#DejaVuSans-48\" />\n       <use x=\"63.623047\" xlink:href=\"#DejaVuSans-46\" />\n       <use x=\"95.410156\" xlink:href=\"#DejaVuSans-56\" />\n       <use x=\"159.033203\" xlink:href=\"#DejaVuSans-50\" />\n       <use x=\"222.65625\" xlink:href=\"#DejaVuSans-50\" />\n       <use x=\"286.279297\" xlink:href=\"#DejaVuSans-56\" />\n      </g>\n     </g>\n    </g>\n    <g id=\"text_3\">\n     \n     <defs>\n      <path d=\"M 48.78125 52.59375  L 48.78125 44.1875  Q 44.96875 46.296875 41.140625 47.34375  Q 37.3125 48.390625 33.40625 48.390625  Q 24.65625 48.390625 19.8125 42.84375  Q 14.984375 37.3125 14.984375 27.296875  Q 14.984375 17.28125 19.8125 11.734375  Q 24.65625 6.203125 33.40625 6.203125  Q 37.3125 6.203125 41.140625 7.25  Q 44.96875 8.296875 48.78125 10.40625  L 48.78125 2.09375  Q 45.015625 0.34375 40.984375 -0.53125  Q 36.96875 -1.421875 32.421875 -1.421875  Q 20.0625 -1.421875 12.78125 6.34375  Q 5.515625 14.109375 5.515625 27.296875  Q 5.515625 40.671875 12.859375 48.328125  Q 20.21875 56 33.015625 56  Q 37.15625 56 41.109375 55.140625  Q 45.0625 54.296875 48.78125 52.59375  z \" id=\"DejaVuSans-99\" />\n      <path d=\"M 30.609375 48.390625  Q 23.390625 48.390625 19.1875 42.75  Q 14.984375 37.109375 14.984375 27.296875  Q 14.984375 17.484375 19.15625 11.84375  Q 23.34375 6.203125 30.609375 6.203125  Q 37.796875 6.203125 41.984375 11.859375  Q 46.1875 17.53125 46.1875 27.296875  Q 46.1875 37.015625 41.984375 42.703125  Q 37.796875 48.390625 30.609375 48.390625  z M 30.609375 56  Q 42.328125 56 49.015625 48.375  Q 55.71875 40.765625 55.71875 27.296875  Q 55.71875 13.875 49.015625 6.21875  Q 42.328125 -1.421875 30.609375 -1.421875  Q 18.84375 -1.421875 12.171875 6.21875  Q 5.515625 13.875 5.515625 27.296875  Q 5.515625 40.765625 12.171875 48.375  Q 18.84375 56 30.609375 56  z \" id=\"DejaVuSans-111\" />\n      <path d=\"M 54.890625 33.015625  L 54.890625 0  L 45.90625 0  L 45.90625 32.71875  Q 45.90625 40.484375 42.875 44.328125  Q 39.84375 48.1875 33.796875 48.1875  Q 26.515625 48.1875 22.3125 43.546875  Q 18.109375 38.921875 18.109375 30.90625  L 18.109375 0  L 9.078125 0  L 9.078125 54.6875  L 18.109375 54.6875  L 18.109375 46.1875  Q 21.34375 51.125 25.703125 53.5625  Q 30.078125 56 35.796875 56  Q 45.21875 56 50.046875 50.171875  Q 54.890625 44.34375 54.890625 33.015625  z \" id=\"DejaVuSans-110\" />\n      <path d=\"M 18.3125 70.21875  L 18.3125 54.6875  L 36.8125 54.6875  L 36.8125 47.703125  L 18.3125 47.703125  L 18.3125 18.015625  Q 18.3125 11.328125 20.140625 9.421875  Q 21.96875 7.515625 27.59375 7.515625  L 36.8125 7.515625  L 36.8125 0  L 27.59375 0  Q 17.1875 0 13.234375 3.875  Q 9.28125 7.765625 9.28125 18.015625  L 9.28125 47.703125  L 2.6875 47.703125  L 2.6875 54.6875  L 9.28125 54.6875  L 9.28125 70.21875  z \" id=\"DejaVuSans-116\" />\n      <path d=\"M 10.796875 72.90625  L 49.515625 72.90625  L 49.515625 64.59375  L 19.828125 64.59375  L 19.828125 46.734375  Q 21.96875 47.46875 24.109375 47.828125  Q 26.265625 48.1875 28.421875 48.1875  Q 40.625 48.1875 47.75 41.5  Q 54.890625 34.8125 54.890625 23.390625  Q 54.890625 11.625 47.5625 5.09375  Q 40.234375 -1.421875 26.90625 -1.421875  Q 22.3125 -1.421875 17.546875 -0.640625  Q 12.796875 0.140625 7.71875 1.703125  L 7.71875 11.625  Q 12.109375 9.234375 16.796875 8.0625  Q 21.484375 6.890625 26.703125 6.890625  Q 35.15625 6.890625 40.078125 11.328125  Q 45.015625 15.765625 45.015625 23.390625  Q 45.015625 31 40.078125 35.4375  Q 35.15625 39.890625 26.703125 39.890625  Q 22.75 39.890625 18.8125 39.015625  Q 14.890625 38.140625 10.796875 36.28125  z \" id=\"DejaVuSans-53\" />\n     </defs>\n     <g style=\"fill:#444443;\" transform=\"translate(95.13125 55.266027)scale(0.1 -0.1)\">\n      <use xlink:href=\"#DejaVuSans-99\" />\n      <use x=\"54.980469\" xlink:href=\"#DejaVuSans-111\" />\n      <use x=\"116.162109\" xlink:href=\"#DejaVuSans-110\" />\n      <use x=\"179.541016\" xlink:href=\"#DejaVuSans-116\" />\n      <use x=\"218.75\" xlink:href=\"#DejaVuSans-53\" />\n     </g>\n    </g>\n   </g>\n   <g id=\"matplotlib.axis_2\">\n    <g id=\"ytick_1\">\n     <g id=\"line2d_3\">\n      <defs>\n       <path d=\"M 0 0  L -3.5 0  \" id=\"m1cd1f3846b\" style=\"stroke:#000000;stroke-width:0.3;\" />\n      </defs>\n      <g>\n       <use style=\"stroke:#000000;stroke-width:0.3;\" x=\"17.18\" y=\"28.925089\" xlink:href=\"#m1cd1f3846b\" />\n      </g>\n     </g>\n     <g id=\"text_4\">\n      \n      <g style=\"fill:#444443;\" transform=\"translate(5.09 31.964464)scale(0.08 -0.08)\">\n       <use xlink:href=\"#DejaVuSans-48\" />\n      </g>\n     </g>\n    </g>\n    <g id=\"ytick_2\">\n     <g id=\"line2d_4\">\n      <g>\n       <use style=\"stroke:#000000;stroke-width:0.3;\" x=\"17.18\" y=\"3.039375\" xlink:href=\"#m1cd1f3846b\" />\n      </g>\n     </g>\n     <g id=\"text_5\">\n      \n      <defs>\n       <path d=\"M 12.40625 8.296875  L 28.515625 8.296875  L 28.515625 63.921875  L 10.984375 60.40625  L 10.984375 69.390625  L 28.421875 72.90625  L 38.28125 72.90625  L 38.28125 8.296875  L 54.390625 8.296875  L 54.390625 0  L 12.40625 0  z \" id=\"DejaVuSans-49\" />\n      </defs>\n      <g style=\"fill:#444443;\" transform=\"translate(0 6.07875)scale(0.08 -0.08)\">\n       <use xlink:href=\"#DejaVuSans-49\" />\n       <use x=\"63.623047\" xlink:href=\"#DejaVuSans-53\" />\n      </g>\n     </g>\n    </g>\n   </g>\n   <g id=\"patch_42\">\n    <path d=\"M 17.18 28.925089  L 17.18 1.745089  \" style=\"fill:none;stroke:#000000;stroke-linecap:square;stroke-linejoin:miter;stroke-width:0.3;\" />\n   </g>\n   <g id=\"patch_43\">\n    <path d=\"M 17.18 28.925089  L 201.32 28.925089  \" style=\"fill:none;stroke:#000000;stroke-linecap:square;stroke-linejoin:miter;stroke-width:0.3;\" />\n   </g>\n   <g id=\"text_6\">\n    \n    <g style=\"fill:#444443;\" transform=\"translate(124.278818 45.233089)scale(0.08 -0.08)\">\n     <use xlink:href=\"#DejaVuSans-48\" />\n     <use x=\"63.623047\" xlink:href=\"#DejaVuSans-46\" />\n     <use x=\"95.410156\" xlink:href=\"#DejaVuSans-53\" />\n     <use x=\"159.033203\" xlink:href=\"#DejaVuSans-53\" />\n    </g>\n   </g>\n  </g>\n </g>\n <defs>\n  <clipPath id=\"p15f38d6ecf\">\n   <rect height=\"27.18\" width=\"184.14\" x=\"17.18\" y=\"1.745089\" />\n  </clipPath>\n </defs>\n</svg></g>\n\n<g class=\"node\" id=\"node4\">\n<title>leaf5</title>\n<polygon fill=\"none\" points=\"603,-230.5 547,-230.5 547,-158.5 603,-158.5 603,-230.5\" stroke=\"#444443\" stroke-width=\"0\" />\n<svg height=\"64px\" preserveAspectRatio=\"xMinYMin meet\" version=\"1.1\" viewBox=\"0 0 63.855863 85.067437\" width=\"48px\" x=\"551\" y=\"-226.5\">\n <defs>\n  <style type=\"text/css\">\n*{stroke-linecap:butt;stroke-linejoin:round;}\n  </style>\n </defs>\n <g id=\"figure_1\">\n  <g id=\"patch_1\">\n   <path d=\"M 0 85.067437  L 63.855863 85.067437  L 63.855863 0  L 0 0  z \" style=\"fill:#ffffff;\" />\n  </g>\n  <g id=\"axes_1\">\n   <g id=\"patch_2\">\n    <path d=\"M 63.855863 32.032293  C 63.855863 26.755509 62.538718 21.561242 60.024262 16.922066  C 57.509806 12.282889 53.876679 8.343895 49.455423 5.463454  C 45.034168 2.583012 39.963059 0.851209 34.703467 0.425605  C 29.443875 0 24.160295 0.893905 19.333427 3.025991  C 14.506559 5.158077 10.287364 8.461664 7.059706 12.63619  C 3.832048 16.810716 1.696872 21.725623 0.848436 26.933752  C 0 32.14188 0.46484 37.480345 2.200663 42.463453  C 3.936487 47.446561 6.889007 51.918463 10.789602 55.472306  L 32.145863 32.032293  L 63.855863 32.032293  z \" style=\"fill:#fefebb;stroke:#444443;stroke-linejoin:miter;stroke-width:0.5;\" />\n   </g>\n   <g id=\"patch_3\">\n    <path d=\"M 10.789602 55.472306  C 15.332343 59.611209 20.981791 62.341609 27.04732 63.32972  C 33.112849 64.317832 39.336795 63.521682 44.958297 61.038597  C 50.5798 58.555511 55.360059 54.490972 58.714701 49.341857  C 62.069342 44.192742 63.855862 38.177786 63.855863 32.032299  L 32.145863 32.032293  L 10.789602 55.472306  z \" style=\"fill:#a1dab4;stroke:#444443;stroke-linejoin:miter;stroke-width:0.5;\" />\n   </g>\n   <g id=\"text_1\">\n    \n    <defs>\n     <path d=\"M 54.890625 33.015625  L 54.890625 0  L 45.90625 0  L 45.90625 32.71875  Q 45.90625 40.484375 42.875 44.328125  Q 39.84375 48.1875 33.796875 48.1875  Q 26.515625 48.1875 22.3125 43.546875  Q 18.109375 38.921875 18.109375 30.90625  L 18.109375 0  L 9.078125 0  L 9.078125 54.6875  L 18.109375 54.6875  L 18.109375 46.1875  Q 21.34375 51.125 25.703125 53.5625  Q 30.078125 56 35.796875 56  Q 45.21875 56 50.046875 50.171875  Q 54.890625 44.34375 54.890625 33.015625  z \" id=\"DejaVuSans-110\" />\n     <path d=\"M 10.59375 45.40625  L 73.1875 45.40625  L 73.1875 37.203125  L 10.59375 37.203125  z M 10.59375 25.484375  L 73.1875 25.484375  L 73.1875 17.1875  L 10.59375 17.1875  z \" id=\"DejaVuSans-61\" />\n     <path d=\"M 37.796875 64.3125  L 12.890625 25.390625  L 37.796875 25.390625  z M 35.203125 72.90625  L 47.609375 72.90625  L 47.609375 25.390625  L 58.015625 25.390625  L 58.015625 17.1875  L 47.609375 17.1875  L 47.609375 0  L 37.796875 0  L 37.796875 17.1875  L 4.890625 17.1875  L 4.890625 26.703125  z \" id=\"DejaVuSans-52\" />\n     <path d=\"M 10.796875 72.90625  L 49.515625 72.90625  L 49.515625 64.59375  L 19.828125 64.59375  L 19.828125 46.734375  Q 21.96875 47.46875 24.109375 47.828125  Q 26.265625 48.1875 28.421875 48.1875  Q 40.625 48.1875 47.75 41.5  Q 54.890625 34.8125 54.890625 23.390625  Q 54.890625 11.625 47.5625 5.09375  Q 40.234375 -1.421875 26.90625 -1.421875  Q 22.3125 -1.421875 17.546875 -0.640625  Q 12.796875 0.140625 7.71875 1.703125  L 7.71875 11.625  Q 12.109375 9.234375 16.796875 8.0625  Q 21.484375 6.890625 26.703125 6.890625  Q 35.15625 6.890625 40.078125 11.328125  Q 45.015625 15.765625 45.015625 23.390625  Q 45.015625 31 40.078125 35.4375  Q 35.15625 39.890625 26.703125 39.890625  Q 22.75 39.890625 18.8125 39.015625  Q 14.890625 38.140625 10.796875 36.28125  z \" id=\"DejaVuSans-53\" />\n    </defs>\n    <g style=\"fill:#444443;\" transform=\"translate(19.796879 73.117687)scale(0.09 -0.09)\">\n     <use xlink:href=\"#DejaVuSans-110\" />\n     <use x=\"63.378906\" xlink:href=\"#DejaVuSans-61\" />\n     <use x=\"147.167969\" xlink:href=\"#DejaVuSans-52\" />\n     <use x=\"210.791016\" xlink:href=\"#DejaVuSans-53\" />\n    </g>\n    \n    <defs>\n     <path d=\"M 48.78125 52.59375  L 48.78125 44.1875  Q 44.96875 46.296875 41.140625 47.34375  Q 37.3125 48.390625 33.40625 48.390625  Q 24.65625 48.390625 19.8125 42.84375  Q 14.984375 37.3125 14.984375 27.296875  Q 14.984375 17.28125 19.8125 11.734375  Q 24.65625 6.203125 33.40625 6.203125  Q 37.3125 6.203125 41.140625 7.25  Q 44.96875 8.296875 48.78125 10.40625  L 48.78125 2.09375  Q 45.015625 0.34375 40.984375 -0.53125  Q 36.96875 -1.421875 32.421875 -1.421875  Q 20.0625 -1.421875 12.78125 6.34375  Q 5.515625 14.109375 5.515625 27.296875  Q 5.515625 40.671875 12.859375 48.328125  Q 20.21875 56 33.015625 56  Q 37.15625 56 41.109375 55.140625  Q 45.0625 54.296875 48.78125 52.59375  z \" id=\"DejaVuSans-99\" />\n     <path d=\"M 9.421875 75.984375  L 18.40625 75.984375  L 18.40625 0  L 9.421875 0  z \" id=\"DejaVuSans-108\" />\n     <path d=\"M 34.28125 27.484375  Q 23.390625 27.484375 19.1875 25  Q 14.984375 22.515625 14.984375 16.5  Q 14.984375 11.71875 18.140625 8.90625  Q 21.296875 6.109375 26.703125 6.109375  Q 34.1875 6.109375 38.703125 11.40625  Q 43.21875 16.703125 43.21875 25.484375  L 43.21875 27.484375  z M 52.203125 31.203125  L 52.203125 0  L 43.21875 0  L 43.21875 8.296875  Q 40.140625 3.328125 35.546875 0.953125  Q 30.953125 -1.421875 24.3125 -1.421875  Q 15.921875 -1.421875 10.953125 3.296875  Q 6 8.015625 6 15.921875  Q 6 25.140625 12.171875 29.828125  Q 18.359375 34.515625 30.609375 34.515625  L 43.21875 34.515625  L 43.21875 35.40625  Q 43.21875 41.609375 39.140625 45  Q 35.0625 48.390625 27.6875 48.390625  Q 23 48.390625 18.546875 47.265625  Q 14.109375 46.140625 10.015625 43.890625  L 10.015625 52.203125  Q 14.9375 54.109375 19.578125 55.046875  Q 24.21875 56 28.609375 56  Q 40.484375 56 46.34375 49.84375  Q 52.203125 43.703125 52.203125 31.203125  z \" id=\"DejaVuSans-97\" />\n     <path d=\"M 44.28125 53.078125  L 44.28125 44.578125  Q 40.484375 46.53125 36.375 47.5  Q 32.28125 48.484375 27.875 48.484375  Q 21.1875 48.484375 17.84375 46.4375  Q 14.5 44.390625 14.5 40.28125  Q 14.5 37.15625 16.890625 35.375  Q 19.28125 33.59375 26.515625 31.984375  L 29.59375 31.296875  Q 39.15625 29.25 43.1875 25.515625  Q 47.21875 21.78125 47.21875 15.09375  Q 47.21875 7.46875 41.1875 3.015625  Q 35.15625 -1.421875 24.609375 -1.421875  Q 20.21875 -1.421875 15.453125 -0.5625  Q 10.6875 0.296875 5.421875 2  L 5.421875 11.28125  Q 10.40625 8.6875 15.234375 7.390625  Q 20.0625 6.109375 24.8125 6.109375  Q 31.15625 6.109375 34.5625 8.28125  Q 37.984375 10.453125 37.984375 14.40625  Q 37.984375 18.0625 35.515625 20.015625  Q 33.0625 21.96875 24.703125 23.78125  L 21.578125 24.515625  Q 13.234375 26.265625 9.515625 29.90625  Q 5.8125 33.546875 5.8125 39.890625  Q 5.8125 47.609375 11.28125 51.796875  Q 16.75 56 26.8125 56  Q 31.78125 56 36.171875 55.265625  Q 40.578125 54.546875 44.28125 53.078125  z \" id=\"DejaVuSans-115\" />\n     <path id=\"DejaVuSans-32\" />\n     <path d=\"M 31.78125 66.40625  Q 24.171875 66.40625 20.328125 58.90625  Q 16.5 51.421875 16.5 36.375  Q 16.5 21.390625 20.328125 13.890625  Q 24.171875 6.390625 31.78125 6.390625  Q 39.453125 6.390625 43.28125 13.890625  Q 47.125 21.390625 47.125 36.375  Q 47.125 51.421875 43.28125 58.90625  Q 39.453125 66.40625 31.78125 66.40625  z M 31.78125 74.21875  Q 44.046875 74.21875 50.515625 64.515625  Q 56.984375 54.828125 56.984375 36.375  Q 56.984375 17.96875 50.515625 8.265625  Q 44.046875 -1.421875 31.78125 -1.421875  Q 19.53125 -1.421875 13.0625 8.265625  Q 6.59375 17.96875 6.59375 36.375  Q 6.59375 54.828125 13.0625 64.515625  Q 19.53125 74.21875 31.78125 74.21875  z \" id=\"DejaVuSans-48\" />\n    </defs>\n    <g style=\"fill:#444443;\" transform=\"translate(16.682035 83.195718)scale(0.09 -0.09)\">\n     <use xlink:href=\"#DejaVuSans-99\" />\n     <use x=\"54.980469\" xlink:href=\"#DejaVuSans-108\" />\n     <use x=\"82.763672\" xlink:href=\"#DejaVuSans-97\" />\n     <use x=\"144.042969\" xlink:href=\"#DejaVuSans-115\" />\n     <use x=\"196.142578\" xlink:href=\"#DejaVuSans-115\" />\n     <use x=\"248.242188\" xlink:href=\"#DejaVuSans-32\" />\n     <use x=\"280.029297\" xlink:href=\"#DejaVuSans-48\" />\n    </g>\n   </g>\n  </g>\n </g>\n</svg></g>\n\n<g class=\"edge\" id=\"edge1\">\n<title>node3-&gt;leaf5</title>\n<path d=\"M527.1469,-181.5667C532.5922,-183.0384 537.8661,-184.4638 542.7992,-185.7971\" fill=\"none\" stroke=\"#444443\" stroke-width=\".3\" />\n<polygon fill=\"#444443\" points=\"542.6325,-187.2022 546.8593,-186.8944 543.3631,-184.4992 542.6325,-187.2022\" stroke=\"#444443\" stroke-width=\".3\" />\n</g>\n\n<g class=\"node\" id=\"node5\">\n<title>leaf6</title>\n<polygon fill=\"none\" points=\"606,-144.5 544,-144.5 544,-66.5 606,-66.5 606,-144.5\" stroke=\"#444443\" stroke-width=\"0\" />\n<svg height=\"70px\" preserveAspectRatio=\"xMinYMin meet\" version=\"1.1\" viewBox=\"0 0 71.031728 93.026738\" width=\"54px\" x=\"548\" y=\"-140.5\">\n <defs>\n  <style type=\"text/css\">\n*{stroke-linecap:butt;stroke-linejoin:round;}\n  </style>\n </defs>\n <g id=\"figure_1\">\n  <g id=\"patch_1\">\n   <path d=\"M 0 93.026738  L 71.031728 93.026738  L 71.031728 0  L 0 0  z \" style=\"fill:#ffffff;\" />\n  </g>\n  <g id=\"axes_1\">\n   <g id=\"patch_2\">\n    <path d=\"M 71.031728 36.077674  C 71.031728 28.409401 68.535446 20.945648 63.922122 14.82032  C 59.308798 8.694991 52.824515 4.234823 45.454374 2.117412  C 38.084233 0 30.221371 0.338291 23.060327 3.080891  C 15.899283 5.823492 9.822039 10.824106 5.75186 17.323033  L 35.697728 36.077674  L 71.031728 36.077674  z \" style=\"fill:#fefebb;stroke:#444443;stroke-linejoin:miter;stroke-width:0.5;\" />\n   </g>\n   <g id=\"patch_3\">\n    <path d=\"M 5.75186 17.323033  C 2.846814 21.961572 1.058855 27.212272 0.529427 32.659753  C 0 38.107234 0.743444 43.603955 2.700945 48.715073  C 4.658446 53.826191 7.776988 58.413277 11.809863 62.113447  C 15.842738 65.813616 20.680721 68.526655 25.941079 70.037935  C 31.201438 71.549216 36.7417 71.817806 42.12358 70.822458  C 47.505459 69.827109 52.583191 67.594781 56.955078 64.302071  C 61.326966 61.009362 64.874601 56.74545 67.317331 51.847654  C 69.760061 46.949857 71.031727 41.550828 71.031728 36.077681  L 35.697728 36.077674  L 5.75186 17.323033  z \" style=\"fill:#a1dab4;stroke:#444443;stroke-linejoin:miter;stroke-width:0.5;\" />\n   </g>\n   <g id=\"text_1\">\n    \n    <defs>\n     <path d=\"M 54.890625 33.015625  L 54.890625 0  L 45.90625 0  L 45.90625 32.71875  Q 45.90625 40.484375 42.875 44.328125  Q 39.84375 48.1875 33.796875 48.1875  Q 26.515625 48.1875 22.3125 43.546875  Q 18.109375 38.921875 18.109375 30.90625  L 18.109375 0  L 9.078125 0  L 9.078125 54.6875  L 18.109375 54.6875  L 18.109375 46.1875  Q 21.34375 51.125 25.703125 53.5625  Q 30.078125 56 35.796875 56  Q 45.21875 56 50.046875 50.171875  Q 54.890625 44.34375 54.890625 33.015625  z \" id=\"DejaVuSans-110\" />\n     <path d=\"M 10.59375 45.40625  L 73.1875 45.40625  L 73.1875 37.203125  L 10.59375 37.203125  z M 10.59375 25.484375  L 73.1875 25.484375  L 73.1875 17.1875  L 10.59375 17.1875  z \" id=\"DejaVuSans-61\" />\n     <path d=\"M 10.796875 72.90625  L 49.515625 72.90625  L 49.515625 64.59375  L 19.828125 64.59375  L 19.828125 46.734375  Q 21.96875 47.46875 24.109375 47.828125  Q 26.265625 48.1875 28.421875 48.1875  Q 40.625 48.1875 47.75 41.5  Q 54.890625 34.8125 54.890625 23.390625  Q 54.890625 11.625 47.5625 5.09375  Q 40.234375 -1.421875 26.90625 -1.421875  Q 22.3125 -1.421875 17.546875 -0.640625  Q 12.796875 0.140625 7.71875 1.703125  L 7.71875 11.625  Q 12.109375 9.234375 16.796875 8.0625  Q 21.484375 6.890625 26.703125 6.890625  Q 35.15625 6.890625 40.078125 11.328125  Q 45.015625 15.765625 45.015625 23.390625  Q 45.015625 31 40.078125 35.4375  Q 35.15625 39.890625 26.703125 39.890625  Q 22.75 39.890625 18.8125 39.015625  Q 14.890625 38.140625 10.796875 36.28125  z \" id=\"DejaVuSans-53\" />\n     <path d=\"M 12.40625 8.296875  L 28.515625 8.296875  L 28.515625 63.921875  L 10.984375 60.40625  L 10.984375 69.390625  L 28.421875 72.90625  L 38.28125 72.90625  L 38.28125 8.296875  L 54.390625 8.296875  L 54.390625 0  L 12.40625 0  z \" id=\"DejaVuSans-49\" />\n    </defs>\n    <g style=\"fill:#444443;\" transform=\"translate(23.348744 81.076988)scale(0.09 -0.09)\">\n     <use xlink:href=\"#DejaVuSans-110\" />\n     <use x=\"63.378906\" xlink:href=\"#DejaVuSans-61\" />\n     <use x=\"147.167969\" xlink:href=\"#DejaVuSans-53\" />\n     <use x=\"210.791016\" xlink:href=\"#DejaVuSans-49\" />\n    </g>\n    \n    <defs>\n     <path d=\"M 48.78125 52.59375  L 48.78125 44.1875  Q 44.96875 46.296875 41.140625 47.34375  Q 37.3125 48.390625 33.40625 48.390625  Q 24.65625 48.390625 19.8125 42.84375  Q 14.984375 37.3125 14.984375 27.296875  Q 14.984375 17.28125 19.8125 11.734375  Q 24.65625 6.203125 33.40625 6.203125  Q 37.3125 6.203125 41.140625 7.25  Q 44.96875 8.296875 48.78125 10.40625  L 48.78125 2.09375  Q 45.015625 0.34375 40.984375 -0.53125  Q 36.96875 -1.421875 32.421875 -1.421875  Q 20.0625 -1.421875 12.78125 6.34375  Q 5.515625 14.109375 5.515625 27.296875  Q 5.515625 40.671875 12.859375 48.328125  Q 20.21875 56 33.015625 56  Q 37.15625 56 41.109375 55.140625  Q 45.0625 54.296875 48.78125 52.59375  z \" id=\"DejaVuSans-99\" />\n     <path d=\"M 9.421875 75.984375  L 18.40625 75.984375  L 18.40625 0  L 9.421875 0  z \" id=\"DejaVuSans-108\" />\n     <path d=\"M 34.28125 27.484375  Q 23.390625 27.484375 19.1875 25  Q 14.984375 22.515625 14.984375 16.5  Q 14.984375 11.71875 18.140625 8.90625  Q 21.296875 6.109375 26.703125 6.109375  Q 34.1875 6.109375 38.703125 11.40625  Q 43.21875 16.703125 43.21875 25.484375  L 43.21875 27.484375  z M 52.203125 31.203125  L 52.203125 0  L 43.21875 0  L 43.21875 8.296875  Q 40.140625 3.328125 35.546875 0.953125  Q 30.953125 -1.421875 24.3125 -1.421875  Q 15.921875 -1.421875 10.953125 3.296875  Q 6 8.015625 6 15.921875  Q 6 25.140625 12.171875 29.828125  Q 18.359375 34.515625 30.609375 34.515625  L 43.21875 34.515625  L 43.21875 35.40625  Q 43.21875 41.609375 39.140625 45  Q 35.0625 48.390625 27.6875 48.390625  Q 23 48.390625 18.546875 47.265625  Q 14.109375 46.140625 10.015625 43.890625  L 10.015625 52.203125  Q 14.9375 54.109375 19.578125 55.046875  Q 24.21875 56 28.609375 56  Q 40.484375 56 46.34375 49.84375  Q 52.203125 43.703125 52.203125 31.203125  z \" id=\"DejaVuSans-97\" />\n     <path d=\"M 44.28125 53.078125  L 44.28125 44.578125  Q 40.484375 46.53125 36.375 47.5  Q 32.28125 48.484375 27.875 48.484375  Q 21.1875 48.484375 17.84375 46.4375  Q 14.5 44.390625 14.5 40.28125  Q 14.5 37.15625 16.890625 35.375  Q 19.28125 33.59375 26.515625 31.984375  L 29.59375 31.296875  Q 39.15625 29.25 43.1875 25.515625  Q 47.21875 21.78125 47.21875 15.09375  Q 47.21875 7.46875 41.1875 3.015625  Q 35.15625 -1.421875 24.609375 -1.421875  Q 20.21875 -1.421875 15.453125 -0.5625  Q 10.6875 0.296875 5.421875 2  L 5.421875 11.28125  Q 10.40625 8.6875 15.234375 7.390625  Q 20.0625 6.109375 24.8125 6.109375  Q 31.15625 6.109375 34.5625 8.28125  Q 37.984375 10.453125 37.984375 14.40625  Q 37.984375 18.0625 35.515625 20.015625  Q 33.0625 21.96875 24.703125 23.78125  L 21.578125 24.515625  Q 13.234375 26.265625 9.515625 29.90625  Q 5.8125 33.546875 5.8125 39.890625  Q 5.8125 47.609375 11.28125 51.796875  Q 16.75 56 26.8125 56  Q 31.78125 56 36.171875 55.265625  Q 40.578125 54.546875 44.28125 53.078125  z \" id=\"DejaVuSans-115\" />\n     <path id=\"DejaVuSans-32\" />\n    </defs>\n    <g style=\"fill:#444443;\" transform=\"translate(20.2339 91.155019)scale(0.09 -0.09)\">\n     <use xlink:href=\"#DejaVuSans-99\" />\n     <use x=\"54.980469\" xlink:href=\"#DejaVuSans-108\" />\n     <use x=\"82.763672\" xlink:href=\"#DejaVuSans-97\" />\n     <use x=\"144.042969\" xlink:href=\"#DejaVuSans-115\" />\n     <use x=\"196.142578\" xlink:href=\"#DejaVuSans-115\" />\n     <use x=\"248.242188\" xlink:href=\"#DejaVuSans-32\" />\n     <use x=\"280.029297\" xlink:href=\"#DejaVuSans-49\" />\n    </g>\n   </g>\n  </g>\n </g>\n</svg></g>\n\n<g class=\"edge\" id=\"edge2\">\n<title>node3-&gt;leaf6</title>\n<path d=\"M506.8369,-133.9232C518.2488,-129.1646 529.8025,-124.3468 540.0748,-120.0634\" fill=\"none\" stroke=\"#444443\" stroke-width=\".3\" />\n<polygon fill=\"#444443\" points=\"540.6456,-121.3423 543.7987,-118.5106 539.568,-118.758 540.6456,-121.3423\" stroke=\"#444443\" stroke-width=\".3\" />\n</g>\n\n<g class=\"node\" id=\"node6\">\n<title>leaf4</title>\n<polygon fill=\"none\" points=\"478,-120.5 413,-120.5 413,-38.5 478,-38.5 478,-120.5\" stroke=\"#444443\" stroke-width=\"0\" />\n<svg height=\"74px\" preserveAspectRatio=\"xMinYMin meet\" version=\"1.1\" viewBox=\"0 0 76.905302 98.728629\" width=\"57px\" x=\"417.5\" y=\"-116.5\">\n <defs>\n  <style type=\"text/css\">\n*{stroke-linecap:butt;stroke-linejoin:round;}\n  </style>\n </defs>\n <g id=\"figure_1\">\n  <g id=\"patch_1\">\n   <path d=\"M 0 98.728629  L 76.905302 98.728629  L 76.905302 -0  L 0 -0  z \" style=\"fill:#ffffff;\" />\n  </g>\n  <g id=\"axes_1\">\n   <g id=\"patch_2\">\n    <path d=\"M 76.905302 38.517966  C 76.905302 29.415373 73.664811 20.603503 67.767522 13.66959  C 61.870233 6.735676 53.692845 2.122634 44.708306 0.661386  L 38.551302 38.517966  L 76.905302 38.517966  z \" style=\"fill:#fefebb;stroke:#444443;stroke-linejoin:miter;stroke-width:0.5;\" />\n   </g>\n   <g id=\"patch_3\">\n    <path d=\"M 44.708306 0.661386  C 40.857173 0.035037 36.932913 0 33.071211 0.557487  C 29.209508 1.114974 25.455388 2.258486 21.938649 3.948483  C 18.421911 5.638481 15.183559 7.855261 12.33556 10.522177  C 9.487561 13.189093 7.063121 16.27505 5.146066 19.673349  C 3.229012 23.071649 1.841695 26.74267 1.032082 30.559483  C 0.222469 34.376297 0 38.294402 0.372367 42.178328  C 0.744734 46.062254 1.707595 49.866717 3.22766 53.460175  C 4.747724 57.053634 6.807268 60.39419 9.335083 63.366343  C 11.862897 66.338496 14.829509 68.907592 18.132346 70.984803  C 21.435183 73.062015 25.035736 74.623122 28.809514 75.61415  C 32.583293 76.605178 36.486296 77.014571 40.383577 76.828174  C 44.280857 76.641778 48.126975 75.861765 51.788948 74.515105  C 55.450921 73.168445 58.886053 71.27084 61.975573 68.887899  C 65.065093 66.504958 67.772978 63.664466 70.005603 60.464634  C 72.238228 57.264802 73.969561 53.742938 75.13974 50.020812  C 76.30992 46.298687 76.905302 42.419697 76.905302 38.517962  L 38.551302 38.517966  L 44.708306 0.661386  z \" style=\"fill:#a1dab4;stroke:#444443;stroke-linejoin:miter;stroke-width:0.5;\" />\n   </g>\n   <g id=\"text_1\">\n    \n    <defs>\n     <path d=\"M 54.890625 33.015625  L 54.890625 0  L 45.90625 0  L 45.90625 32.71875  Q 45.90625 40.484375 42.875 44.328125  Q 39.84375 48.1875 33.796875 48.1875  Q 26.515625 48.1875 22.3125 43.546875  Q 18.109375 38.921875 18.109375 30.90625  L 18.109375 0  L 9.078125 0  L 9.078125 54.6875  L 18.109375 54.6875  L 18.109375 46.1875  Q 21.34375 51.125 25.703125 53.5625  Q 30.078125 56 35.796875 56  Q 45.21875 56 50.046875 50.171875  Q 54.890625 44.34375 54.890625 33.015625  z \" id=\"DejaVuSans-110\" />\n     <path d=\"M 10.59375 45.40625  L 73.1875 45.40625  L 73.1875 37.203125  L 10.59375 37.203125  z M 10.59375 25.484375  L 73.1875 25.484375  L 73.1875 17.1875  L 10.59375 17.1875  z \" id=\"DejaVuSans-61\" />\n     <path d=\"M 10.796875 72.90625  L 49.515625 72.90625  L 49.515625 64.59375  L 19.828125 64.59375  L 19.828125 46.734375  Q 21.96875 47.46875 24.109375 47.828125  Q 26.265625 48.1875 28.421875 48.1875  Q 40.625 48.1875 47.75 41.5  Q 54.890625 34.8125 54.890625 23.390625  Q 54.890625 11.625 47.5625 5.09375  Q 40.234375 -1.421875 26.90625 -1.421875  Q 22.3125 -1.421875 17.546875 -0.640625  Q 12.796875 0.140625 7.71875 1.703125  L 7.71875 11.625  Q 12.109375 9.234375 16.796875 8.0625  Q 21.484375 6.890625 26.703125 6.890625  Q 35.15625 6.890625 40.078125 11.328125  Q 45.015625 15.765625 45.015625 23.390625  Q 45.015625 31 40.078125 35.4375  Q 35.15625 39.890625 26.703125 39.890625  Q 22.75 39.890625 18.8125 39.015625  Q 14.890625 38.140625 10.796875 36.28125  z \" id=\"DejaVuSans-53\" />\n     <path d=\"M 33.015625 40.375  Q 26.375 40.375 22.484375 35.828125  Q 18.609375 31.296875 18.609375 23.390625  Q 18.609375 15.53125 22.484375 10.953125  Q 26.375 6.390625 33.015625 6.390625  Q 39.65625 6.390625 43.53125 10.953125  Q 47.40625 15.53125 47.40625 23.390625  Q 47.40625 31.296875 43.53125 35.828125  Q 39.65625 40.375 33.015625 40.375  z M 52.59375 71.296875  L 52.59375 62.3125  Q 48.875 64.0625 45.09375 64.984375  Q 41.3125 65.921875 37.59375 65.921875  Q 27.828125 65.921875 22.671875 59.328125  Q 17.53125 52.734375 16.796875 39.40625  Q 19.671875 43.65625 24.015625 45.921875  Q 28.375 48.1875 33.59375 48.1875  Q 44.578125 48.1875 50.953125 41.515625  Q 57.328125 34.859375 57.328125 23.390625  Q 57.328125 12.15625 50.6875 5.359375  Q 44.046875 -1.421875 33.015625 -1.421875  Q 20.359375 -1.421875 13.671875 8.265625  Q 6.984375 17.96875 6.984375 36.375  Q 6.984375 53.65625 15.1875 63.9375  Q 23.390625 74.21875 37.203125 74.21875  Q 40.921875 74.21875 44.703125 73.484375  Q 48.484375 72.75 52.59375 71.296875  z \" id=\"DejaVuSans-54\" />\n    </defs>\n    <g style=\"fill:#444443;\" transform=\"translate(26.202317 86.778879)scale(0.09 -0.09)\">\n     <use xlink:href=\"#DejaVuSans-110\" />\n     <use x=\"63.378906\" xlink:href=\"#DejaVuSans-61\" />\n     <use x=\"147.167969\" xlink:href=\"#DejaVuSans-53\" />\n     <use x=\"210.791016\" xlink:href=\"#DejaVuSans-54\" />\n    </g>\n    \n    <defs>\n     <path d=\"M 48.78125 52.59375  L 48.78125 44.1875  Q 44.96875 46.296875 41.140625 47.34375  Q 37.3125 48.390625 33.40625 48.390625  Q 24.65625 48.390625 19.8125 42.84375  Q 14.984375 37.3125 14.984375 27.296875  Q 14.984375 17.28125 19.8125 11.734375  Q 24.65625 6.203125 33.40625 6.203125  Q 37.3125 6.203125 41.140625 7.25  Q 44.96875 8.296875 48.78125 10.40625  L 48.78125 2.09375  Q 45.015625 0.34375 40.984375 -0.53125  Q 36.96875 -1.421875 32.421875 -1.421875  Q 20.0625 -1.421875 12.78125 6.34375  Q 5.515625 14.109375 5.515625 27.296875  Q 5.515625 40.671875 12.859375 48.328125  Q 20.21875 56 33.015625 56  Q 37.15625 56 41.109375 55.140625  Q 45.0625 54.296875 48.78125 52.59375  z \" id=\"DejaVuSans-99\" />\n     <path d=\"M 9.421875 75.984375  L 18.40625 75.984375  L 18.40625 0  L 9.421875 0  z \" id=\"DejaVuSans-108\" />\n     <path d=\"M 34.28125 27.484375  Q 23.390625 27.484375 19.1875 25  Q 14.984375 22.515625 14.984375 16.5  Q 14.984375 11.71875 18.140625 8.90625  Q 21.296875 6.109375 26.703125 6.109375  Q 34.1875 6.109375 38.703125 11.40625  Q 43.21875 16.703125 43.21875 25.484375  L 43.21875 27.484375  z M 52.203125 31.203125  L 52.203125 0  L 43.21875 0  L 43.21875 8.296875  Q 40.140625 3.328125 35.546875 0.953125  Q 30.953125 -1.421875 24.3125 -1.421875  Q 15.921875 -1.421875 10.953125 3.296875  Q 6 8.015625 6 15.921875  Q 6 25.140625 12.171875 29.828125  Q 18.359375 34.515625 30.609375 34.515625  L 43.21875 34.515625  L 43.21875 35.40625  Q 43.21875 41.609375 39.140625 45  Q 35.0625 48.390625 27.6875 48.390625  Q 23 48.390625 18.546875 47.265625  Q 14.109375 46.140625 10.015625 43.890625  L 10.015625 52.203125  Q 14.9375 54.109375 19.578125 55.046875  Q 24.21875 56 28.609375 56  Q 40.484375 56 46.34375 49.84375  Q 52.203125 43.703125 52.203125 31.203125  z \" id=\"DejaVuSans-97\" />\n     <path d=\"M 44.28125 53.078125  L 44.28125 44.578125  Q 40.484375 46.53125 36.375 47.5  Q 32.28125 48.484375 27.875 48.484375  Q 21.1875 48.484375 17.84375 46.4375  Q 14.5 44.390625 14.5 40.28125  Q 14.5 37.15625 16.890625 35.375  Q 19.28125 33.59375 26.515625 31.984375  L 29.59375 31.296875  Q 39.15625 29.25 43.1875 25.515625  Q 47.21875 21.78125 47.21875 15.09375  Q 47.21875 7.46875 41.1875 3.015625  Q 35.15625 -1.421875 24.609375 -1.421875  Q 20.21875 -1.421875 15.453125 -0.5625  Q 10.6875 0.296875 5.421875 2  L 5.421875 11.28125  Q 10.40625 8.6875 15.234375 7.390625  Q 20.0625 6.109375 24.8125 6.109375  Q 31.15625 6.109375 34.5625 8.28125  Q 37.984375 10.453125 37.984375 14.40625  Q 37.984375 18.0625 35.515625 20.015625  Q 33.0625 21.96875 24.703125 23.78125  L 21.578125 24.515625  Q 13.234375 26.265625 9.515625 29.90625  Q 5.8125 33.546875 5.8125 39.890625  Q 5.8125 47.609375 11.28125 51.796875  Q 16.75 56 26.8125 56  Q 31.78125 56 36.171875 55.265625  Q 40.578125 54.546875 44.28125 53.078125  z \" id=\"DejaVuSans-115\" />\n     <path id=\"DejaVuSans-32\" />\n     <path d=\"M 12.40625 8.296875  L 28.515625 8.296875  L 28.515625 63.921875  L 10.984375 60.40625  L 10.984375 69.390625  L 28.421875 72.90625  L 38.28125 72.90625  L 38.28125 8.296875  L 54.390625 8.296875  L 54.390625 0  L 12.40625 0  z \" id=\"DejaVuSans-49\" />\n    </defs>\n    <g style=\"fill:#444443;\" transform=\"translate(23.087474 96.856911)scale(0.09 -0.09)\">\n     <use xlink:href=\"#DejaVuSans-99\" />\n     <use x=\"54.980469\" xlink:href=\"#DejaVuSans-108\" />\n     <use x=\"82.763672\" xlink:href=\"#DejaVuSans-97\" />\n     <use x=\"144.042969\" xlink:href=\"#DejaVuSans-115\" />\n     <use x=\"196.142578\" xlink:href=\"#DejaVuSans-115\" />\n     <use x=\"248.242188\" xlink:href=\"#DejaVuSans-32\" />\n     <use x=\"280.029297\" xlink:href=\"#DejaVuSans-49\" />\n    </g>\n   </g>\n  </g>\n </g>\n</svg></g>\n\n\n<g class=\"node\" id=\"node2\">\n<title>node1</title>\n<svg height=\"53px\" preserveAspectRatio=\"xMinYMin meet\" version=\"1.1\" viewBox=\"0 0 201.32 70.563951\" width=\"151px\" x=\"192.5\" y=\"-153.5\">\n <defs>\n  <style type=\"text/css\">\n*{stroke-linecap:butt;stroke-linejoin:round;}\n  </style>\n </defs>\n <g id=\"figure_1\">\n  <g id=\"patch_1\">\n   <path d=\"M 0 70.563951  L 201.32 70.563951  L 201.32 0  L 0 0  z \" style=\"fill:#ffffff;\" />\n  </g>\n  <g id=\"axes_1\">\n   <g id=\"patch_2\">\n    <path d=\"M 17.18 42.143326  L 201.32 42.143326  L 201.32 1.084177  L 17.18 1.084177  z \" style=\"fill:#ffffff;\" />\n   </g>\n   <g id=\"patch_3\">\n    <path clip-path=\"url(#p28d1a0e88c)\" d=\"M 29.664068 42.143326  L 37.87727 42.143326  L 37.87727 23.406016  L 29.664068 23.406016  z \" style=\"fill:#fefebb;stroke:#444443;stroke-linejoin:miter;stroke-width:0.5;\" />\n   </g>\n   <g id=\"patch_4\">\n    <path clip-path=\"url(#p28d1a0e88c)\" d=\"M 37.87727 42.143326  L 46.090473 42.143326  L 46.090473 42.143326  L 37.87727 42.143326  z \" style=\"fill:#fefebb;stroke:#444443;stroke-linejoin:miter;stroke-width:0.5;\" />\n   </g>\n   <g id=\"patch_5\">\n    <path clip-path=\"url(#p28d1a0e88c)\" d=\"M 46.090473 42.143326  L 54.303675 42.143326  L 54.303675 42.143326  L 46.090473 42.143326  z \" style=\"fill:#fefebb;stroke:#444443;stroke-linejoin:miter;stroke-width:0.5;\" />\n   </g>\n   <g id=\"patch_6\">\n    <path clip-path=\"url(#p28d1a0e88c)\" d=\"M 54.303675 42.143326  L 62.516878 42.143326  L 62.516878 42.143326  L 54.303675 42.143326  z \" style=\"fill:#fefebb;stroke:#444443;stroke-linejoin:miter;stroke-width:0.5;\" />\n   </g>\n   <g id=\"patch_7\">\n    <path clip-path=\"url(#p28d1a0e88c)\" d=\"M 62.516878 42.143326  L 70.73008 42.143326  L 70.73008 42.143326  L 62.516878 42.143326  z \" style=\"fill:#fefebb;stroke:#444443;stroke-linejoin:miter;stroke-width:0.5;\" />\n   </g>\n   <g id=\"patch_8\">\n    <path clip-path=\"url(#p28d1a0e88c)\" d=\"M 70.73008 42.143326  L 78.943283 42.143326  L 78.943283 42.143326  L 70.73008 42.143326  z \" style=\"fill:#fefebb;stroke:#444443;stroke-linejoin:miter;stroke-width:0.5;\" />\n   </g>\n   <g id=\"patch_9\">\n    <path clip-path=\"url(#p28d1a0e88c)\" d=\"M 78.943283 42.143326  L 87.156485 42.143326  L 87.156485 42.143326  L 78.943283 42.143326  z \" style=\"fill:#fefebb;stroke:#444443;stroke-linejoin:miter;stroke-width:0.5;\" />\n   </g>\n   <g id=\"patch_10\">\n    <path clip-path=\"url(#p28d1a0e88c)\" d=\"M 87.156485 42.143326  L 95.369688 42.143326  L 95.369688 42.143326  L 87.156485 42.143326  z \" style=\"fill:#fefebb;stroke:#444443;stroke-linejoin:miter;stroke-width:0.5;\" />\n   </g>\n   <g id=\"patch_11\">\n    <path clip-path=\"url(#p28d1a0e88c)\" d=\"M 95.369688 42.143326  L 103.58289 42.143326  L 103.58289 42.143326  L 95.369688 42.143326  z \" style=\"fill:#fefebb;stroke:#444443;stroke-linejoin:miter;stroke-width:0.5;\" />\n   </g>\n   <g id=\"patch_12\">\n    <path clip-path=\"url(#p28d1a0e88c)\" d=\"M 103.58289 42.143326  L 111.796093 42.143326  L 111.796093 39.291997  L 103.58289 39.291997  z \" style=\"fill:#fefebb;stroke:#444443;stroke-linejoin:miter;stroke-width:0.5;\" />\n   </g>\n   <g id=\"patch_13\">\n    <path clip-path=\"url(#p28d1a0e88c)\" d=\"M 111.796093 42.143326  L 120.009295 42.143326  L 120.009295 42.143326  L 111.796093 42.143326  z \" style=\"fill:#fefebb;stroke:#444443;stroke-linejoin:miter;stroke-width:0.5;\" />\n   </g>\n   <g id=\"patch_14\">\n    <path clip-path=\"url(#p28d1a0e88c)\" d=\"M 120.009295 42.143326  L 128.222498 42.143326  L 128.222498 42.143326  L 120.009295 42.143326  z \" style=\"fill:#fefebb;stroke:#444443;stroke-linejoin:miter;stroke-width:0.5;\" />\n   </g>\n   <g id=\"patch_15\">\n    <path clip-path=\"url(#p28d1a0e88c)\" d=\"M 128.222498 42.143326  L 136.4357 42.143326  L 136.4357 42.143326  L 128.222498 42.143326  z \" style=\"fill:#fefebb;stroke:#444443;stroke-linejoin:miter;stroke-width:0.5;\" />\n   </g>\n   <g id=\"patch_16\">\n    <path clip-path=\"url(#p28d1a0e88c)\" d=\"M 136.4357 42.143326  L 144.648903 42.143326  L 144.648903 42.143326  L 136.4357 42.143326  z \" style=\"fill:#fefebb;stroke:#444443;stroke-linejoin:miter;stroke-width:0.5;\" />\n   </g>\n   <g id=\"patch_17\">\n    <path clip-path=\"url(#p28d1a0e88c)\" d=\"M 144.648903 42.143326  L 152.862105 42.143326  L 152.862105 42.143326  L 144.648903 42.143326  z \" style=\"fill:#fefebb;stroke:#444443;stroke-linejoin:miter;stroke-width:0.5;\" />\n   </g>\n   <g id=\"patch_18\">\n    <path clip-path=\"url(#p28d1a0e88c)\" d=\"M 152.862105 42.143326  L 161.075308 42.143326  L 161.075308 42.143326  L 152.862105 42.143326  z \" style=\"fill:#fefebb;stroke:#444443;stroke-linejoin:miter;stroke-width:0.5;\" />\n   </g>\n   <g id=\"patch_19\">\n    <path clip-path=\"url(#p28d1a0e88c)\" d=\"M 161.075308 42.143326  L 169.28851 42.143326  L 169.28851 42.143326  L 161.075308 42.143326  z \" style=\"fill:#fefebb;stroke:#444443;stroke-linejoin:miter;stroke-width:0.5;\" />\n   </g>\n   <g id=\"patch_20\">\n    <path clip-path=\"url(#p28d1a0e88c)\" d=\"M 169.28851 42.143326  L 177.501713 42.143326  L 177.501713 42.143326  L 169.28851 42.143326  z \" style=\"fill:#fefebb;stroke:#444443;stroke-linejoin:miter;stroke-width:0.5;\" />\n   </g>\n   <g id=\"patch_21\">\n    <path clip-path=\"url(#p28d1a0e88c)\" d=\"M 177.501713 42.143326  L 185.714915 42.143326  L 185.714915 40.513995  L 177.501713 40.513995  z \" style=\"fill:#fefebb;stroke:#444443;stroke-linejoin:miter;stroke-width:0.5;\" />\n   </g>\n   <g id=\"patch_22\">\n    <path clip-path=\"url(#p28d1a0e88c)\" d=\"M 29.664068 23.406016  L 37.87727 23.406016  L 37.87727 3.039375  L 29.664068 3.039375  z \" style=\"fill:#a1dab4;stroke:#444443;stroke-linejoin:miter;stroke-width:0.5;\" />\n   </g>\n   <g id=\"patch_23\">\n    <path clip-path=\"url(#p28d1a0e88c)\" d=\"M 37.87727 42.143326  L 46.090473 42.143326  L 46.090473 42.143326  L 37.87727 42.143326  z \" style=\"fill:#a1dab4;stroke:#444443;stroke-linejoin:miter;stroke-width:0.5;\" />\n   </g>\n   <g id=\"patch_24\">\n    <path clip-path=\"url(#p28d1a0e88c)\" d=\"M 46.090473 42.143326  L 54.303675 42.143326  L 54.303675 42.143326  L 46.090473 42.143326  z \" style=\"fill:#a1dab4;stroke:#444443;stroke-linejoin:miter;stroke-width:0.5;\" />\n   </g>\n   <g id=\"patch_25\">\n    <path clip-path=\"url(#p28d1a0e88c)\" d=\"M 54.303675 42.143326  L 62.516878 42.143326  L 62.516878 42.143326  L 54.303675 42.143326  z \" style=\"fill:#a1dab4;stroke:#444443;stroke-linejoin:miter;stroke-width:0.5;\" />\n   </g>\n   <g id=\"patch_26\">\n    <path clip-path=\"url(#p28d1a0e88c)\" d=\"M 62.516878 42.143326  L 70.73008 42.143326  L 70.73008 42.143326  L 62.516878 42.143326  z \" style=\"fill:#a1dab4;stroke:#444443;stroke-linejoin:miter;stroke-width:0.5;\" />\n   </g>\n   <g id=\"patch_27\">\n    <path clip-path=\"url(#p28d1a0e88c)\" d=\"M 70.73008 42.143326  L 78.943283 42.143326  L 78.943283 42.143326  L 70.73008 42.143326  z \" style=\"fill:#a1dab4;stroke:#444443;stroke-linejoin:miter;stroke-width:0.5;\" />\n   </g>\n   <g id=\"patch_28\">\n    <path clip-path=\"url(#p28d1a0e88c)\" d=\"M 78.943283 42.143326  L 87.156485 42.143326  L 87.156485 42.143326  L 78.943283 42.143326  z \" style=\"fill:#a1dab4;stroke:#444443;stroke-linejoin:miter;stroke-width:0.5;\" />\n   </g>\n   <g id=\"patch_29\">\n    <path clip-path=\"url(#p28d1a0e88c)\" d=\"M 87.156485 42.143326  L 95.369688 42.143326  L 95.369688 42.143326  L 87.156485 42.143326  z \" style=\"fill:#a1dab4;stroke:#444443;stroke-linejoin:miter;stroke-width:0.5;\" />\n   </g>\n   <g id=\"patch_30\">\n    <path clip-path=\"url(#p28d1a0e88c)\" d=\"M 95.369688 42.143326  L 103.58289 42.143326  L 103.58289 42.143326  L 95.369688 42.143326  z \" style=\"fill:#a1dab4;stroke:#444443;stroke-linejoin:miter;stroke-width:0.5;\" />\n   </g>\n   <g id=\"patch_31\">\n    <path clip-path=\"url(#p28d1a0e88c)\" d=\"M 103.58289 39.291997  L 111.796093 39.291997  L 111.796093 30.738007  L 103.58289 30.738007  z \" style=\"fill:#a1dab4;stroke:#444443;stroke-linejoin:miter;stroke-width:0.5;\" />\n   </g>\n   <g id=\"patch_32\">\n    <path clip-path=\"url(#p28d1a0e88c)\" d=\"M 111.796093 42.143326  L 120.009295 42.143326  L 120.009295 42.143326  L 111.796093 42.143326  z \" style=\"fill:#a1dab4;stroke:#444443;stroke-linejoin:miter;stroke-width:0.5;\" />\n   </g>\n   <g id=\"patch_33\">\n    <path clip-path=\"url(#p28d1a0e88c)\" d=\"M 120.009295 42.143326  L 128.222498 42.143326  L 128.222498 42.143326  L 120.009295 42.143326  z \" style=\"fill:#a1dab4;stroke:#444443;stroke-linejoin:miter;stroke-width:0.5;\" />\n   </g>\n   <g id=\"patch_34\">\n    <path clip-path=\"url(#p28d1a0e88c)\" d=\"M 128.222498 42.143326  L 136.4357 42.143326  L 136.4357 42.143326  L 128.222498 42.143326  z \" style=\"fill:#a1dab4;stroke:#444443;stroke-linejoin:miter;stroke-width:0.5;\" />\n   </g>\n   <g id=\"patch_35\">\n    <path clip-path=\"url(#p28d1a0e88c)\" d=\"M 136.4357 42.143326  L 144.648903 42.143326  L 144.648903 42.143326  L 136.4357 42.143326  z \" style=\"fill:#a1dab4;stroke:#444443;stroke-linejoin:miter;stroke-width:0.5;\" />\n   </g>\n   <g id=\"patch_36\">\n    <path clip-path=\"url(#p28d1a0e88c)\" d=\"M 144.648903 42.143326  L 152.862105 42.143326  L 152.862105 42.143326  L 144.648903 42.143326  z \" style=\"fill:#a1dab4;stroke:#444443;stroke-linejoin:miter;stroke-width:0.5;\" />\n   </g>\n   <g id=\"patch_37\">\n    <path clip-path=\"url(#p28d1a0e88c)\" d=\"M 152.862105 42.143326  L 161.075308 42.143326  L 161.075308 42.143326  L 152.862105 42.143326  z \" style=\"fill:#a1dab4;stroke:#444443;stroke-linejoin:miter;stroke-width:0.5;\" />\n   </g>\n   <g id=\"patch_38\">\n    <path clip-path=\"url(#p28d1a0e88c)\" d=\"M 161.075308 42.143326  L 169.28851 42.143326  L 169.28851 42.143326  L 161.075308 42.143326  z \" style=\"fill:#a1dab4;stroke:#444443;stroke-linejoin:miter;stroke-width:0.5;\" />\n   </g>\n   <g id=\"patch_39\">\n    <path clip-path=\"url(#p28d1a0e88c)\" d=\"M 169.28851 42.143326  L 177.501713 42.143326  L 177.501713 42.143326  L 169.28851 42.143326  z \" style=\"fill:#a1dab4;stroke:#444443;stroke-linejoin:miter;stroke-width:0.5;\" />\n   </g>\n   <g id=\"patch_40\">\n    <path clip-path=\"url(#p28d1a0e88c)\" d=\"M 177.501713 40.513995  L 185.714915 40.513995  L 185.714915 30.738007  L 177.501713 30.738007  z \" style=\"fill:#a1dab4;stroke:#444443;stroke-linejoin:miter;stroke-width:0.5;\" />\n   </g>\n   <g id=\"patch_41\">\n    <path d=\"M 68.67678 42.958726  L 65.36226 50.297326  L 71.9913 50.297326  z \" style=\"fill:#444443;\" />\n   </g>\n   <g id=\"matplotlib.axis_1\">\n    <g id=\"xtick_1\">\n     <g id=\"line2d_1\">\n      <defs>\n       <path d=\"M 0 0  L 0 3.5  \" id=\"m6811151750\" style=\"stroke:#000000;stroke-width:0.3;\" />\n      </defs>\n      <g>\n       <use style=\"stroke:#000000;stroke-width:0.3;\" x=\"29.664068\" y=\"42.143326\" xlink:href=\"#m6811151750\" />\n      </g>\n     </g>\n     <g id=\"text_1\">\n      \n      <defs>\n       <path d=\"M 19.1875 8.296875  L 53.609375 8.296875  L 53.609375 0  L 7.328125 0  L 7.328125 8.296875  Q 12.9375 14.109375 22.625 23.890625  Q 32.328125 33.6875 34.8125 36.53125  Q 39.546875 41.84375 41.421875 45.53125  Q 43.3125 49.21875 43.3125 52.78125  Q 43.3125 58.59375 39.234375 62.25  Q 35.15625 65.921875 28.609375 65.921875  Q 23.96875 65.921875 18.8125 64.3125  Q 13.671875 62.703125 7.8125 59.421875  L 7.8125 69.390625  Q 13.765625 71.78125 18.9375 73  Q 24.125 74.21875 28.421875 74.21875  Q 39.75 74.21875 46.484375 68.546875  Q 53.21875 62.890625 53.21875 53.421875  Q 53.21875 48.921875 51.53125 44.890625  Q 49.859375 40.875 45.40625 35.40625  Q 44.1875 33.984375 37.640625 27.21875  Q 31.109375 20.453125 19.1875 8.296875  z \" id=\"DejaVuSans-50\" />\n      </defs>\n      <g style=\"fill:#444443;\" transform=\"translate(27.119068 55.222076)scale(0.08 -0.08)\">\n       <use xlink:href=\"#DejaVuSans-50\" />\n      </g>\n     </g>\n    </g>\n    <g id=\"xtick_2\">\n     <g id=\"line2d_2\">\n      <g>\n       <use style=\"stroke:#000000;stroke-width:0.3;\" x=\"185.714915\" y=\"42.143326\" xlink:href=\"#m6811151750\" />\n      </g>\n     </g>\n     <g id=\"text_2\">\n      \n      <defs>\n       <path d=\"M 37.796875 64.3125  L 12.890625 25.390625  L 37.796875 25.390625  z M 35.203125 72.90625  L 47.609375 72.90625  L 47.609375 25.390625  L 58.015625 25.390625  L 58.015625 17.1875  L 47.609375 17.1875  L 47.609375 0  L 37.796875 0  L 37.796875 17.1875  L 4.890625 17.1875  L 4.890625 26.703125  z \" id=\"DejaVuSans-52\" />\n      </defs>\n      <g style=\"fill:#444443;\" transform=\"translate(183.169915 55.222076)scale(0.08 -0.08)\">\n       <use xlink:href=\"#DejaVuSans-52\" />\n      </g>\n     </g>\n    </g>\n    <g id=\"text_3\">\n     \n     <defs>\n      <path d=\"M 48.78125 52.59375  L 48.78125 44.1875  Q 44.96875 46.296875 41.140625 47.34375  Q 37.3125 48.390625 33.40625 48.390625  Q 24.65625 48.390625 19.8125 42.84375  Q 14.984375 37.3125 14.984375 27.296875  Q 14.984375 17.28125 19.8125 11.734375  Q 24.65625 6.203125 33.40625 6.203125  Q 37.3125 6.203125 41.140625 7.25  Q 44.96875 8.296875 48.78125 10.40625  L 48.78125 2.09375  Q 45.015625 0.34375 40.984375 -0.53125  Q 36.96875 -1.421875 32.421875 -1.421875  Q 20.0625 -1.421875 12.78125 6.34375  Q 5.515625 14.109375 5.515625 27.296875  Q 5.515625 40.671875 12.859375 48.328125  Q 20.21875 56 33.015625 56  Q 37.15625 56 41.109375 55.140625  Q 45.0625 54.296875 48.78125 52.59375  z \" id=\"DejaVuSans-99\" />\n      <path d=\"M 34.28125 27.484375  Q 23.390625 27.484375 19.1875 25  Q 14.984375 22.515625 14.984375 16.5  Q 14.984375 11.71875 18.140625 8.90625  Q 21.296875 6.109375 26.703125 6.109375  Q 34.1875 6.109375 38.703125 11.40625  Q 43.21875 16.703125 43.21875 25.484375  L 43.21875 27.484375  z M 52.203125 31.203125  L 52.203125 0  L 43.21875 0  L 43.21875 8.296875  Q 40.140625 3.328125 35.546875 0.953125  Q 30.953125 -1.421875 24.3125 -1.421875  Q 15.921875 -1.421875 10.953125 3.296875  Q 6 8.015625 6 15.921875  Q 6 25.140625 12.171875 29.828125  Q 18.359375 34.515625 30.609375 34.515625  L 43.21875 34.515625  L 43.21875 35.40625  Q 43.21875 41.609375 39.140625 45  Q 35.0625 48.390625 27.6875 48.390625  Q 23 48.390625 18.546875 47.265625  Q 14.109375 46.140625 10.015625 43.890625  L 10.015625 52.203125  Q 14.9375 54.109375 19.578125 55.046875  Q 24.21875 56 28.609375 56  Q 40.484375 56 46.34375 49.84375  Q 52.203125 43.703125 52.203125 31.203125  z \" id=\"DejaVuSans-97\" />\n      <path d=\"M 18.3125 70.21875  L 18.3125 54.6875  L 36.8125 54.6875  L 36.8125 47.703125  L 18.3125 47.703125  L 18.3125 18.015625  Q 18.3125 11.328125 20.140625 9.421875  Q 21.96875 7.515625 27.59375 7.515625  L 36.8125 7.515625  L 36.8125 0  L 27.59375 0  Q 17.1875 0 13.234375 3.875  Q 9.28125 7.765625 9.28125 18.015625  L 9.28125 47.703125  L 2.6875 47.703125  L 2.6875 54.6875  L 9.28125 54.6875  L 9.28125 70.21875  z \" id=\"DejaVuSans-116\" />\n      <path d=\"M 12.40625 8.296875  L 28.515625 8.296875  L 28.515625 63.921875  L 10.984375 60.40625  L 10.984375 69.390625  L 28.421875 72.90625  L 38.28125 72.90625  L 38.28125 8.296875  L 54.390625 8.296875  L 54.390625 0  L 12.40625 0  z \" id=\"DejaVuSans-49\" />\n      <path d=\"M 31.78125 34.625  Q 24.75 34.625 20.71875 30.859375  Q 16.703125 27.09375 16.703125 20.515625  Q 16.703125 13.921875 20.71875 10.15625  Q 24.75 6.390625 31.78125 6.390625  Q 38.8125 6.390625 42.859375 10.171875  Q 46.921875 13.96875 46.921875 20.515625  Q 46.921875 27.09375 42.890625 30.859375  Q 38.875 34.625 31.78125 34.625  z M 21.921875 38.8125  Q 15.578125 40.375 12.03125 44.71875  Q 8.5 49.078125 8.5 55.328125  Q 8.5 64.0625 14.71875 69.140625  Q 20.953125 74.21875 31.78125 74.21875  Q 42.671875 74.21875 48.875 69.140625  Q 55.078125 64.0625 55.078125 55.328125  Q 55.078125 49.078125 51.53125 44.71875  Q 48 40.375 41.703125 38.8125  Q 48.828125 37.15625 52.796875 32.3125  Q 56.78125 27.484375 56.78125 20.515625  Q 56.78125 9.90625 50.3125 4.234375  Q 43.84375 -1.421875 31.78125 -1.421875  Q 19.734375 -1.421875 13.25 4.234375  Q 6.78125 9.90625 6.78125 20.515625  Q 6.78125 27.484375 10.78125 32.3125  Q 14.796875 37.15625 21.921875 38.8125  z M 18.3125 54.390625  Q 18.3125 48.734375 21.84375 45.5625  Q 25.390625 42.390625 31.78125 42.390625  Q 38.140625 42.390625 41.71875 45.5625  Q 45.3125 48.734375 45.3125 54.390625  Q 45.3125 60.0625 41.71875 63.234375  Q 38.140625 66.40625 31.78125 66.40625  Q 25.390625 66.40625 21.84375 63.234375  Q 18.3125 60.0625 18.3125 54.390625  z \" id=\"DejaVuSans-56\" />\n     </defs>\n     <g style=\"fill:#444443;\" transform=\"translate(95.114063 68.484264)scale(0.1 -0.1)\">\n      <use xlink:href=\"#DejaVuSans-99\" />\n      <use x=\"54.980469\" xlink:href=\"#DejaVuSans-97\" />\n      <use x=\"116.259766\" xlink:href=\"#DejaVuSans-116\" />\n      <use x=\"155.46875\" xlink:href=\"#DejaVuSans-49\" />\n      <use x=\"219.091797\" xlink:href=\"#DejaVuSans-56\" />\n     </g>\n    </g>\n   </g>\n   <g id=\"matplotlib.axis_2\">\n    <g id=\"ytick_1\">\n     <g id=\"line2d_3\">\n      <defs>\n       <path d=\"M 0 0  L -3.5 0  \" id=\"m42af2a89d7\" style=\"stroke:#000000;stroke-width:0.3;\" />\n      </defs>\n      <g>\n       <use style=\"stroke:#000000;stroke-width:0.3;\" x=\"17.18\" y=\"42.143326\" xlink:href=\"#m42af2a89d7\" />\n      </g>\n     </g>\n     <g id=\"text_4\">\n      \n      <defs>\n       <path d=\"M 31.78125 66.40625  Q 24.171875 66.40625 20.328125 58.90625  Q 16.5 51.421875 16.5 36.375  Q 16.5 21.390625 20.328125 13.890625  Q 24.171875 6.390625 31.78125 6.390625  Q 39.453125 6.390625 43.28125 13.890625  Q 47.125 21.390625 47.125 36.375  Q 47.125 51.421875 43.28125 58.90625  Q 39.453125 66.40625 31.78125 66.40625  z M 31.78125 74.21875  Q 44.046875 74.21875 50.515625 64.515625  Q 56.984375 54.828125 56.984375 36.375  Q 56.984375 17.96875 50.515625 8.265625  Q 44.046875 -1.421875 31.78125 -1.421875  Q 19.53125 -1.421875 13.0625 8.265625  Q 6.59375 17.96875 6.59375 36.375  Q 6.59375 54.828125 13.0625 64.515625  Q 19.53125 74.21875 31.78125 74.21875  z \" id=\"DejaVuSans-48\" />\n      </defs>\n      <g style=\"fill:#444443;\" transform=\"translate(5.09 45.182701)scale(0.08 -0.08)\">\n       <use xlink:href=\"#DejaVuSans-48\" />\n      </g>\n     </g>\n    </g>\n    <g id=\"ytick_2\">\n     <g id=\"line2d_4\">\n      <g>\n       <use style=\"stroke:#000000;stroke-width:0.3;\" x=\"17.18\" y=\"3.039375\" xlink:href=\"#m42af2a89d7\" />\n      </g>\n     </g>\n     <g id=\"text_5\">\n      \n      <defs>\n       <path d=\"M 10.984375 1.515625  L 10.984375 10.5  Q 14.703125 8.734375 18.5 7.8125  Q 22.3125 6.890625 25.984375 6.890625  Q 35.75 6.890625 40.890625 13.453125  Q 46.046875 20.015625 46.78125 33.40625  Q 43.953125 29.203125 39.59375 26.953125  Q 35.25 24.703125 29.984375 24.703125  Q 19.046875 24.703125 12.671875 31.3125  Q 6.296875 37.9375 6.296875 49.421875  Q 6.296875 60.640625 12.9375 67.421875  Q 19.578125 74.21875 30.609375 74.21875  Q 43.265625 74.21875 49.921875 64.515625  Q 56.59375 54.828125 56.59375 36.375  Q 56.59375 19.140625 48.40625 8.859375  Q 40.234375 -1.421875 26.421875 -1.421875  Q 22.703125 -1.421875 18.890625 -0.6875  Q 15.09375 0.046875 10.984375 1.515625  z M 30.609375 32.421875  Q 37.25 32.421875 41.125 36.953125  Q 45.015625 41.5 45.015625 49.421875  Q 45.015625 57.28125 41.125 61.84375  Q 37.25 66.40625 30.609375 66.40625  Q 23.96875 66.40625 20.09375 61.84375  Q 16.21875 57.28125 16.21875 49.421875  Q 16.21875 41.5 20.09375 36.953125  Q 23.96875 32.421875 30.609375 32.421875  z \" id=\"DejaVuSans-57\" />\n       <path d=\"M 33.015625 40.375  Q 26.375 40.375 22.484375 35.828125  Q 18.609375 31.296875 18.609375 23.390625  Q 18.609375 15.53125 22.484375 10.953125  Q 26.375 6.390625 33.015625 6.390625  Q 39.65625 6.390625 43.53125 10.953125  Q 47.40625 15.53125 47.40625 23.390625  Q 47.40625 31.296875 43.53125 35.828125  Q 39.65625 40.375 33.015625 40.375  z M 52.59375 71.296875  L 52.59375 62.3125  Q 48.875 64.0625 45.09375 64.984375  Q 41.3125 65.921875 37.59375 65.921875  Q 27.828125 65.921875 22.671875 59.328125  Q 17.53125 52.734375 16.796875 39.40625  Q 19.671875 43.65625 24.015625 45.921875  Q 28.375 48.1875 33.59375 48.1875  Q 44.578125 48.1875 50.953125 41.515625  Q 57.328125 34.859375 57.328125 23.390625  Q 57.328125 12.15625 50.6875 5.359375  Q 44.046875 -1.421875 33.015625 -1.421875  Q 20.359375 -1.421875 13.671875 8.265625  Q 6.984375 17.96875 6.984375 36.375  Q 6.984375 53.65625 15.1875 63.9375  Q 23.390625 74.21875 37.203125 74.21875  Q 40.921875 74.21875 44.703125 73.484375  Q 48.484375 72.75 52.59375 71.296875  z \" id=\"DejaVuSans-54\" />\n      </defs>\n      <g style=\"fill:#444443;\" transform=\"translate(0 6.07875)scale(0.08 -0.08)\">\n       <use xlink:href=\"#DejaVuSans-57\" />\n       <use x=\"63.623047\" xlink:href=\"#DejaVuSans-54\" />\n      </g>\n     </g>\n    </g>\n   </g>\n   <g id=\"patch_42\">\n    <path d=\"M 17.18 42.143326  L 17.18 1.084177  \" style=\"fill:none;stroke:#000000;stroke-linecap:square;stroke-linejoin:miter;stroke-width:0.3;\" />\n   </g>\n   <g id=\"patch_43\">\n    <path d=\"M 17.18 42.143326  L 201.32 42.143326  \" style=\"fill:none;stroke:#000000;stroke-linecap:square;stroke-linejoin:miter;stroke-width:0.3;\" />\n   </g>\n   <g id=\"text_6\">\n    \n    <defs>\n     <path d=\"M 10.6875 12.40625  L 21 12.40625  L 21 0  L 10.6875 0  z \" id=\"DejaVuSans-46\" />\n     <path d=\"M 10.796875 72.90625  L 49.515625 72.90625  L 49.515625 64.59375  L 19.828125 64.59375  L 19.828125 46.734375  Q 21.96875 47.46875 24.109375 47.828125  Q 26.265625 48.1875 28.421875 48.1875  Q 40.625 48.1875 47.75 41.5  Q 54.890625 34.8125 54.890625 23.390625  Q 54.890625 11.625 47.5625 5.09375  Q 40.234375 -1.421875 26.90625 -1.421875  Q 22.3125 -1.421875 17.546875 -0.640625  Q 12.796875 0.140625 7.71875 1.703125  L 7.71875 11.625  Q 12.109375 9.234375 16.796875 8.0625  Q 21.484375 6.890625 26.703125 6.890625  Q 35.15625 6.890625 40.078125 11.328125  Q 45.015625 15.765625 45.015625 23.390625  Q 45.015625 31 40.078125 35.4375  Q 35.15625 39.890625 26.703125 39.890625  Q 22.75 39.890625 18.8125 39.015625  Q 14.890625 38.140625 10.796875 36.28125  z \" id=\"DejaVuSans-53\" />\n    </defs>\n    <g style=\"fill:#444443;\" transform=\"translate(59.77053 58.451326)scale(0.08 -0.08)\">\n     <use xlink:href=\"#DejaVuSans-50\" />\n     <use x=\"63.623047\" xlink:href=\"#DejaVuSans-46\" />\n     <use x=\"95.410156\" xlink:href=\"#DejaVuSans-53\" />\n     <use x=\"159.033203\" xlink:href=\"#DejaVuSans-48\" />\n    </g>\n   </g>\n  </g>\n </g>\n <defs>\n  <clipPath id=\"p28d1a0e88c\">\n   <rect height=\"41.059149\" width=\"184.14\" x=\"17.18\" y=\"1.084177\" />\n  </clipPath>\n </defs>\n</svg></g>\n\n<g class=\"edge\" id=\"edge4\">\n<title>node1-&gt;node3</title>\n<path d=\"M347.1288,-141.8153C351.2942,-142.5641 355.4873,-143.3179 359.6711,-144.0701\" fill=\"none\" stroke=\"#444443\" stroke-width=\".3\" />\n<polygon fill=\"#444443\" points=\"359.6657,-145.4915 363.8504,-144.8214 360.1612,-142.7357 359.6657,-145.4915\" stroke=\"#444443\" stroke-width=\".3\" />\n</g>\n\n<g class=\"edge\" id=\"edge5\">\n<title>node1-&gt;leaf4</title>\n<path d=\"M347.1288,-106.0271C368.643,-100.2255 390.8958,-94.2247 408.7832,-89.4012\" fill=\"none\" stroke=\"#444443\" stroke-width=\".3\" />\n<polygon fill=\"#444443\" points=\"409.2671,-90.7208 412.7646,-88.3275 408.538,-88.0173 409.2671,-90.7208\" stroke=\"#444443\" stroke-width=\".3\" />\n</g>\n\n<g class=\"node\" id=\"node7\">\n<title>leaf2</title>\n<polygon fill=\"none\" points=\"301,-83 234,-83 234,0 301,0 301,-83\" stroke=\"#444443\" stroke-width=\"0\" />\n<svg height=\"75px\" preserveAspectRatio=\"xMinYMin meet\" version=\"1.1\" viewBox=\"0 0 78.631331 100.672496\" width=\"59px\" x=\"238.5\" y=\"-78.5\">\n <defs>\n  <style type=\"text/css\">\n*{stroke-linecap:butt;stroke-linejoin:round;}\n  </style>\n </defs>\n <g id=\"figure_1\">\n  <g id=\"patch_1\">\n   <path d=\"M 0 100.672496  L 78.631331 100.672496  L 78.631331 0  L 0 0  z \" style=\"fill:#ffffff;\" />\n  </g>\n  <g id=\"axes_1\">\n   <g id=\"patch_2\">\n    <path d=\"M 78.631331 39.483352  C 78.631331 34.94455 77.844242 30.439935 76.305109 26.170064  C 74.765975 21.900194 72.497983 17.929391 69.602108 14.434446  C 66.706234 10.939502 63.226102 7.973065 59.316657 5.667209  C 55.407213 3.361353 51.127349 1.750815 46.667618 0.9073  C 42.207886 0.063785 37.635469 -0 33.153943 0.718785  C 28.672417 1.43757 24.349294 2.928096 20.37705 5.124003  C 16.404806 7.319909 12.843281 10.188115 9.851044 13.600921  C 6.858806 17.013727 4.480933 20.91972 2.823292 25.144995  C 1.165651 29.370271 0.253215 33.851178 0.126608 38.388214  C 0 42.92525 0.661128 47.450068 2.080557 51.76121  C 3.499985 56.072352 5.656332 60.104875 8.45359 63.679238  C 11.250847 67.253602 14.646878 70.315961 18.49048 72.729972  C 22.334083 75.143982 26.567356 76.873278 31.001823 77.840867  C 35.43629 78.808456 40.005148 78.999762 44.50498 78.406266  C 49.004813 77.812771 53.367831 76.443416 57.399783 74.359168  C 61.431735 72.27492 65.071881 69.507177 68.158153 66.179166  L 39.371331 39.483352  L 78.631331 39.483352  z \" style=\"fill:#fefebb;stroke:#444443;stroke-linejoin:miter;stroke-width:0.5;\" />\n   </g>\n   <g id=\"patch_3\">\n    <path d=\"M 68.158153 66.179166  C 71.494679 62.581299 74.127315 58.389601 75.919368 53.821713  C 77.711421 49.253825 78.63133 44.390197 78.631331 39.48336  L 39.371331 39.483352  L 68.158153 66.179166  z \" style=\"fill:#a1dab4;stroke:#444443;stroke-linejoin:miter;stroke-width:0.5;\" />\n   </g>\n   <g id=\"text_1\">\n    \n    <defs>\n     <path d=\"M 54.890625 33.015625  L 54.890625 0  L 45.90625 0  L 45.90625 32.71875  Q 45.90625 40.484375 42.875 44.328125  Q 39.84375 48.1875 33.796875 48.1875  Q 26.515625 48.1875 22.3125 43.546875  Q 18.109375 38.921875 18.109375 30.90625  L 18.109375 0  L 9.078125 0  L 9.078125 54.6875  L 18.109375 54.6875  L 18.109375 46.1875  Q 21.34375 51.125 25.703125 53.5625  Q 30.078125 56 35.796875 56  Q 45.21875 56 50.046875 50.171875  Q 54.890625 44.34375 54.890625 33.015625  z \" id=\"DejaVuSans-110\" />\n     <path d=\"M 10.59375 45.40625  L 73.1875 45.40625  L 73.1875 37.203125  L 10.59375 37.203125  z M 10.59375 25.484375  L 73.1875 25.484375  L 73.1875 17.1875  L 10.59375 17.1875  z \" id=\"DejaVuSans-61\" />\n     <path d=\"M 40.578125 39.3125  Q 47.65625 37.796875 51.625 33  Q 55.609375 28.21875 55.609375 21.1875  Q 55.609375 10.40625 48.1875 4.484375  Q 40.765625 -1.421875 27.09375 -1.421875  Q 22.515625 -1.421875 17.65625 -0.515625  Q 12.796875 0.390625 7.625 2.203125  L 7.625 11.71875  Q 11.71875 9.328125 16.59375 8.109375  Q 21.484375 6.890625 26.8125 6.890625  Q 36.078125 6.890625 40.9375 10.546875  Q 45.796875 14.203125 45.796875 21.1875  Q 45.796875 27.640625 41.28125 31.265625  Q 36.765625 34.90625 28.71875 34.90625  L 20.21875 34.90625  L 20.21875 43.015625  L 29.109375 43.015625  Q 36.375 43.015625 40.234375 45.921875  Q 44.09375 48.828125 44.09375 54.296875  Q 44.09375 59.90625 40.109375 62.90625  Q 36.140625 65.921875 28.71875 65.921875  Q 24.65625 65.921875 20.015625 65.03125  Q 15.375 64.15625 9.8125 62.3125  L 9.8125 71.09375  Q 15.4375 72.65625 20.34375 73.4375  Q 25.25 74.21875 29.59375 74.21875  Q 40.828125 74.21875 47.359375 69.109375  Q 53.90625 64.015625 53.90625 55.328125  Q 53.90625 49.265625 50.4375 45.09375  Q 46.96875 40.921875 40.578125 39.3125  z \" id=\"DejaVuSans-51\" />\n     <path d=\"M 37.796875 64.3125  L 12.890625 25.390625  L 37.796875 25.390625  z M 35.203125 72.90625  L 47.609375 72.90625  L 47.609375 25.390625  L 58.015625 25.390625  L 58.015625 17.1875  L 47.609375 17.1875  L 47.609375 0  L 37.796875 0  L 37.796875 17.1875  L 4.890625 17.1875  L 4.890625 26.703125  z \" id=\"DejaVuSans-52\" />\n     <path d=\"M 31.78125 34.625  Q 24.75 34.625 20.71875 30.859375  Q 16.703125 27.09375 16.703125 20.515625  Q 16.703125 13.921875 20.71875 10.15625  Q 24.75 6.390625 31.78125 6.390625  Q 38.8125 6.390625 42.859375 10.171875  Q 46.921875 13.96875 46.921875 20.515625  Q 46.921875 27.09375 42.890625 30.859375  Q 38.875 34.625 31.78125 34.625  z M 21.921875 38.8125  Q 15.578125 40.375 12.03125 44.71875  Q 8.5 49.078125 8.5 55.328125  Q 8.5 64.0625 14.71875 69.140625  Q 20.953125 74.21875 31.78125 74.21875  Q 42.671875 74.21875 48.875 69.140625  Q 55.078125 64.0625 55.078125 55.328125  Q 55.078125 49.078125 51.53125 44.71875  Q 48 40.375 41.703125 38.8125  Q 48.828125 37.15625 52.796875 32.3125  Q 56.78125 27.484375 56.78125 20.515625  Q 56.78125 9.90625 50.3125 4.234375  Q 43.84375 -1.421875 31.78125 -1.421875  Q 19.734375 -1.421875 13.25 4.234375  Q 6.78125 9.90625 6.78125 20.515625  Q 6.78125 27.484375 10.78125 32.3125  Q 14.796875 37.15625 21.921875 38.8125  z M 18.3125 54.390625  Q 18.3125 48.734375 21.84375 45.5625  Q 25.390625 42.390625 31.78125 42.390625  Q 38.140625 42.390625 41.71875 45.5625  Q 45.3125 48.734375 45.3125 54.390625  Q 45.3125 60.0625 41.71875 63.234375  Q 38.140625 66.40625 31.78125 66.40625  Q 25.390625 66.40625 21.84375 63.234375  Q 18.3125 60.0625 18.3125 54.390625  z \" id=\"DejaVuSans-56\" />\n    </defs>\n    <g style=\"fill:#444443;\" transform=\"translate(24.159221 88.722746)scale(0.09 -0.09)\">\n     <use xlink:href=\"#DejaVuSans-110\" />\n     <use x=\"63.378906\" xlink:href=\"#DejaVuSans-61\" />\n     <use x=\"147.167969\" xlink:href=\"#DejaVuSans-51\" />\n     <use x=\"210.791016\" xlink:href=\"#DejaVuSans-52\" />\n     <use x=\"274.414062\" xlink:href=\"#DejaVuSans-56\" />\n    </g>\n    \n    <defs>\n     <path d=\"M 48.78125 52.59375  L 48.78125 44.1875  Q 44.96875 46.296875 41.140625 47.34375  Q 37.3125 48.390625 33.40625 48.390625  Q 24.65625 48.390625 19.8125 42.84375  Q 14.984375 37.3125 14.984375 27.296875  Q 14.984375 17.28125 19.8125 11.734375  Q 24.65625 6.203125 33.40625 6.203125  Q 37.3125 6.203125 41.140625 7.25  Q 44.96875 8.296875 48.78125 10.40625  L 48.78125 2.09375  Q 45.015625 0.34375 40.984375 -0.53125  Q 36.96875 -1.421875 32.421875 -1.421875  Q 20.0625 -1.421875 12.78125 6.34375  Q 5.515625 14.109375 5.515625 27.296875  Q 5.515625 40.671875 12.859375 48.328125  Q 20.21875 56 33.015625 56  Q 37.15625 56 41.109375 55.140625  Q 45.0625 54.296875 48.78125 52.59375  z \" id=\"DejaVuSans-99\" />\n     <path d=\"M 9.421875 75.984375  L 18.40625 75.984375  L 18.40625 0  L 9.421875 0  z \" id=\"DejaVuSans-108\" />\n     <path d=\"M 34.28125 27.484375  Q 23.390625 27.484375 19.1875 25  Q 14.984375 22.515625 14.984375 16.5  Q 14.984375 11.71875 18.140625 8.90625  Q 21.296875 6.109375 26.703125 6.109375  Q 34.1875 6.109375 38.703125 11.40625  Q 43.21875 16.703125 43.21875 25.484375  L 43.21875 27.484375  z M 52.203125 31.203125  L 52.203125 0  L 43.21875 0  L 43.21875 8.296875  Q 40.140625 3.328125 35.546875 0.953125  Q 30.953125 -1.421875 24.3125 -1.421875  Q 15.921875 -1.421875 10.953125 3.296875  Q 6 8.015625 6 15.921875  Q 6 25.140625 12.171875 29.828125  Q 18.359375 34.515625 30.609375 34.515625  L 43.21875 34.515625  L 43.21875 35.40625  Q 43.21875 41.609375 39.140625 45  Q 35.0625 48.390625 27.6875 48.390625  Q 23 48.390625 18.546875 47.265625  Q 14.109375 46.140625 10.015625 43.890625  L 10.015625 52.203125  Q 14.9375 54.109375 19.578125 55.046875  Q 24.21875 56 28.609375 56  Q 40.484375 56 46.34375 49.84375  Q 52.203125 43.703125 52.203125 31.203125  z \" id=\"DejaVuSans-97\" />\n     <path d=\"M 44.28125 53.078125  L 44.28125 44.578125  Q 40.484375 46.53125 36.375 47.5  Q 32.28125 48.484375 27.875 48.484375  Q 21.1875 48.484375 17.84375 46.4375  Q 14.5 44.390625 14.5 40.28125  Q 14.5 37.15625 16.890625 35.375  Q 19.28125 33.59375 26.515625 31.984375  L 29.59375 31.296875  Q 39.15625 29.25 43.1875 25.515625  Q 47.21875 21.78125 47.21875 15.09375  Q 47.21875 7.46875 41.1875 3.015625  Q 35.15625 -1.421875 24.609375 -1.421875  Q 20.21875 -1.421875 15.453125 -0.5625  Q 10.6875 0.296875 5.421875 2  L 5.421875 11.28125  Q 10.40625 8.6875 15.234375 7.390625  Q 20.0625 6.109375 24.8125 6.109375  Q 31.15625 6.109375 34.5625 8.28125  Q 37.984375 10.453125 37.984375 14.40625  Q 37.984375 18.0625 35.515625 20.015625  Q 33.0625 21.96875 24.703125 23.78125  L 21.578125 24.515625  Q 13.234375 26.265625 9.515625 29.90625  Q 5.8125 33.546875 5.8125 39.890625  Q 5.8125 47.609375 11.28125 51.796875  Q 16.75 56 26.8125 56  Q 31.78125 56 36.171875 55.265625  Q 40.578125 54.546875 44.28125 53.078125  z \" id=\"DejaVuSans-115\" />\n     <path id=\"DejaVuSans-32\" />\n     <path d=\"M 31.78125 66.40625  Q 24.171875 66.40625 20.328125 58.90625  Q 16.5 51.421875 16.5 36.375  Q 16.5 21.390625 20.328125 13.890625  Q 24.171875 6.390625 31.78125 6.390625  Q 39.453125 6.390625 43.28125 13.890625  Q 47.125 21.390625 47.125 36.375  Q 47.125 51.421875 43.28125 58.90625  Q 39.453125 66.40625 31.78125 66.40625  z M 31.78125 74.21875  Q 44.046875 74.21875 50.515625 64.515625  Q 56.984375 54.828125 56.984375 36.375  Q 56.984375 17.96875 50.515625 8.265625  Q 44.046875 -1.421875 31.78125 -1.421875  Q 19.53125 -1.421875 13.0625 8.265625  Q 6.59375 17.96875 6.59375 36.375  Q 6.59375 54.828125 13.0625 64.515625  Q 19.53125 74.21875 31.78125 74.21875  z \" id=\"DejaVuSans-48\" />\n    </defs>\n    <g style=\"fill:#444443;\" transform=\"translate(23.907502 98.800777)scale(0.09 -0.09)\">\n     <use xlink:href=\"#DejaVuSans-99\" />\n     <use x=\"54.980469\" xlink:href=\"#DejaVuSans-108\" />\n     <use x=\"82.763672\" xlink:href=\"#DejaVuSans-97\" />\n     <use x=\"144.042969\" xlink:href=\"#DejaVuSans-115\" />\n     <use x=\"196.142578\" xlink:href=\"#DejaVuSans-115\" />\n     <use x=\"248.242188\" xlink:href=\"#DejaVuSans-32\" />\n     <use x=\"280.029297\" xlink:href=\"#DejaVuSans-48\" />\n    </g>\n   </g>\n  </g>\n </g>\n</svg></g>\n\n\n<g class=\"node\" id=\"node3\">\n<title>node0</title>\n<svg height=\"82px\" preserveAspectRatio=\"xMinYMin meet\" version=\"1.1\" viewBox=\"0 0 206.41 109.960625\" width=\"155px\" x=\"4.5\" y=\"-124.5\">\n <defs>\n  <style type=\"text/css\">\n*{stroke-linecap:butt;stroke-linejoin:round;}\n  </style>\n </defs>\n <g id=\"figure_1\">\n  <g id=\"patch_1\">\n   <path d=\"M 0 109.960625  L 206.41 109.960625  L 206.41 0  L 0 0  z \" style=\"fill:#ffffff;\" />\n  </g>\n  <g id=\"axes_1\">\n   <g id=\"patch_2\">\n    <path d=\"M 22.27 81.54  L 206.41 81.54  L 206.41 -0  L 22.27 -0  z \" style=\"fill:#ffffff;\" />\n   </g>\n   <g id=\"patch_3\">\n    <path clip-path=\"url(#p5e3d3f5650)\" d=\"M 26.76122 81.54  L 35.625469 81.54  L 35.625469 80.629066  L 26.76122 80.629066  z \" style=\"fill:#fefebb;stroke:#444443;stroke-linejoin:miter;stroke-width:0.5;\" />\n   </g>\n   <g id=\"patch_4\">\n    <path clip-path=\"url(#p5e3d3f5650)\" d=\"M 35.625469 81.54  L 44.489718 81.54  L 44.489718 81.54  L 35.625469 81.54  z \" style=\"fill:#fefebb;stroke:#444443;stroke-linejoin:miter;stroke-width:0.5;\" />\n   </g>\n   <g id=\"patch_5\">\n    <path clip-path=\"url(#p5e3d3f5650)\" d=\"M 44.489718 81.54  L 53.353967 81.54  L 53.353967 81.54  L 44.489718 81.54  z \" style=\"fill:#fefebb;stroke:#444443;stroke-linejoin:miter;stroke-width:0.5;\" />\n   </g>\n   <g id=\"patch_6\">\n    <path clip-path=\"url(#p5e3d3f5650)\" d=\"M 53.353967 81.54  L 62.218216 81.54  L 62.218216 81.54  L 53.353967 81.54  z \" style=\"fill:#fefebb;stroke:#444443;stroke-linejoin:miter;stroke-width:0.5;\" />\n   </g>\n   <g id=\"patch_7\">\n    <path clip-path=\"url(#p5e3d3f5650)\" d=\"M 62.218216 81.54  L 71.082465 81.54  L 71.082465 81.54  L 62.218216 81.54  z \" style=\"fill:#fefebb;stroke:#444443;stroke-linejoin:miter;stroke-width:0.5;\" />\n   </g>\n   <g id=\"patch_8\">\n    <path clip-path=\"url(#p5e3d3f5650)\" d=\"M 71.082465 81.54  L 79.946714 81.54  L 79.946714 81.54  L 71.082465 81.54  z \" style=\"fill:#fefebb;stroke:#444443;stroke-linejoin:miter;stroke-width:0.5;\" />\n   </g>\n   <g id=\"patch_9\">\n    <path clip-path=\"url(#p5e3d3f5650)\" d=\"M 79.946714 81.54  L 88.810963 81.54  L 88.810963 69.470121  L 79.946714 69.470121  z \" style=\"fill:#fefebb;stroke:#444443;stroke-linejoin:miter;stroke-width:0.5;\" />\n   </g>\n   <g id=\"patch_10\">\n    <path clip-path=\"url(#p5e3d3f5650)\" d=\"M 88.810963 81.54  L 97.675212 81.54  L 97.675212 81.54  L 88.810963 81.54  z \" style=\"fill:#fefebb;stroke:#444443;stroke-linejoin:miter;stroke-width:0.5;\" />\n   </g>\n   <g id=\"patch_11\">\n    <path clip-path=\"url(#p5e3d3f5650)\" d=\"M 97.675212 81.54  L 106.539461 81.54  L 106.539461 81.54  L 97.675212 81.54  z \" style=\"fill:#fefebb;stroke:#444443;stroke-linejoin:miter;stroke-width:0.5;\" />\n   </g>\n   <g id=\"patch_12\">\n    <path clip-path=\"url(#p5e3d3f5650)\" d=\"M 106.539461 81.54  L 115.40371 81.54  L 115.40371 81.54  L 106.539461 81.54  z \" style=\"fill:#fefebb;stroke:#444443;stroke-linejoin:miter;stroke-width:0.5;\" />\n   </g>\n   <g id=\"patch_13\">\n    <path clip-path=\"url(#p5e3d3f5650)\" d=\"M 115.40371 81.54  L 124.267959 81.54  L 124.267959 81.54  L 115.40371 81.54  z \" style=\"fill:#fefebb;stroke:#444443;stroke-linejoin:miter;stroke-width:0.5;\" />\n   </g>\n   <g id=\"patch_14\">\n    <path clip-path=\"url(#p5e3d3f5650)\" d=\"M 124.267959 81.54  L 133.132208 81.54  L 133.132208 81.54  L 124.267959 81.54  z \" style=\"fill:#fefebb;stroke:#444443;stroke-linejoin:miter;stroke-width:0.5;\" />\n   </g>\n   <g id=\"patch_15\">\n    <path clip-path=\"url(#p5e3d3f5650)\" d=\"M 133.132208 81.54  L 141.996457 81.54  L 141.996457 80.401332  L 133.132208 80.401332  z \" style=\"fill:#fefebb;stroke:#444443;stroke-linejoin:miter;stroke-width:0.5;\" />\n   </g>\n   <g id=\"patch_16\">\n    <path clip-path=\"url(#p5e3d3f5650)\" d=\"M 141.996457 81.54  L 150.860706 81.54  L 150.860706 81.54  L 141.996457 81.54  z \" style=\"fill:#fefebb;stroke:#444443;stroke-linejoin:miter;stroke-width:0.5;\" />\n   </g>\n   <g id=\"patch_17\">\n    <path clip-path=\"url(#p5e3d3f5650)\" d=\"M 150.860706 81.54  L 159.724955 81.54  L 159.724955 81.54  L 150.860706 81.54  z \" style=\"fill:#fefebb;stroke:#444443;stroke-linejoin:miter;stroke-width:0.5;\" />\n   </g>\n   <g id=\"patch_18\">\n    <path clip-path=\"url(#p5e3d3f5650)\" d=\"M 159.724955 81.54  L 168.589204 81.54  L 168.589204 81.54  L 159.724955 81.54  z \" style=\"fill:#fefebb;stroke:#444443;stroke-linejoin:miter;stroke-width:0.5;\" />\n   </g>\n   <g id=\"patch_19\">\n    <path clip-path=\"url(#p5e3d3f5650)\" d=\"M 168.589204 81.54  L 177.453453 81.54  L 177.453453 81.54  L 168.589204 81.54  z \" style=\"fill:#fefebb;stroke:#444443;stroke-linejoin:miter;stroke-width:0.5;\" />\n   </g>\n   <g id=\"patch_20\">\n    <path clip-path=\"url(#p5e3d3f5650)\" d=\"M 177.453453 81.54  L 186.317702 81.54  L 186.317702 81.54  L 177.453453 81.54  z \" style=\"fill:#fefebb;stroke:#444443;stroke-linejoin:miter;stroke-width:0.5;\" />\n   </g>\n   <g id=\"patch_21\">\n    <path clip-path=\"url(#p5e3d3f5650)\" d=\"M 186.317702 81.54  L 195.181951 81.54  L 195.181951 12.536732  L 186.317702 12.536732  z \" style=\"fill:#fefebb;stroke:#444443;stroke-linejoin:miter;stroke-width:0.5;\" />\n   </g>\n   <g id=\"patch_22\">\n    <path clip-path=\"url(#p5e3d3f5650)\" d=\"M 26.76122 80.629066  L 35.625469 80.629066  L 35.625469 80.173599  L 26.76122 80.173599  z \" style=\"fill:#a1dab4;stroke:#444443;stroke-linejoin:miter;stroke-width:0.5;\" />\n   </g>\n   <g id=\"patch_23\">\n    <path clip-path=\"url(#p5e3d3f5650)\" d=\"M 35.625469 81.54  L 44.489718 81.54  L 44.489718 81.54  L 35.625469 81.54  z \" style=\"fill:#a1dab4;stroke:#444443;stroke-linejoin:miter;stroke-width:0.5;\" />\n   </g>\n   <g id=\"patch_24\">\n    <path clip-path=\"url(#p5e3d3f5650)\" d=\"M 44.489718 81.54  L 53.353967 81.54  L 53.353967 81.54  L 44.489718 81.54  z \" style=\"fill:#a1dab4;stroke:#444443;stroke-linejoin:miter;stroke-width:0.5;\" />\n   </g>\n   <g id=\"patch_25\">\n    <path clip-path=\"url(#p5e3d3f5650)\" d=\"M 53.353967 81.54  L 62.218216 81.54  L 62.218216 81.54  L 53.353967 81.54  z \" style=\"fill:#a1dab4;stroke:#444443;stroke-linejoin:miter;stroke-width:0.5;\" />\n   </g>\n   <g id=\"patch_26\">\n    <path clip-path=\"url(#p5e3d3f5650)\" d=\"M 62.218216 81.54  L 71.082465 81.54  L 71.082465 81.54  L 62.218216 81.54  z \" style=\"fill:#a1dab4;stroke:#444443;stroke-linejoin:miter;stroke-width:0.5;\" />\n   </g>\n   <g id=\"patch_27\">\n    <path clip-path=\"url(#p5e3d3f5650)\" d=\"M 71.082465 81.54  L 79.946714 81.54  L 79.946714 81.54  L 71.082465 81.54  z \" style=\"fill:#a1dab4;stroke:#444443;stroke-linejoin:miter;stroke-width:0.5;\" />\n   </g>\n   <g id=\"patch_28\">\n    <path clip-path=\"url(#p5e3d3f5650)\" d=\"M 79.946714 69.470121  L 88.810963 69.470121  L 88.810963 48.290901  L 79.946714 48.290901  z \" style=\"fill:#a1dab4;stroke:#444443;stroke-linejoin:miter;stroke-width:0.5;\" />\n   </g>\n   <g id=\"patch_29\">\n    <path clip-path=\"url(#p5e3d3f5650)\" d=\"M 88.810963 81.54  L 97.675212 81.54  L 97.675212 81.54  L 88.810963 81.54  z \" style=\"fill:#a1dab4;stroke:#444443;stroke-linejoin:miter;stroke-width:0.5;\" />\n   </g>\n   <g id=\"patch_30\">\n    <path clip-path=\"url(#p5e3d3f5650)\" d=\"M 97.675212 81.54  L 106.539461 81.54  L 106.539461 81.54  L 97.675212 81.54  z \" style=\"fill:#a1dab4;stroke:#444443;stroke-linejoin:miter;stroke-width:0.5;\" />\n   </g>\n   <g id=\"patch_31\">\n    <path clip-path=\"url(#p5e3d3f5650)\" d=\"M 106.539461 81.54  L 115.40371 81.54  L 115.40371 81.54  L 106.539461 81.54  z \" style=\"fill:#a1dab4;stroke:#444443;stroke-linejoin:miter;stroke-width:0.5;\" />\n   </g>\n   <g id=\"patch_32\">\n    <path clip-path=\"url(#p5e3d3f5650)\" d=\"M 115.40371 81.54  L 124.267959 81.54  L 124.267959 81.54  L 115.40371 81.54  z \" style=\"fill:#a1dab4;stroke:#444443;stroke-linejoin:miter;stroke-width:0.5;\" />\n   </g>\n   <g id=\"patch_33\">\n    <path clip-path=\"url(#p5e3d3f5650)\" d=\"M 124.267959 81.54  L 133.132208 81.54  L 133.132208 81.54  L 124.267959 81.54  z \" style=\"fill:#a1dab4;stroke:#444443;stroke-linejoin:miter;stroke-width:0.5;\" />\n   </g>\n   <g id=\"patch_34\">\n    <path clip-path=\"url(#p5e3d3f5650)\" d=\"M 133.132208 80.401332  L 141.996457 80.401332  L 141.996457 79.945865  L 133.132208 79.945865  z \" style=\"fill:#a1dab4;stroke:#444443;stroke-linejoin:miter;stroke-width:0.5;\" />\n   </g>\n   <g id=\"patch_35\">\n    <path clip-path=\"url(#p5e3d3f5650)\" d=\"M 141.996457 81.54  L 150.860706 81.54  L 150.860706 81.54  L 141.996457 81.54  z \" style=\"fill:#a1dab4;stroke:#444443;stroke-linejoin:miter;stroke-width:0.5;\" />\n   </g>\n   <g id=\"patch_36\">\n    <path clip-path=\"url(#p5e3d3f5650)\" d=\"M 150.860706 81.54  L 159.724955 81.54  L 159.724955 81.54  L 150.860706 81.54  z \" style=\"fill:#a1dab4;stroke:#444443;stroke-linejoin:miter;stroke-width:0.5;\" />\n   </g>\n   <g id=\"patch_37\">\n    <path clip-path=\"url(#p5e3d3f5650)\" d=\"M 159.724955 81.54  L 168.589204 81.54  L 168.589204 81.54  L 159.724955 81.54  z \" style=\"fill:#a1dab4;stroke:#444443;stroke-linejoin:miter;stroke-width:0.5;\" />\n   </g>\n   <g id=\"patch_38\">\n    <path clip-path=\"url(#p5e3d3f5650)\" d=\"M 168.589204 81.54  L 177.453453 81.54  L 177.453453 81.54  L 168.589204 81.54  z \" style=\"fill:#a1dab4;stroke:#444443;stroke-linejoin:miter;stroke-width:0.5;\" />\n   </g>\n   <g id=\"patch_39\">\n    <path clip-path=\"url(#p5e3d3f5650)\" d=\"M 177.453453 81.54  L 186.317702 81.54  L 186.317702 81.54  L 177.453453 81.54  z \" style=\"fill:#a1dab4;stroke:#444443;stroke-linejoin:miter;stroke-width:0.5;\" />\n   </g>\n   <g id=\"patch_40\">\n    <path clip-path=\"url(#p5e3d3f5650)\" d=\"M 186.317702 12.536732  L 195.181951 12.536732  L 195.181951 3.882857  L 186.317702 3.882857  z \" style=\"fill:#a1dab4;stroke:#444443;stroke-linejoin:miter;stroke-width:0.5;\" />\n   </g>\n   <g id=\"patch_41\">\n    <path d=\"M 110.971585 82.3554  L 107.657065 89.694  L 114.286105 89.694  z \" style=\"fill:#444443;\" />\n   </g>\n   <g id=\"matplotlib.axis_1\">\n    <g id=\"xtick_1\">\n     <g id=\"line2d_1\">\n      <defs>\n       <path d=\"M 0 0  L 0 3.5  \" id=\"m0aac833680\" style=\"stroke:#000000;stroke-width:0.3;\" />\n      </defs>\n      <g>\n       <use style=\"stroke:#000000;stroke-width:0.3;\" x=\"26.76122\" y=\"81.54\" xlink:href=\"#m0aac833680\" />\n      </g>\n     </g>\n     <g id=\"text_1\">\n      \n      <defs>\n       <path d=\"M 12.40625 8.296875  L 28.515625 8.296875  L 28.515625 63.921875  L 10.984375 60.40625  L 10.984375 69.390625  L 28.421875 72.90625  L 38.28125 72.90625  L 38.28125 8.296875  L 54.390625 8.296875  L 54.390625 0  L 12.40625 0  z \" id=\"DejaVuSans-49\" />\n      </defs>\n      <g style=\"fill:#444443;\" transform=\"translate(24.21622 94.61875)scale(0.08 -0.08)\">\n       <use xlink:href=\"#DejaVuSans-49\" />\n      </g>\n     </g>\n    </g>\n    <g id=\"xtick_2\">\n     <g id=\"line2d_2\">\n      <g>\n       <use style=\"stroke:#000000;stroke-width:0.3;\" x=\"195.181951\" y=\"81.54\" xlink:href=\"#m0aac833680\" />\n      </g>\n     </g>\n     <g id=\"text_2\">\n      \n      <defs>\n       <path d=\"M 37.796875 64.3125  L 12.890625 25.390625  L 37.796875 25.390625  z M 35.203125 72.90625  L 47.609375 72.90625  L 47.609375 25.390625  L 58.015625 25.390625  L 58.015625 17.1875  L 47.609375 17.1875  L 47.609375 0  L 37.796875 0  L 37.796875 17.1875  L 4.890625 17.1875  L 4.890625 26.703125  z \" id=\"DejaVuSans-52\" />\n      </defs>\n      <g style=\"fill:#444443;\" transform=\"translate(192.636951 94.61875)scale(0.08 -0.08)\">\n       <use xlink:href=\"#DejaVuSans-52\" />\n      </g>\n     </g>\n    </g>\n    <g id=\"text_3\">\n     \n     <defs>\n      <path d=\"M 48.78125 52.59375  L 48.78125 44.1875  Q 44.96875 46.296875 41.140625 47.34375  Q 37.3125 48.390625 33.40625 48.390625  Q 24.65625 48.390625 19.8125 42.84375  Q 14.984375 37.3125 14.984375 27.296875  Q 14.984375 17.28125 19.8125 11.734375  Q 24.65625 6.203125 33.40625 6.203125  Q 37.3125 6.203125 41.140625 7.25  Q 44.96875 8.296875 48.78125 10.40625  L 48.78125 2.09375  Q 45.015625 0.34375 40.984375 -0.53125  Q 36.96875 -1.421875 32.421875 -1.421875  Q 20.0625 -1.421875 12.78125 6.34375  Q 5.515625 14.109375 5.515625 27.296875  Q 5.515625 40.671875 12.859375 48.328125  Q 20.21875 56 33.015625 56  Q 37.15625 56 41.109375 55.140625  Q 45.0625 54.296875 48.78125 52.59375  z \" id=\"DejaVuSans-99\" />\n      <path d=\"M 34.28125 27.484375  Q 23.390625 27.484375 19.1875 25  Q 14.984375 22.515625 14.984375 16.5  Q 14.984375 11.71875 18.140625 8.90625  Q 21.296875 6.109375 26.703125 6.109375  Q 34.1875 6.109375 38.703125 11.40625  Q 43.21875 16.703125 43.21875 25.484375  L 43.21875 27.484375  z M 52.203125 31.203125  L 52.203125 0  L 43.21875 0  L 43.21875 8.296875  Q 40.140625 3.328125 35.546875 0.953125  Q 30.953125 -1.421875 24.3125 -1.421875  Q 15.921875 -1.421875 10.953125 3.296875  Q 6 8.015625 6 15.921875  Q 6 25.140625 12.171875 29.828125  Q 18.359375 34.515625 30.609375 34.515625  L 43.21875 34.515625  L 43.21875 35.40625  Q 43.21875 41.609375 39.140625 45  Q 35.0625 48.390625 27.6875 48.390625  Q 23 48.390625 18.546875 47.265625  Q 14.109375 46.140625 10.015625 43.890625  L 10.015625 52.203125  Q 14.9375 54.109375 19.578125 55.046875  Q 24.21875 56 28.609375 56  Q 40.484375 56 46.34375 49.84375  Q 52.203125 43.703125 52.203125 31.203125  z \" id=\"DejaVuSans-97\" />\n      <path d=\"M 18.3125 70.21875  L 18.3125 54.6875  L 36.8125 54.6875  L 36.8125 47.703125  L 18.3125 47.703125  L 18.3125 18.015625  Q 18.3125 11.328125 20.140625 9.421875  Q 21.96875 7.515625 27.59375 7.515625  L 36.8125 7.515625  L 36.8125 0  L 27.59375 0  Q 17.1875 0 13.234375 3.875  Q 9.28125 7.765625 9.28125 18.015625  L 9.28125 47.703125  L 2.6875 47.703125  L 2.6875 54.6875  L 9.28125 54.6875  L 9.28125 70.21875  z \" id=\"DejaVuSans-116\" />\n      <path d=\"M 33.015625 40.375  Q 26.375 40.375 22.484375 35.828125  Q 18.609375 31.296875 18.609375 23.390625  Q 18.609375 15.53125 22.484375 10.953125  Q 26.375 6.390625 33.015625 6.390625  Q 39.65625 6.390625 43.53125 10.953125  Q 47.40625 15.53125 47.40625 23.390625  Q 47.40625 31.296875 43.53125 35.828125  Q 39.65625 40.375 33.015625 40.375  z M 52.59375 71.296875  L 52.59375 62.3125  Q 48.875 64.0625 45.09375 64.984375  Q 41.3125 65.921875 37.59375 65.921875  Q 27.828125 65.921875 22.671875 59.328125  Q 17.53125 52.734375 16.796875 39.40625  Q 19.671875 43.65625 24.015625 45.921875  Q 28.375 48.1875 33.59375 48.1875  Q 44.578125 48.1875 50.953125 41.515625  Q 57.328125 34.859375 57.328125 23.390625  Q 57.328125 12.15625 50.6875 5.359375  Q 44.046875 -1.421875 33.015625 -1.421875  Q 20.359375 -1.421875 13.671875 8.265625  Q 6.984375 17.96875 6.984375 36.375  Q 6.984375 53.65625 15.1875 63.9375  Q 23.390625 74.21875 37.203125 74.21875  Q 40.921875 74.21875 44.703125 73.484375  Q 48.484375 72.75 52.59375 71.296875  z \" id=\"DejaVuSans-54\" />\n     </defs>\n     <g style=\"fill:#444443;\" transform=\"translate(100.204062 107.880937)scale(0.1 -0.1)\">\n      <use xlink:href=\"#DejaVuSans-99\" />\n      <use x=\"54.980469\" xlink:href=\"#DejaVuSans-97\" />\n      <use x=\"116.259766\" xlink:href=\"#DejaVuSans-116\" />\n      <use x=\"155.46875\" xlink:href=\"#DejaVuSans-49\" />\n      <use x=\"219.091797\" xlink:href=\"#DejaVuSans-54\" />\n     </g>\n    </g>\n   </g>\n   <g id=\"matplotlib.axis_2\">\n    <g id=\"ytick_1\">\n     <g id=\"line2d_3\">\n      <defs>\n       <path d=\"M 0 0  L -3.5 0  \" id=\"mc4a0900dae\" style=\"stroke:#000000;stroke-width:0.3;\" />\n      </defs>\n      <g>\n       <use style=\"stroke:#000000;stroke-width:0.3;\" x=\"22.27\" y=\"81.54\" xlink:href=\"#mc4a0900dae\" />\n      </g>\n     </g>\n     <g id=\"text_4\">\n      \n      <defs>\n       <path d=\"M 31.78125 66.40625  Q 24.171875 66.40625 20.328125 58.90625  Q 16.5 51.421875 16.5 36.375  Q 16.5 21.390625 20.328125 13.890625  Q 24.171875 6.390625 31.78125 6.390625  Q 39.453125 6.390625 43.28125 13.890625  Q 47.125 21.390625 47.125 36.375  Q 47.125 51.421875 43.28125 58.90625  Q 39.453125 66.40625 31.78125 66.40625  z M 31.78125 74.21875  Q 44.046875 74.21875 50.515625 64.515625  Q 56.984375 54.828125 56.984375 36.375  Q 56.984375 17.96875 50.515625 8.265625  Q 44.046875 -1.421875 31.78125 -1.421875  Q 19.53125 -1.421875 13.0625 8.265625  Q 6.59375 17.96875 6.59375 36.375  Q 6.59375 54.828125 13.0625 64.515625  Q 19.53125 74.21875 31.78125 74.21875  z \" id=\"DejaVuSans-48\" />\n      </defs>\n      <g style=\"fill:#444443;\" transform=\"translate(10.18 84.579375)scale(0.08 -0.08)\">\n       <use xlink:href=\"#DejaVuSans-48\" />\n      </g>\n     </g>\n    </g>\n    <g id=\"ytick_2\">\n     <g id=\"line2d_4\">\n      <g>\n       <use style=\"stroke:#000000;stroke-width:0.3;\" x=\"22.27\" y=\"3.882857\" xlink:href=\"#mc4a0900dae\" />\n      </g>\n     </g>\n     <g id=\"text_5\">\n      \n      <defs>\n       <path d=\"M 40.578125 39.3125  Q 47.65625 37.796875 51.625 33  Q 55.609375 28.21875 55.609375 21.1875  Q 55.609375 10.40625 48.1875 4.484375  Q 40.765625 -1.421875 27.09375 -1.421875  Q 22.515625 -1.421875 17.65625 -0.515625  Q 12.796875 0.390625 7.625 2.203125  L 7.625 11.71875  Q 11.71875 9.328125 16.59375 8.109375  Q 21.484375 6.890625 26.8125 6.890625  Q 36.078125 6.890625 40.9375 10.546875  Q 45.796875 14.203125 45.796875 21.1875  Q 45.796875 27.640625 41.28125 31.265625  Q 36.765625 34.90625 28.71875 34.90625  L 20.21875 34.90625  L 20.21875 43.015625  L 29.109375 43.015625  Q 36.375 43.015625 40.234375 45.921875  Q 44.09375 48.828125 44.09375 54.296875  Q 44.09375 59.90625 40.109375 62.90625  Q 36.140625 65.921875 28.71875 65.921875  Q 24.65625 65.921875 20.015625 65.03125  Q 15.375 64.15625 9.8125 62.3125  L 9.8125 71.09375  Q 15.4375 72.65625 20.34375 73.4375  Q 25.25 74.21875 29.59375 74.21875  Q 40.828125 74.21875 47.359375 69.109375  Q 53.90625 64.015625 53.90625 55.328125  Q 53.90625 49.265625 50.4375 45.09375  Q 46.96875 40.921875 40.578125 39.3125  z \" id=\"DejaVuSans-51\" />\n      </defs>\n      <g style=\"fill:#444443;\" transform=\"translate(0 6.922232)scale(0.08 -0.08)\">\n       <use xlink:href=\"#DejaVuSans-51\" />\n       <use x=\"63.623047\" xlink:href=\"#DejaVuSans-52\" />\n       <use x=\"127.246094\" xlink:href=\"#DejaVuSans-49\" />\n      </g>\n     </g>\n    </g>\n   </g>\n   <g id=\"patch_42\">\n    <path d=\"M 22.27 81.54  L 22.27 -0  \" style=\"fill:none;stroke:#000000;stroke-linecap:square;stroke-linejoin:miter;stroke-width:0.3;\" />\n   </g>\n   <g id=\"patch_43\">\n    <path d=\"M 22.27 81.54  L 206.41 81.54  \" style=\"fill:none;stroke:#000000;stroke-linecap:square;stroke-linejoin:miter;stroke-width:0.3;\" />\n   </g>\n   <g id=\"text_6\">\n    \n    <defs>\n     <path d=\"M 19.1875 8.296875  L 53.609375 8.296875  L 53.609375 0  L 7.328125 0  L 7.328125 8.296875  Q 12.9375 14.109375 22.625 23.890625  Q 32.328125 33.6875 34.8125 36.53125  Q 39.546875 41.84375 41.421875 45.53125  Q 43.3125 49.21875 43.3125 52.78125  Q 43.3125 58.59375 39.234375 62.25  Q 35.15625 65.921875 28.609375 65.921875  Q 23.96875 65.921875 18.8125 64.3125  Q 13.671875 62.703125 7.8125 59.421875  L 7.8125 69.390625  Q 13.765625 71.78125 18.9375 73  Q 24.125 74.21875 28.421875 74.21875  Q 39.75 74.21875 46.484375 68.546875  Q 53.21875 62.890625 53.21875 53.421875  Q 53.21875 48.921875 51.53125 44.890625  Q 49.859375 40.875 45.40625 35.40625  Q 44.1875 33.984375 37.640625 27.21875  Q 31.109375 20.453125 19.1875 8.296875  z \" id=\"DejaVuSans-50\" />\n     <path d=\"M 10.6875 12.40625  L 21 12.40625  L 21 0  L 10.6875 0  z \" id=\"DejaVuSans-46\" />\n     <path d=\"M 10.796875 72.90625  L 49.515625 72.90625  L 49.515625 64.59375  L 19.828125 64.59375  L 19.828125 46.734375  Q 21.96875 47.46875 24.109375 47.828125  Q 26.265625 48.1875 28.421875 48.1875  Q 40.625 48.1875 47.75 41.5  Q 54.890625 34.8125 54.890625 23.390625  Q 54.890625 11.625 47.5625 5.09375  Q 40.234375 -1.421875 26.90625 -1.421875  Q 22.3125 -1.421875 17.546875 -0.640625  Q 12.796875 0.140625 7.71875 1.703125  L 7.71875 11.625  Q 12.109375 9.234375 16.796875 8.0625  Q 21.484375 6.890625 26.703125 6.890625  Q 35.15625 6.890625 40.078125 11.328125  Q 45.015625 15.765625 45.015625 23.390625  Q 45.015625 31 40.078125 35.4375  Q 35.15625 39.890625 26.703125 39.890625  Q 22.75 39.890625 18.8125 39.015625  Q 14.890625 38.140625 10.796875 36.28125  z \" id=\"DejaVuSans-53\" />\n    </defs>\n    <g style=\"fill:#444443;\" transform=\"translate(102.065335 97.848)scale(0.08 -0.08)\">\n     <use xlink:href=\"#DejaVuSans-50\" />\n     <use x=\"63.623047\" xlink:href=\"#DejaVuSans-46\" />\n     <use x=\"95.410156\" xlink:href=\"#DejaVuSans-53\" />\n     <use x=\"159.033203\" xlink:href=\"#DejaVuSans-48\" />\n    </g>\n   </g>\n  </g>\n </g>\n <defs>\n  <clipPath id=\"p5e3d3f5650\">\n   <rect height=\"81.54\" width=\"184.14\" x=\"22.27\" y=\"-0\" />\n  </clipPath>\n </defs>\n</svg></g>\n\n<g class=\"edge\" id=\"edge7\">\n<title>node0-&gt;node1</title>\n<path d=\"M163.0823,-102.799C169.8722,-104.4053 176.7446,-106.031 183.5517,-107.6413\" fill=\"none\" stroke=\"#444443\" stroke-width=\".3\" />\n<polygon fill=\"#444443\" points=\"183.5654,-109.0831 187.7803,-108.6416 184.21,-106.3583 183.5654,-109.0831\" stroke=\"#444443\" stroke-width=\".3\" />\n<text fill=\"#000000\" font-family=\"Times,serif\" font-size=\"14.00\" text-anchor=\"start\" x=\"171\" y=\"-109.3\">&lt;</text>\n</g>\n\n<g class=\"edge\" id=\"edge8\">\n<title>node0-&gt;leaf2</title>\n<path d=\"M163.0823,-65.0782C186.1318,-59.8735 210.1313,-54.4542 229.3014,-50.1255\" fill=\"none\" stroke=\"#444443\" stroke-width=\".3\" />\n<polygon fill=\"#444443\" points=\"229.9722,-51.4093 233.5656,-49.1626 229.3554,-48.6781 229.9722,-51.4093\" stroke=\"#444443\" stroke-width=\".3\" />\n<text fill=\"#000000\" font-family=\"Times,serif\" font-size=\"14.00\" text-anchor=\"start\" x=\"171.5\" y=\"-66.3\">&#8805;</text>\n</g>\n\n\n<g class=\"node\" id=\"node8\">\n<title>legend</title>\n<polygon fill=\"none\" points=\"114,-185.5 49,-185.5 49,-135.5 114,-135.5 114,-185.5\" stroke=\"#000000\" stroke-width=\"0\" />\n<svg height=\"46px\" preserveAspectRatio=\"xMinYMin meet\" version=\"1.1\" viewBox=\"0 0 81.764063 61.915625\" width=\"61px\" x=\"51.5\" y=\"-183.5\">\n <defs>\n  <style type=\"text/css\">\n*{stroke-linecap:butt;stroke-linejoin:round;}\n  </style>\n </defs>\n <g id=\"figure_1\">\n  <g id=\"patch_1\">\n   <path d=\"M 0 61.915625  L 81.764063 61.915625  L 81.764063 0  L 0 0  z \" style=\"fill:#ffffff;\" />\n  </g>\n  <g id=\"axes_1\">\n   <g id=\"legend_1\">\n    <g id=\"patch_2\">\n     <path d=\"M 2.4 61.915625  L 79.364063 61.915625  Q 81.764063 61.915625 81.764063 59.515625  L 81.764063 2.4  Q 81.764063 -0 79.364063 -0  L 2.4 -0  Q 0 -0 0 2.4  L 0 59.515625  Q 0 61.915625 2.4 61.915625  z \" style=\"fill:#ffffff;opacity:0.8;stroke:#444443;stroke-linejoin:miter;stroke-width:0.5;\" />\n    </g>\n    <g id=\"text_1\">\n     \n     <defs>\n      <path d=\"M 27.484375 70.21875  L 27.484375 54.6875  L 45.515625 54.6875  L 45.515625 42.1875  L 27.484375 42.1875  L 27.484375 19  Q 27.484375 15.1875 29 13.84375  Q 30.515625 12.5 35.015625 12.5  L 44 12.5  L 44 0  L 29 0  Q 18.65625 0 14.328125 4.3125  Q 10.015625 8.640625 10.015625 19  L 10.015625 42.1875  L 1.3125 42.1875  L 1.3125 54.6875  L 10.015625 54.6875  L 10.015625 70.21875  z \" id=\"DejaVuSans-Bold-116\" />\n      <path d=\"M 32.90625 24.609375  Q 27.4375 24.609375 24.671875 22.75  Q 21.921875 20.90625 21.921875 17.28125  Q 21.921875 13.96875 24.140625 12.078125  Q 26.375 10.203125 30.328125 10.203125  Q 35.25 10.203125 38.625 13.734375  Q 42 17.28125 42 22.609375  L 42 24.609375  z M 59.625 31.203125  L 59.625 0  L 42 0  L 42 8.109375  Q 38.484375 3.125 34.078125 0.84375  Q 29.6875 -1.421875 23.390625 -1.421875  Q 14.890625 -1.421875 9.59375 3.53125  Q 4.296875 8.5 4.296875 16.40625  Q 4.296875 26.03125 10.90625 30.515625  Q 17.53125 35.015625 31.6875 35.015625  L 42 35.015625  L 42 36.375  Q 42 40.53125 38.71875 42.453125  Q 35.453125 44.390625 28.515625 44.390625  Q 22.90625 44.390625 18.0625 43.265625  Q 13.234375 42.140625 9.078125 39.890625  L 9.078125 53.21875  Q 14.703125 54.59375 20.359375 55.296875  Q 26.03125 56 31.6875 56  Q 46.484375 56 53.046875 50.171875  Q 59.625 44.34375 59.625 31.203125  z \" id=\"DejaVuSans-Bold-97\" />\n      <path d=\"M 49.03125 39.796875  Q 46.734375 40.875 44.453125 41.375  Q 42.1875 41.890625 39.890625 41.890625  Q 33.15625 41.890625 29.515625 37.5625  Q 25.875 33.25 25.875 25.203125  L 25.875 0  L 8.40625 0  L 8.40625 54.6875  L 25.875 54.6875  L 25.875 45.703125  Q 29.25 51.078125 33.609375 53.53125  Q 37.984375 56 44.09375 56  Q 44.96875 56 45.984375 55.921875  Q 47.015625 55.859375 48.96875 55.609375  z \" id=\"DejaVuSans-Bold-114\" />\n      <path d=\"M 45.609375 9.28125  Q 42 4.5 37.640625 2.25  Q 33.296875 0 27.59375 0  Q 17.578125 0 11.03125 7.875  Q 4.5 15.765625 4.5 27.984375  Q 4.5 40.234375 11.03125 48.0625  Q 17.578125 55.90625 27.59375 55.90625  Q 33.296875 55.90625 37.640625 53.65625  Q 42 51.421875 45.609375 46.578125  L 45.609375 54.6875  L 63.1875 54.6875  L 63.1875 5.515625  Q 63.1875 -7.671875 54.859375 -14.625  Q 46.53125 -21.578125 30.71875 -21.578125  Q 25.59375 -21.578125 20.796875 -20.796875  Q 16.015625 -20.015625 11.1875 -18.40625  L 11.1875 -4.78125  Q 15.765625 -7.421875 20.15625 -8.71875  Q 24.5625 -10.015625 29 -10.015625  Q 37.59375 -10.015625 41.59375 -6.25  Q 45.609375 -2.484375 45.609375 5.515625  z M 34.078125 43.3125  Q 28.65625 43.3125 25.625 39.296875  Q 22.609375 35.296875 22.609375 27.984375  Q 22.609375 20.453125 25.53125 16.578125  Q 28.46875 12.703125 34.078125 12.703125  Q 39.546875 12.703125 42.578125 16.703125  Q 45.609375 20.703125 45.609375 27.984375  Q 45.609375 35.296875 42.578125 39.296875  Q 39.546875 43.3125 34.078125 43.3125  z \" id=\"DejaVuSans-Bold-103\" />\n      <path d=\"M 62.984375 27.484375  L 62.984375 22.515625  L 22.125 22.515625  Q 22.75 16.359375 26.5625 13.28125  Q 30.375 10.203125 37.203125 10.203125  Q 42.71875 10.203125 48.5 11.84375  Q 54.296875 13.484375 60.40625 16.796875  L 60.40625 3.328125  Q 54.203125 0.984375 48 -0.21875  Q 41.796875 -1.421875 35.59375 -1.421875  Q 20.75 -1.421875 12.515625 6.125  Q 4.296875 13.671875 4.296875 27.296875  Q 4.296875 40.671875 12.375 48.328125  Q 20.453125 56 34.625 56  Q 47.515625 56 55.25 48.234375  Q 62.984375 40.484375 62.984375 27.484375  z M 45.015625 33.296875  Q 45.015625 38.28125 42.109375 41.328125  Q 39.203125 44.390625 34.515625 44.390625  Q 29.4375 44.390625 26.265625 41.53125  Q 23.09375 38.671875 22.3125 33.296875  z \" id=\"DejaVuSans-Bold-101\" />\n     </defs>\n     <g style=\"fill:#444443;\" transform=\"translate(23.292188 17.198437)scale(0.1 -0.1)\">\n      <use xlink:href=\"#DejaVuSans-Bold-116\" />\n      <use x=\"47.802734\" xlink:href=\"#DejaVuSans-Bold-97\" />\n      <use x=\"115.283203\" xlink:href=\"#DejaVuSans-Bold-114\" />\n      <use x=\"164.599609\" xlink:href=\"#DejaVuSans-Bold-103\" />\n      <use x=\"236.181641\" xlink:href=\"#DejaVuSans-Bold-101\" />\n      <use x=\"304.003906\" xlink:href=\"#DejaVuSans-Bold-116\" />\n     </g>\n    </g>\n    <g id=\"patch_3\">\n     <path d=\"M 9.6 33.75625  L 33.6 33.75625  L 33.6 25.35625  L 9.6 25.35625  z \" style=\"fill:#fefebb;stroke:#444443;stroke-linejoin:miter;stroke-width:0.4;\" />\n    </g>\n    <g id=\"text_2\">\n     \n     <defs>\n      <path d=\"M 48.78125 52.59375  L 48.78125 44.1875  Q 44.96875 46.296875 41.140625 47.34375  Q 37.3125 48.390625 33.40625 48.390625  Q 24.65625 48.390625 19.8125 42.84375  Q 14.984375 37.3125 14.984375 27.296875  Q 14.984375 17.28125 19.8125 11.734375  Q 24.65625 6.203125 33.40625 6.203125  Q 37.3125 6.203125 41.140625 7.25  Q 44.96875 8.296875 48.78125 10.40625  L 48.78125 2.09375  Q 45.015625 0.34375 40.984375 -0.53125  Q 36.96875 -1.421875 32.421875 -1.421875  Q 20.0625 -1.421875 12.78125 6.34375  Q 5.515625 14.109375 5.515625 27.296875  Q 5.515625 40.671875 12.859375 48.328125  Q 20.21875 56 33.015625 56  Q 37.15625 56 41.109375 55.140625  Q 45.0625 54.296875 48.78125 52.59375  z \" id=\"DejaVuSans-99\" />\n      <path d=\"M 9.421875 75.984375  L 18.40625 75.984375  L 18.40625 0  L 9.421875 0  z \" id=\"DejaVuSans-108\" />\n      <path d=\"M 34.28125 27.484375  Q 23.390625 27.484375 19.1875 25  Q 14.984375 22.515625 14.984375 16.5  Q 14.984375 11.71875 18.140625 8.90625  Q 21.296875 6.109375 26.703125 6.109375  Q 34.1875 6.109375 38.703125 11.40625  Q 43.21875 16.703125 43.21875 25.484375  L 43.21875 27.484375  z M 52.203125 31.203125  L 52.203125 0  L 43.21875 0  L 43.21875 8.296875  Q 40.140625 3.328125 35.546875 0.953125  Q 30.953125 -1.421875 24.3125 -1.421875  Q 15.921875 -1.421875 10.953125 3.296875  Q 6 8.015625 6 15.921875  Q 6 25.140625 12.171875 29.828125  Q 18.359375 34.515625 30.609375 34.515625  L 43.21875 34.515625  L 43.21875 35.40625  Q 43.21875 41.609375 39.140625 45  Q 35.0625 48.390625 27.6875 48.390625  Q 23 48.390625 18.546875 47.265625  Q 14.109375 46.140625 10.015625 43.890625  L 10.015625 52.203125  Q 14.9375 54.109375 19.578125 55.046875  Q 24.21875 56 28.609375 56  Q 40.484375 56 46.34375 49.84375  Q 52.203125 43.703125 52.203125 31.203125  z \" id=\"DejaVuSans-97\" />\n      <path d=\"M 44.28125 53.078125  L 44.28125 44.578125  Q 40.484375 46.53125 36.375 47.5  Q 32.28125 48.484375 27.875 48.484375  Q 21.1875 48.484375 17.84375 46.4375  Q 14.5 44.390625 14.5 40.28125  Q 14.5 37.15625 16.890625 35.375  Q 19.28125 33.59375 26.515625 31.984375  L 29.59375 31.296875  Q 39.15625 29.25 43.1875 25.515625  Q 47.21875 21.78125 47.21875 15.09375  Q 47.21875 7.46875 41.1875 3.015625  Q 35.15625 -1.421875 24.609375 -1.421875  Q 20.21875 -1.421875 15.453125 -0.5625  Q 10.6875 0.296875 5.421875 2  L 5.421875 11.28125  Q 10.40625 8.6875 15.234375 7.390625  Q 20.0625 6.109375 24.8125 6.109375  Q 31.15625 6.109375 34.5625 8.28125  Q 37.984375 10.453125 37.984375 14.40625  Q 37.984375 18.0625 35.515625 20.015625  Q 33.0625 21.96875 24.703125 23.78125  L 21.578125 24.515625  Q 13.234375 26.265625 9.515625 29.90625  Q 5.8125 33.546875 5.8125 39.890625  Q 5.8125 47.609375 11.28125 51.796875  Q 16.75 56 26.8125 56  Q 31.78125 56 36.171875 55.265625  Q 40.578125 54.546875 44.28125 53.078125  z \" id=\"DejaVuSans-115\" />\n      <path id=\"DejaVuSans-32\" />\n      <path d=\"M 31.78125 66.40625  Q 24.171875 66.40625 20.328125 58.90625  Q 16.5 51.421875 16.5 36.375  Q 16.5 21.390625 20.328125 13.890625  Q 24.171875 6.390625 31.78125 6.390625  Q 39.453125 6.390625 43.28125 13.890625  Q 47.125 21.390625 47.125 36.375  Q 47.125 51.421875 43.28125 58.90625  Q 39.453125 66.40625 31.78125 66.40625  z M 31.78125 74.21875  Q 44.046875 74.21875 50.515625 64.515625  Q 56.984375 54.828125 56.984375 36.375  Q 56.984375 17.96875 50.515625 8.265625  Q 44.046875 -1.421875 31.78125 -1.421875  Q 19.53125 -1.421875 13.0625 8.265625  Q 6.59375 17.96875 6.59375 36.375  Q 6.59375 54.828125 13.0625 64.515625  Q 19.53125 74.21875 31.78125 74.21875  z \" id=\"DejaVuSans-48\" />\n     </defs>\n     <g style=\"fill:#444443;\" transform=\"translate(37.8 33.75625)scale(0.1 -0.1)\">\n      <use xlink:href=\"#DejaVuSans-99\" />\n      <use x=\"54.980469\" xlink:href=\"#DejaVuSans-108\" />\n      <use x=\"82.763672\" xlink:href=\"#DejaVuSans-97\" />\n      <use x=\"144.042969\" xlink:href=\"#DejaVuSans-115\" />\n      <use x=\"196.142578\" xlink:href=\"#DejaVuSans-115\" />\n      <use x=\"248.242188\" xlink:href=\"#DejaVuSans-32\" />\n      <use x=\"280.029297\" xlink:href=\"#DejaVuSans-48\" />\n     </g>\n    </g>\n    <g id=\"patch_4\">\n     <path d=\"M 9.6 50.235937  L 33.6 50.235937  L 33.6 41.835937  L 9.6 41.835937  z \" style=\"fill:#a1dab4;stroke:#444443;stroke-linejoin:miter;stroke-width:0.4;\" />\n    </g>\n    <g id=\"text_3\">\n     \n     <defs>\n      <path d=\"M 12.40625 8.296875  L 28.515625 8.296875  L 28.515625 63.921875  L 10.984375 60.40625  L 10.984375 69.390625  L 28.421875 72.90625  L 38.28125 72.90625  L 38.28125 8.296875  L 54.390625 8.296875  L 54.390625 0  L 12.40625 0  z \" id=\"DejaVuSans-49\" />\n     </defs>\n     <g style=\"fill:#444443;\" transform=\"translate(37.8 50.235937)scale(0.1 -0.1)\">\n      <use xlink:href=\"#DejaVuSans-99\" />\n      <use x=\"54.980469\" xlink:href=\"#DejaVuSans-108\" />\n      <use x=\"82.763672\" xlink:href=\"#DejaVuSans-97\" />\n      <use x=\"144.042969\" xlink:href=\"#DejaVuSans-115\" />\n      <use x=\"196.142578\" xlink:href=\"#DejaVuSans-115\" />\n      <use x=\"248.242188\" xlink:href=\"#DejaVuSans-32\" />\n      <use x=\"280.029297\" xlink:href=\"#DejaVuSans-49\" />\n     </g>\n    </g>\n   </g>\n  </g>\n </g>\n</svg></g>\n</g>\n</svg>"
          },
          "metadata": {
            "tags": []
          },
          "execution_count": 22
        }
      ]
    },
    {
      "cell_type": "markdown",
      "metadata": {
        "id": "25HzCpNpIKCE"
      },
      "source": [
        "Lets try to see how the model performs when the `max_leaf_node` limit is removed"
      ]
    },
    {
      "cell_type": "code",
      "metadata": {
        "trusted": true,
        "id": "rTJOwAg5IKCF"
      },
      "source": [
        "m = DecisionTreeClassifier()\n",
        "m.fit(xs, y);"
      ],
      "execution_count": 23,
      "outputs": []
    },
    {
      "cell_type": "markdown",
      "metadata": {
        "id": "08_t0Ly_IKCF"
      },
      "source": [
        "## Defining helper functions \n",
        "\n",
        "`get_auc_scores` \n",
        "\n",
        "`plot_roc_curve`"
      ]
    },
    {
      "cell_type": "code",
      "metadata": {
        "trusted": true,
        "id": "0vk-R-PhIKCG"
      },
      "source": [
        "\n",
        "def get_auc_scores(clf, X_train, X_test, y_train, y_test):\n",
        "    \"\"\"\n",
        "    Prints the AUC scores for training and testing data\n",
        "    and returns testing score\n",
        "    \"\"\"\n",
        "    y_train_score = clf.predict_proba(X_train)[:, 1]\n",
        "    y_test_score = clf.predict_proba(X_test)[:, 1]\n",
        "    auc_train = roc_auc_score(y_train, y_train_score)\n",
        "    auc_test = roc_auc_score(y_test, y_test_score)\n",
        "    print(f\" Training AUC: {auc_train}, Testing AUC: {auc_test}\")\n",
        "\n",
        "    return y_test_score"
      ],
      "execution_count": 24,
      "outputs": []
    },
    {
      "cell_type": "code",
      "metadata": {
        "trusted": true,
        "colab": {
          "base_uri": "https://localhost:8080/"
        },
        "id": "oA2o0hSlIKCG",
        "outputId": "bf1b4ae2-bbdf-440a-9a0f-0eacf64b7725"
      },
      "source": [
        "y_test_score = get_auc_scores(m , xs, valid_xs, y, valid_y)"
      ],
      "execution_count": 25,
      "outputs": [
        {
          "output_type": "stream",
          "text": [
            " Training AUC: 1.0, Testing AUC: 0.708296511495617\n"
          ],
          "name": "stdout"
        }
      ]
    },
    {
      "cell_type": "code",
      "metadata": {
        "trusted": true,
        "id": "VJVVQfRnIKCH"
      },
      "source": [
        "def plot_roc_curve(y_test, y_test_score):\n",
        "    \"\"\"Plot ROC curve for testing data\"\"\"\n",
        "\n",
        "    fpr, tpr, _ = roc_curve(y_test, y_test_score)\n",
        "    roc_auc = auc(fpr, tpr)\n",
        "    plt.figure()\n",
        "    plt.plot(fpr, tpr, label=\"ROC curve (area = %0.2f)\" % roc_auc)\n",
        "    plt.plot([0, 1], [0, 1], \"k-\")\n",
        "    plt.xlim([0.0, 1.0])\n",
        "    plt.ylim([0.0, 1.05])\n",
        "    plt.xlabel(\"False Positive Rate\")\n",
        "    plt.ylabel(\"True Positive Rate\")\n",
        "    plt.title(\"Receiver operating characteristic\")\n",
        "    plt.legend(loc=\"lower right\")\n",
        "    plt.show()"
      ],
      "execution_count": 26,
      "outputs": []
    },
    {
      "cell_type": "code",
      "metadata": {
        "trusted": true,
        "colab": {
          "base_uri": "https://localhost:8080/",
          "height": 302
        },
        "id": "qGkeK79eIKCH",
        "outputId": "76085268-ce1e-4244-aa6d-e660b21569fb"
      },
      "source": [
        "plot_roc_curve(valid_y, y_test_score)"
      ],
      "execution_count": 27,
      "outputs": [
        {
          "output_type": "display_data",
          "data": {
            "image/png": "[encoded data removed]",
            "text/plain": [
              "<Figure size 432x288 with 1 Axes>"
            ]
          },
          "metadata": {
            "tags": [],
            "needs_background": "light"
          }
        }
      ]
    },
    {
      "cell_type": "markdown",
      "metadata": {
        "id": "1aEri87sIKCI"
      },
      "source": [
        "There appears to be major overfitting during training!\n",
        "\n",
        "Lets check how many leaves are model is using vs the number of training samples"
      ]
    },
    {
      "cell_type": "code",
      "metadata": {
        "trusted": true,
        "colab": {
          "base_uri": "https://localhost:8080/"
        },
        "id": "ONd_QlcoIKCI",
        "outputId": "abda4ba0-06e6-4489-f843-0754a3ba8974"
      },
      "source": [
        "m.get_n_leaves(), len(xs)"
      ],
      "execution_count": 28,
      "outputs": [
        {
          "output_type": "execute_result",
          "data": {
            "text/plain": [
              "(27344, 240000)"
            ]
          },
          "metadata": {
            "tags": []
          },
          "execution_count": 28
        }
      ]
    },
    {
      "cell_type": "markdown",
      "metadata": {
        "id": "YztR7AOnIKCJ"
      },
      "source": [
        "Though we have not got as many leaf nodes as the training data... there are still too many leaf nodes vs data points! \n",
        "\n",
        "That seems a little over-enthusiastic. Indeed, sklearn's default settings allow it to continue splitting nodes until there is only one item in each leaf node. Let's change the stopping rule to tell sklearn to ensure every leaf node contains at least 25 records:"
      ]
    },
    {
      "cell_type": "code",
      "metadata": {
        "trusted": true,
        "colab": {
          "base_uri": "https://localhost:8080/"
        },
        "id": "iwWLBTcKIKCJ",
        "outputId": "5f67d066-7575-4d79-fc22-224e503db9b6"
      },
      "source": [
        "m = DecisionTreeClassifier(min_samples_leaf=25)\n",
        "m.fit(to.train.xs, to.train.y)\n",
        "y_test_score = get_auc_scores(m, xs, valid_xs, y, valid_y)"
      ],
      "execution_count": 29,
      "outputs": [
        {
          "output_type": "stream",
          "text": [
            " Training AUC: 0.9282614374167998, Testing AUC: 0.8378018557238534\n"
          ],
          "name": "stdout"
        }
      ]
    },
    {
      "cell_type": "code",
      "metadata": {
        "trusted": true,
        "colab": {
          "base_uri": "https://localhost:8080/",
          "height": 302
        },
        "id": "--IhRYlJIKCK",
        "outputId": "1176d78b-b7a1-47de-eb4f-3fc37ad84850"
      },
      "source": [
        "plot_roc_curve(valid_y, y_test_score)"
      ],
      "execution_count": 30,
      "outputs": [
        {
          "output_type": "display_data",
          "data": {
            "image/png": "[encoded data removed]",
            "text/plain": [
              "<Figure size 432x288 with 1 Axes>"
            ]
          },
          "metadata": {
            "tags": [],
            "needs_background": "light"
          }
        }
      ]
    },
    {
      "cell_type": "markdown",
      "metadata": {
        "id": "hYkiksmlIKCK"
      },
      "source": [
        "This seems better!!! At least we are not overfitting the training set. \n",
        "\n",
        "And the AUC curve for the validation dataset is also better. This shows us that we are on the right track! \n",
        "\n",
        "Let's check how many leaf-nodes were used for training"
      ]
    },
    {
      "cell_type": "code",
      "metadata": {
        "trusted": true,
        "colab": {
          "base_uri": "https://localhost:8080/"
        },
        "id": "QthGN9lHIKCL",
        "outputId": "1d6b288f-aeac-40cd-9d60-0f475c6463ae"
      },
      "source": [
        "m.get_n_leaves()"
      ],
      "execution_count": 31,
      "outputs": [
        {
          "output_type": "execute_result",
          "data": {
            "text/plain": [
              "5482"
            ]
          },
          "metadata": {
            "tags": []
          },
          "execution_count": 31
        }
      ]
    },
    {
      "cell_type": "markdown",
      "metadata": {
        "id": "Kb50fbsLIKCL"
      },
      "source": [
        "Lets now define a RandomForest Classifier "
      ]
    },
    {
      "cell_type": "code",
      "metadata": {
        "trusted": true,
        "id": "Nl9ZiRj9IKCL"
      },
      "source": [
        "def rf(xs, y, n_estimators=40, max_samples=200_000,\n",
        "       max_features=0.5, min_samples_leaf=5, **kwargs):\n",
        "    return RandomForestClassifier(n_jobs=-1, n_estimators=n_estimators,\n",
        "        max_samples=max_samples, max_features=max_features,\n",
        "        min_samples_leaf=min_samples_leaf, oob_score=True).fit(xs, y)"
      ],
      "execution_count": 32,
      "outputs": []
    },
    {
      "cell_type": "code",
      "metadata": {
        "trusted": true,
        "colab": {
          "base_uri": "https://localhost:8080/"
        },
        "id": "UaiARfIJIKCM",
        "outputId": "f39090f3-6509-4764-9241-4458614bfadc"
      },
      "source": [
        "%%time\n",
        "m = rf(xs, y);"
      ],
      "execution_count": 33,
      "outputs": [
        {
          "output_type": "stream",
          "text": [
            "CPU times: user 2min 53s, sys: 177 ms, total: 2min 53s\n",
            "Wall time: 1min 29s\n"
          ],
          "name": "stdout"
        }
      ]
    },
    {
      "cell_type": "code",
      "metadata": {
        "trusted": true,
        "colab": {
          "base_uri": "https://localhost:8080/"
        },
        "id": "xdjxLbvAIKCM",
        "outputId": "8ce6c5af-e67f-49bf-fb2e-342a83c60347"
      },
      "source": [
        "y_test_score_1 = get_auc_scores(m, xs, valid_xs, y, valid_y)"
      ],
      "execution_count": 34,
      "outputs": [
        {
          "output_type": "stream",
          "text": [
            " Training AUC: 0.9832876086147577, Testing AUC: 0.8793360836922062\n"
          ],
          "name": "stdout"
        }
      ]
    },
    {
      "cell_type": "code",
      "metadata": {
        "trusted": true,
        "colab": {
          "base_uri": "https://localhost:8080/",
          "height": 302
        },
        "id": "gxDYGw7aIKCN",
        "outputId": "803188d8-a8a0-4c97-ee1d-3056c2f09cc8"
      },
      "source": [
        "plot_roc_curve(valid_y, y_test_score_1)"
      ],
      "execution_count": 35,
      "outputs": [
        {
          "output_type": "display_data",
          "data": {
            "image/png": "[encoded data removed]",
            "text/plain": [
              "<Figure size 432x288 with 1 Axes>"
            ]
          },
          "metadata": {
            "tags": [],
            "needs_background": "light"
          }
        }
      ]
    },
    {
      "cell_type": "markdown",
      "metadata": {
        "id": "5JpYjBRDIKCN"
      },
      "source": [
        ".....and yes, there is some improvement! "
      ]
    },
    {
      "cell_type": "code",
      "metadata": {
        "trusted": true,
        "id": "2P9qlwWRIKCO"
      },
      "source": [
        "preds = np.stack([t.predict(valid_xs) for t in m.estimators_])"
      ],
      "execution_count": 36,
      "outputs": []
    },
    {
      "cell_type": "code",
      "metadata": {
        "trusted": true,
        "colab": {
          "base_uri": "https://localhost:8080/"
        },
        "id": "BlDcB5M2IKCO",
        "outputId": "e957c00f-7d07-47d2-e413-e3e051fca20d"
      },
      "source": [
        "auc = roc_auc_score(valid_y, preds.mean(0))\n",
        "auc"
      ],
      "execution_count": 37,
      "outputs": [
        {
          "output_type": "execute_result",
          "data": {
            "text/plain": [
              "0.8761509531369569"
            ]
          },
          "metadata": {
            "tags": []
          },
          "execution_count": 37
        }
      ]
    },
    {
      "cell_type": "markdown",
      "metadata": {
        "id": "4Me2VoQIIKCO"
      },
      "source": [
        "As can be seen as we add more estimators, the AUC score keeps on increasing, but there is a tapering off after the 30th tree"
      ]
    },
    {
      "cell_type": "code",
      "metadata": {
        "trusted": true,
        "colab": {
          "base_uri": "https://localhost:8080/",
          "height": 268
        },
        "id": "ZAPWCUk8IKCP",
        "outputId": "1a232c81-4eab-4b70-d6f0-4eec305a8ecb"
      },
      "source": [
        "plt.plot([roc_auc_score(valid_y, preds[:i+1].mean(0)) for i in range(40)]);"
      ],
      "execution_count": 38,
      "outputs": [
        {
          "output_type": "display_data",
          "data": {
            "image/png": "[encoded data removed]",
            "text/plain": [
              "<Figure size 432x288 with 1 Axes>"
            ]
          },
          "metadata": {
            "tags": [],
            "needs_background": "light"
          }
        }
      ]
    },
    {
      "cell_type": "markdown",
      "metadata": {
        "id": "Qz-xstbPIKCP"
      },
      "source": [
        "We saw how the model averages the individual tree's predictions to get an overall prediction—that is, an estimate of the value. But how can we know the confidence of the estimate? One simple way is to use the standard deviation of predictions across the trees, instead of just the mean. This tells us the relative confidence of predictions. In general, we would want to be more cautious of using the results for rows where trees give very different results (higher standard deviations), compared to cases where they are more consistent (lower standard deviations).\n",
        "\n",
        "In the earlier section on creating a random forest, we saw how to get predictions over the validation set, using a Python list comprehension to do this for each tree in the forest:"
      ]
    },
    {
      "cell_type": "code",
      "metadata": {
        "trusted": true,
        "colab": {
          "base_uri": "https://localhost:8080/"
        },
        "id": "DYz4zXwnIKCa",
        "outputId": "8046ffa6-dbbd-4d77-dd5a-40cc0b04924f"
      },
      "source": [
        "preds.shape"
      ],
      "execution_count": 39,
      "outputs": [
        {
          "output_type": "execute_result",
          "data": {
            "text/plain": [
              "(40, 60000)"
            ]
          },
          "metadata": {
            "tags": []
          },
          "execution_count": 39
        }
      ]
    },
    {
      "cell_type": "markdown",
      "metadata": {
        "id": "mbmKbUrnIKCa"
      },
      "source": [
        "Now we have a prediction for every tree and every auction (40 trees and 60k data points) in the validation set.\n",
        "\n",
        "Using this we can get the standard deviation of the predictions over all the trees, for each data point:"
      ]
    },
    {
      "cell_type": "code",
      "metadata": {
        "trusted": true,
        "colab": {
          "base_uri": "https://localhost:8080/"
        },
        "id": "Bd-OyDGvIKCb",
        "outputId": "eb1a106c-880a-4afe-b759-ee59cf1cac9f"
      },
      "source": [
        "preds_std = preds.std(0)\n",
        "preds_std[:5]"
      ],
      "execution_count": 40,
      "outputs": [
        {
          "output_type": "execute_result",
          "data": {
            "text/plain": [
              "array([0.15612495, 0.        , 0.        , 0.        , 0.26339134])"
            ]
          },
          "metadata": {
            "tags": []
          },
          "execution_count": 40
        }
      ]
    },
    {
      "cell_type": "markdown",
      "metadata": {
        "id": "chBO3i7tIKCb"
      },
      "source": [
        "## Feature Importance\n",
        "\n",
        "It's not normally enough just to know that a model can make accurate predictions—we also want to know how it's making predictions. feature importance gives us insight into this. We can get these directly from sklearn's random forest by looking in the `feature_importances_` attribute. Here's a simple function we can use to pop them into a DataFrame and sort them:"
      ]
    },
    {
      "cell_type": "code",
      "metadata": {
        "trusted": true,
        "id": "u08OYeqpIKCb"
      },
      "source": [
        "def rf_feat_importance(m, df):\n",
        "    return pd.DataFrame({'cols':df.columns, 'imp':m.feature_importances_}\n",
        "                       ).sort_values('imp', ascending=False)"
      ],
      "execution_count": 41,
      "outputs": []
    },
    {
      "cell_type": "code",
      "metadata": {
        "trusted": true,
        "colab": {
          "base_uri": "https://localhost:8080/",
          "height": 359
        },
        "id": "jD67-n2dIKCb",
        "outputId": "e629b6f0-6f2f-4a0a-a104-b2796ca85c09"
      },
      "source": [
        "fi = rf_feat_importance(m, xs)\n",
        "fi[:10]"
      ],
      "execution_count": 42,
      "outputs": [
        {
          "output_type": "execute_result",
          "data": {
            "text/html": [
              "<div>\n",
              "<style scoped>\n",
              "    .dataframe tbody tr th:only-of-type {\n",
              "        vertical-align: middle;\n",
              "    }\n",
              "\n",
              "    .dataframe tbody tr th {\n",
              "        vertical-align: top;\n",
              "    }\n",
              "\n",
              "    .dataframe thead th {\n",
              "        text-align: right;\n",
              "    }\n",
              "</style>\n",
              "<table border=\"1\" class=\"dataframe\">\n",
              "  <thead>\n",
              "    <tr style=\"text-align: right;\">\n",
              "      <th></th>\n",
              "      <th>cols</th>\n",
              "      <th>imp</th>\n",
              "    </tr>\n",
              "  </thead>\n",
              "  <tbody>\n",
              "    <tr>\n",
              "      <th>16</th>\n",
              "      <td>cat16</td>\n",
              "      <td>0.257942</td>\n",
              "    </tr>\n",
              "    <tr>\n",
              "      <th>15</th>\n",
              "      <td>cat15</td>\n",
              "      <td>0.083476</td>\n",
              "    </tr>\n",
              "    <tr>\n",
              "      <th>18</th>\n",
              "      <td>cat18</td>\n",
              "      <td>0.068109</td>\n",
              "    </tr>\n",
              "    <tr>\n",
              "      <th>25</th>\n",
              "      <td>cont5</td>\n",
              "      <td>0.058900</td>\n",
              "    </tr>\n",
              "    <tr>\n",
              "      <th>26</th>\n",
              "      <td>cont6</td>\n",
              "      <td>0.042264</td>\n",
              "    </tr>\n",
              "    <tr>\n",
              "      <th>21</th>\n",
              "      <td>cont1</td>\n",
              "      <td>0.037194</td>\n",
              "    </tr>\n",
              "    <tr>\n",
              "      <th>24</th>\n",
              "      <td>cont4</td>\n",
              "      <td>0.036112</td>\n",
              "    </tr>\n",
              "    <tr>\n",
              "      <th>22</th>\n",
              "      <td>cont2</td>\n",
              "      <td>0.035514</td>\n",
              "    </tr>\n",
              "    <tr>\n",
              "      <th>23</th>\n",
              "      <td>cont3</td>\n",
              "      <td>0.033570</td>\n",
              "    </tr>\n",
              "    <tr>\n",
              "      <th>28</th>\n",
              "      <td>cont8</td>\n",
              "      <td>0.032505</td>\n",
              "    </tr>\n",
              "  </tbody>\n",
              "</table>\n",
              "</div>"
            ],
            "text/plain": [
              "     cols       imp\n",
              "16  cat16  0.257942\n",
              "15  cat15  0.083476\n",
              "18  cat18  0.068109\n",
              "25  cont5  0.058900\n",
              "26  cont6  0.042264\n",
              "21  cont1  0.037194\n",
              "24  cont4  0.036112\n",
              "22  cont2  0.035514\n",
              "23  cont3  0.033570\n",
              "28  cont8  0.032505"
            ]
          },
          "metadata": {
            "tags": []
          },
          "execution_count": 42
        }
      ]
    },
    {
      "cell_type": "code",
      "metadata": {
        "trusted": true,
        "colab": {
          "base_uri": "https://localhost:8080/",
          "height": 431
        },
        "id": "PaIZa8hHIKCb",
        "outputId": "004d31ab-477a-468d-cb17-2e0ad5658dab"
      },
      "source": [
        "def plot_fi(fi):\n",
        "    return fi.plot('cols', 'imp', 'barh', figsize=(12,7), legend=False)\n",
        "\n",
        "plot_fi(fi[:32]);"
      ],
      "execution_count": 43,
      "outputs": [
        {
          "output_type": "display_data",
          "data": {
            "image/png": "[encoded data removed]",
            "text/plain": [
              "<Figure size 864x504 with 1 Axes>"
            ]
          },
          "metadata": {
            "tags": [],
            "needs_background": "light"
          }
        }
      ]
    },
    {
      "cell_type": "markdown",
      "metadata": {
        "id": "hQ51X25WIKCc"
      },
      "source": [
        "The way these importances are calculated is quite simple yet elegant. The feature importance algorithm loops through each tree, and then recursively explores each branch. At each branch, it looks to see what feature was used for that split, and how much the model improves as a result of that split. The improvement (weighted by the number of rows in that group) is added to the importance score for that feature. This is summed across all branches of all trees, and finally the scores are normalized such that they add to 1."
      ]
    },
    {
      "cell_type": "markdown",
      "metadata": {
        "id": "lHu5KEfsIKCc"
      },
      "source": [
        "We select the features which give normalized importance scores of > 0.005"
      ]
    },
    {
      "cell_type": "code",
      "metadata": {
        "trusted": true,
        "colab": {
          "base_uri": "https://localhost:8080/"
        },
        "id": "7bq4v11dIKCc",
        "outputId": "1c02b795-9411-420d-a5ce-0aa1a380efe0"
      },
      "source": [
        "# Keeping only the important variables\n",
        "to_keep = fi[fi.imp>0.005].cols\n",
        "len(to_keep)"
      ],
      "execution_count": 44,
      "outputs": [
        {
          "output_type": "execute_result",
          "data": {
            "text/plain": [
              "27"
            ]
          },
          "metadata": {
            "tags": []
          },
          "execution_count": 44
        }
      ]
    },
    {
      "cell_type": "code",
      "metadata": {
        "trusted": true,
        "colab": {
          "base_uri": "https://localhost:8080/"
        },
        "id": "2R_3wax4IKCc",
        "outputId": "9ab69e6b-fe06-4559-ef65-cf28aa89e8e1"
      },
      "source": [
        "%%time\n",
        "xs_imp = xs[to_keep]\n",
        "valid_xs_imp = valid_xs[to_keep]\n",
        "\n",
        "m = rf(xs_imp, y)\n",
        "\n",
        "y_test_score = get_auc_scores(m, xs_imp, valid_xs_imp, y, valid_y)"
      ],
      "execution_count": 45,
      "outputs": [
        {
          "output_type": "stream",
          "text": [
            " Training AUC: 0.983152832811294, Testing AUC: 0.8786427331517267\n",
            "CPU times: user 2min 52s, sys: 201 ms, total: 2min 52s\n",
            "Wall time: 1min 28s\n"
          ],
          "name": "stdout"
        }
      ]
    },
    {
      "cell_type": "markdown",
      "metadata": {
        "id": "r3iIi4o8IKCc"
      },
      "source": [
        "Though the AUC score has not improved, we have reduced the number of columns/\n"
      ]
    },
    {
      "cell_type": "code",
      "metadata": {
        "trusted": true,
        "colab": {
          "base_uri": "https://localhost:8080/"
        },
        "id": "EpeQVtJhIKCc",
        "outputId": "18432ab8-2733-498c-a642-c81041853e90"
      },
      "source": [
        "len(xs.columns), len(xs_imp.columns)"
      ],
      "execution_count": 46,
      "outputs": [
        {
          "output_type": "execute_result",
          "data": {
            "text/plain": [
              "(31, 27)"
            ]
          },
          "metadata": {
            "tags": []
          },
          "execution_count": 46
        }
      ]
    },
    {
      "cell_type": "code",
      "metadata": {
        "trusted": true,
        "colab": {
          "base_uri": "https://localhost:8080/",
          "height": 431
        },
        "id": "TrohsvUaIKCd",
        "outputId": "47a623ed-4a2c-4137-cad7-00b6130b0848"
      },
      "source": [
        "plot_fi(rf_feat_importance(m, xs_imp));"
      ],
      "execution_count": 47,
      "outputs": [
        {
          "output_type": "display_data",
          "data": {
            "image/png": "[encoded data removed]",
            "text/plain": [
              "<Figure size 864x504 with 1 Axes>"
            ]
          },
          "metadata": {
            "tags": [],
            "needs_background": "light"
          }
        }
      ]
    },
    {
      "cell_type": "markdown",
      "metadata": {
        "id": "snqW-Ip8IKCd"
      },
      "source": [
        "## Removing redundant features"
      ]
    },
    {
      "cell_type": "code",
      "metadata": {
        "trusted": true,
        "colab": {
          "base_uri": "https://localhost:8080/",
          "height": 377
        },
        "id": "1xXrpM-OIKCd",
        "outputId": "9b27176a-85cd-457e-e7ee-ffa7a468b001"
      },
      "source": [
        "cluster_columns(xs_imp)"
      ],
      "execution_count": 48,
      "outputs": [
        {
          "output_type": "display_data",
          "data": {
            "image/png": "[encoded data removed]",
            "text/plain": [
              "<Figure size 720x432 with 1 Axes>"
            ]
          },
          "metadata": {
            "tags": [],
            "needs_background": "light"
          }
        }
      ]
    },
    {
      "cell_type": "markdown",
      "metadata": {
        "id": "lW8oE4vEIKCd"
      },
      "source": [
        "* In this chart, the pairs of columns that are most similar are the ones that were merged together early, far from the \"root\" of the tree at the left.\n",
        "* These might be so closely correlated they are practically synonyms for each other\n",
        "* Let's try removing some of these closely related features to see if the model can be simplified without impacting the accuracy.\n",
        "* First, we create a function that quickly trains a random forest and returns the `oob_score_` score\n",
        "* we're just going to use it to compare different models, based on removing some of the possibly redundant columns\n"
      ]
    },
    {
      "cell_type": "code",
      "metadata": {
        "trusted": true,
        "id": "jgXOsvoQIKCd"
      },
      "source": [
        "def get_oob(df):\n",
        "    m = RandomForestClassifier(n_estimators=40, min_samples_leaf=15,\n",
        "        max_samples=50000, max_features=0.5, n_jobs=-1, oob_score=True)\n",
        "    m.fit(df, y)\n",
        "    return m.oob_score_"
      ],
      "execution_count": 49,
      "outputs": []
    },
    {
      "cell_type": "code",
      "metadata": {
        "trusted": true,
        "colab": {
          "base_uri": "https://localhost:8080/"
        },
        "id": "x0hJ1TMGIKCd",
        "outputId": "a6564ddf-3f65-4838-8086-47de3384fa48"
      },
      "source": [
        "get_oob(xs_imp) # This is our reference point "
      ],
      "execution_count": 50,
      "outputs": [
        {
          "output_type": "execute_result",
          "data": {
            "text/plain": [
              "0.8435291666666667"
            ]
          },
          "metadata": {
            "tags": []
          },
          "execution_count": 50
        }
      ]
    },
    {
      "cell_type": "code",
      "metadata": {
        "trusted": true,
        "colab": {
          "base_uri": "https://localhost:8080/"
        },
        "id": "jNrz93H6IKCe",
        "outputId": "2f09f022-1c43-4c22-df74-ba9ee0ba0abe"
      },
      "source": [
        "%%time\n",
        "{c:get_oob(xs_imp.drop(c, axis=1)) for c in (\n",
        "    'cont2', 'cont1', 'cont0', 'cont10', 'cat11', 'cat2', \n",
        "    'cont6', 'cont5', 'cat18', 'cat15', 'cat0', 'cat16')}"
      ],
      "execution_count": 51,
      "outputs": [
        {
          "output_type": "stream",
          "text": [
            "CPU times: user 8min 39s, sys: 1.5 s, total: 8min 40s\n",
            "Wall time: 4min 40s\n"
          ],
          "name": "stdout"
        },
        {
          "output_type": "execute_result",
          "data": {
            "text/plain": [
              "{'cat0': 0.8430083333333334,\n",
              " 'cat11': 0.8429041666666667,\n",
              " 'cat15': 0.842025,\n",
              " 'cat16': 0.8399958333333334,\n",
              " 'cat18': 0.8432958333333334,\n",
              " 'cat2': 0.8430833333333333,\n",
              " 'cont0': 0.8429875,\n",
              " 'cont1': 0.8434125,\n",
              " 'cont10': 0.8433791666666667,\n",
              " 'cont2': 0.8430041666666667,\n",
              " 'cont5': 0.8418833333333333,\n",
              " 'cont6': 0.8431708333333333}"
            ]
          },
          "metadata": {
            "tags": []
          },
          "execution_count": 51
        }
      ]
    },
    {
      "cell_type": "markdown",
      "metadata": {
        "id": "nOjhMeFQIKCe"
      },
      "source": [
        "* It seems that there is not much difference when you drop the variables (except for `cat16` ...which we have seen to have high feature importance)\n",
        "* Now let's try dropping multiple variables. We'll drop one from each of the tightly aligned pairs we noticed earlier. We will also use the result from the above \n",
        "\n",
        "And see what it does to our OOB scores:"
      ]
    },
    {
      "cell_type": "code",
      "metadata": {
        "trusted": true,
        "colab": {
          "base_uri": "https://localhost:8080/"
        },
        "id": "8OwDaEnXIKCe",
        "outputId": "cb4f11bb-409c-4581-a277-7b568ad2b9cb"
      },
      "source": [
        "%%time\n",
        "to_drop = ['cont1', 'cont10', 'cat2', 'cont6', 'cat0'] # The selection of these variables takes some trial & error\n",
        "                                                       # I checked the feature importance plot & the above oob_scores to\n",
        "                                                       # select the best set \n",
        "\n",
        "get_oob(xs_imp.drop(to_drop, axis=1))"
      ],
      "execution_count": 52,
      "outputs": [
        {
          "output_type": "stream",
          "text": [
            "CPU times: user 36.6 s, sys: 47.9 ms, total: 36.6 s\n",
            "Wall time: 19.8 s\n"
          ],
          "name": "stdout"
        }
      ]
    },
    {
      "cell_type": "markdown",
      "metadata": {
        "id": "j6WObl0hIKCe"
      },
      "source": [
        "Wow!! There is a slight drop in oob_scores but seems okay...and we can go ahead with dropping these columns"
      ]
    },
    {
      "cell_type": "code",
      "metadata": {
        "trusted": true,
        "colab": {
          "base_uri": "https://localhost:8080/"
        },
        "id": "i37HMX7rIKCe",
        "outputId": "ad15b38c-2b56-45e4-f9f2-14126fbc9406"
      },
      "source": [
        "xs_final = xs_imp.drop(to_drop, axis=1)\n",
        "valid_xs_final = valid_xs_imp.drop(to_drop, axis=1)\n",
        "\n",
        "m = rf(xs_final, y)\n",
        "y_test_score = get_auc_scores(m, xs_final, valid_xs_final, y, valid_y)"
      ],
      "execution_count": 53,
      "outputs": [
        {
          "output_type": "stream",
          "text": [
            " Training AUC: 0.9805052767364445, Testing AUC: 0.8750093888377096\n"
          ],
          "name": "stdout"
        }
      ]
    },
    {
      "cell_type": "code",
      "metadata": {
        "trusted": true,
        "colab": {
          "base_uri": "https://localhost:8080/"
        },
        "id": "ZN_vEfGPIKCe",
        "outputId": "fdc4f523-a52d-492a-81e7-661bb4999413"
      },
      "source": [
        "fi = rf_feat_importance(m, xs_final)\n",
        "print(fi[:10])"
      ],
      "execution_count": 54,
      "outputs": [
        {
          "output_type": "stream",
          "text": [
            "    cols       imp\n",
            "0  cat16  0.239888\n",
            "1  cat15  0.105977\n",
            "3  cont5  0.072137\n",
            "2  cat18  0.066062\n",
            "5  cont2  0.050495\n",
            "4  cont4  0.046512\n",
            "7  cont8  0.044874\n",
            "6  cont3  0.044267\n",
            "9  cont0  0.039967\n",
            "8  cont9  0.039442\n"
          ],
          "name": "stdout"
        }
      ]
    },
    {
      "cell_type": "code",
      "metadata": {
        "trusted": true,
        "colab": {
          "base_uri": "https://localhost:8080/",
          "height": 448
        },
        "id": "KkyttR9WIKCf",
        "outputId": "1aa40d76-b001-4efe-d0ac-c626db285285"
      },
      "source": [
        "plot_fi(fi)"
      ],
      "execution_count": 55,
      "outputs": [
        {
          "output_type": "execute_result",
          "data": {
            "text/plain": [
              "<matplotlib.axes._subplots.AxesSubplot at 0x7f6436c81890>"
            ]
          },
          "metadata": {
            "tags": []
          },
          "execution_count": 55
        },
        {
          "output_type": "display_data",
          "data": {
            "image/png": "[encoded data removed]",
            "text/plain": [
              "<Figure size 864x504 with 1 Axes>"
            ]
          },
          "metadata": {
            "tags": [],
            "needs_background": "light"
          }
        }
      ]
    },
    {
      "cell_type": "markdown",
      "metadata": {
        "id": "zrS2nCm1IKCf"
      },
      "source": [
        "## Partial Dependence Plots\n",
        "\n",
        "The top 5 variables as per the feature importance are. \n",
        "We will see if there are any relationships between them and the target variable:\n",
        "\n",
        "* cat16\n",
        "* cat15\n",
        "* cont5\n",
        "* cat18\n",
        "* cont2"
      ]
    },
    {
      "cell_type": "code",
      "metadata": {
        "trusted": true,
        "colab": {
          "base_uri": "https://localhost:8080/",
          "height": 285
        },
        "id": "zhcTvrDCIKCg",
        "outputId": "a2ac9009-91d0-43d4-a61c-ad41fb8ba70f"
      },
      "source": [
        "figure, axis = plt.subplots(1, 3) \n",
        "cat_columns_interest = ['cat15', 'cat16', 'cat18']\n",
        "for idx in range(3) :\n",
        "    p = valid_xs_final[cat_columns_interest[idx]].value_counts(sort=False).plot.barh(ax = axis[idx])\n",
        "    c = to.classes[cat_columns_interest[idx]]\n",
        "    #plt.yticks(range(len(c)), c)\n",
        "    axis[idx].set_title(f\"{cat_columns_interest[idx]}\");"
      ],
      "execution_count": 56,
      "outputs": [
        {
          "output_type": "display_data",
          "data": {
            "image/png": "[encoded data removed]",
            "text/plain": [
              "<Figure size 432x288 with 3 Axes>"
            ]
          },
          "metadata": {
            "tags": [],
            "needs_background": "light"
          }
        }
      ]
    },
    {
      "cell_type": "code",
      "metadata": {
        "trusted": true,
        "colab": {
          "base_uri": "https://localhost:8080/",
          "height": 285
        },
        "id": "EcPJ7YLbIKCg",
        "outputId": "fdbd845a-4438-4ef5-c968-e69214898e85"
      },
      "source": [
        "figure, axis = plt.subplots(1, 2) \n",
        "cont_columns_interest = ['cont2', 'cont5']\n",
        "for idx in range(2) :\n",
        "    p = valid_xs_final[cont_columns_interest[idx]].plot.hist(ax = axis[idx])\n",
        "    #plt.yticks(range(len(c)), c)\n",
        "    axis[idx].set_title(f\"{cont_columns_interest[idx]}\");"
      ],
      "execution_count": 57,
      "outputs": [
        {
          "output_type": "display_data",
          "data": {
            "image/png": "[encoded data removed]",
            "text/plain": [
              "<Figure size 432x288 with 2 Axes>"
            ]
          },
          "metadata": {
            "tags": [],
            "needs_background": "light"
          }
        }
      ]
    },
    {
      "cell_type": "markdown",
      "metadata": {
        "id": "QAzmTjBRIKCg"
      },
      "source": [
        "Partial dependence plots try to answer the question: if a row varied on nothing other than the feature in question, how would it impact the dependent variable?\n",
        "\n",
        "For example how does the change in `cat16` value impactthe `target` variable"
      ]
    },
    {
      "cell_type": "code",
      "metadata": {
        "trusted": true,
        "colab": {
          "base_uri": "https://localhost:8080/",
          "height": 285
        },
        "id": "51UBdVdPIKCg",
        "outputId": "5caf1808-8209-4085-d12f-6890fd9802f8"
      },
      "source": [
        "from sklearn.inspection import plot_partial_dependence\n",
        "\n",
        "fig,ax = plt.subplots(figsize=(12, 4))\n",
        "plot_partial_dependence(m, valid_xs_final, ['cat15','cat16'],\n",
        "                        grid_resolution=20, ax=ax);"
      ],
      "execution_count": 58,
      "outputs": [
        {
          "output_type": "display_data",
          "data": {
            "image/png": "[encoded data removed]",
            "text/plain": [
              "<Figure size 864x288 with 3 Axes>"
            ]
          },
          "metadata": {
            "tags": [],
            "needs_background": "light"
          }
        }
      ]
    },
    {
      "cell_type": "markdown",
      "metadata": {
        "id": "OoGy0RhRIKCg"
      },
      "source": [
        "The above plot shows that for larger values for `cat15` >>> its likely to move the probability closer to 1.0 \n",
        "\n",
        "However for `cat16` notice the peak & valley at  2.0 & 4.0 respectiely"
      ]
    },
    {
      "cell_type": "code",
      "metadata": {
        "trusted": true,
        "colab": {
          "base_uri": "https://localhost:8080/",
          "height": 285
        },
        "id": "wtMnAm1pIKCh",
        "outputId": "4da720d5-9736-4ec6-ac6b-ccdf70e2772d"
      },
      "source": [
        "from sklearn.inspection import plot_partial_dependence\n",
        "\n",
        "fig,ax = plt.subplots(figsize=(12, 4))\n",
        "plot_partial_dependence(m, valid_xs_final, ['cat16','cat18'],\n",
        "                        grid_resolution=20, ax=ax);"
      ],
      "execution_count": 59,
      "outputs": [
        {
          "output_type": "display_data",
          "data": {
            "image/png": "[encoded data removed]",
            "text/plain": [
              "<Figure size 864x288 with 3 Axes>"
            ]
          },
          "metadata": {
            "tags": [],
            "needs_background": "light"
          }
        }
      ]
    },
    {
      "cell_type": "markdown",
      "metadata": {
        "id": "R6lLNcH9IKCh"
      },
      "source": [
        "## Tree Interpretation"
      ]
    },
    {
      "cell_type": "code",
      "metadata": {
        "trusted": true,
        "id": "Xt40rlZVIKCh"
      },
      "source": [
        "#hide\n",
        "import warnings\n",
        "warnings.simplefilter('ignore', FutureWarning)\n",
        "\n",
        "from treeinterpreter import treeinterpreter\n",
        "from waterfall_chart import plot as waterfall"
      ],
      "execution_count": 61,
      "outputs": []
    },
    {
      "cell_type": "code",
      "metadata": {
        "trusted": true,
        "id": "o0raPG0mIKCh"
      },
      "source": [
        "row = valid_xs_final.iloc[:5]\n",
        "\n",
        "prediction,bias,contributions = treeinterpreter.predict(m, row.values)"
      ],
      "execution_count": 62,
      "outputs": []
    },
    {
      "cell_type": "code",
      "metadata": {
        "trusted": true,
        "colab": {
          "base_uri": "https://localhost:8080/"
        },
        "id": "yJhOx4HrIKCi",
        "outputId": "2279d3a0-eef6-4c2e-827d-540aa7f32c78"
      },
      "source": [
        "prediction[0], bias[0], contributions[0].sum()"
      ],
      "execution_count": 63,
      "outputs": [
        {
          "output_type": "execute_result",
          "data": {
            "text/plain": [
              "(array([0.9875, 0.0125]),\n",
              " array([0.73553537, 0.26446462]),\n",
              " -3.821812658011403e-17)"
            ]
          },
          "metadata": {
            "tags": []
          },
          "execution_count": 63
        }
      ]
    },
    {
      "cell_type": "code",
      "metadata": {
        "trusted": true,
        "colab": {
          "base_uri": "https://localhost:8080/"
        },
        "id": "i0SE-mZjIKCi",
        "outputId": "5014a306-401a-4c3f-b8b2-520859ffa6d8"
      },
      "source": [
        "# Needed this code block to understand splicing of 3D arrays\n",
        "contributions[0, :,  0].shape"
      ],
      "execution_count": 64,
      "outputs": [
        {
          "output_type": "execute_result",
          "data": {
            "text/plain": [
              "(22,)"
            ]
          },
          "metadata": {
            "tags": []
          },
          "execution_count": 64
        }
      ]
    },
    {
      "cell_type": "code",
      "metadata": {
        "trusted": true,
        "colab": {
          "base_uri": "https://localhost:8080/"
        },
        "id": "2jEWh0yRIKCi",
        "outputId": "a50da35f-c6d5-4d0f-b710-cf90097d7e93"
      },
      "source": [
        "valid_xs_final.columns"
      ],
      "execution_count": 65,
      "outputs": [
        {
          "output_type": "execute_result",
          "data": {
            "text/plain": [
              "Index(['cat16', 'cat15', 'cat18', 'cont5', 'cont4', 'cont2', 'cont3', 'cont8',\n",
              "       'cont9', 'cont0', 'id', 'cont7', 'cat14', 'cat1', 'cat7', 'cat8',\n",
              "       'cat10', 'cat4', 'cat11', 'cat6', 'cat17', 'cat9'],\n",
              "      dtype='object')"
            ]
          },
          "metadata": {
            "tags": []
          },
          "execution_count": 65
        }
      ]
    },
    {
      "cell_type": "code",
      "metadata": {
        "trusted": true,
        "colab": {
          "base_uri": "https://localhost:8080/",
          "height": 293
        },
        "id": "yo80G_LpIKCi",
        "outputId": "543beef4-d4b4-4546-af36-ce4e3628f0e7"
      },
      "source": [
        "#This is causing an error while saving\n",
        "waterfall(valid_xs_final.columns, contributions[0,:,1], threshold=0.08, \n",
        "          rotation_value=45, formatting='{:,.3f}');"
      ],
      "execution_count": 66,
      "outputs": [
        {
          "output_type": "display_data",
          "data": {
            "image/png": "[encoded data removed]",
            "text/plain": [
              "<Figure size 432x288 with 1 Axes>"
            ]
          },
          "metadata": {
            "tags": [],
            "needs_background": "light"
          }
        }
      ]
    },
    {
      "cell_type": "markdown",
      "metadata": {
        "id": "AMqP-I1cIKCi"
      },
      "source": [
        "**Note**: Predction for the first data point was 0 \n",
        "\n",
        "## Training a Neural Network\n",
        "\n",
        "\n",
        "...to do...."
      ]
    },
    {
      "cell_type": "code",
      "metadata": {
        "trusted": true,
        "id": "FsWK-APHIKCi"
      },
      "source": [
        ""
      ],
      "execution_count": 66,
      "outputs": []
    }
  ]
}